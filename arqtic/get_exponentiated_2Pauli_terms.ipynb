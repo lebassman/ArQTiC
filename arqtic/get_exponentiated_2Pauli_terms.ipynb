{
 "cells": [
  {
   "cell_type": "code",
   "execution_count": 20,
   "metadata": {},
   "outputs": [
    {
     "name": "stdout",
     "output_type": "stream",
     "text": [
      "CNOT 0 1\n",
      "RZ(0.469) 1\n",
      "CNOT 0 1\n",
      "\n",
      "1\n"
     ]
    }
   ],
   "source": [
    "import itertools\n",
    "from pyquil.paulis import PauliTerm, exponential_map\n",
    "coeff = 0.2345\n",
    "#initial hack to exponentiate operator:  convert A_ops to Pyquil PauliTerms\n",
    "#then use pyquil's exponential map function\n",
    "for s in itertools.product(['I', 'X', 'Y', 'Z'], repeat=2):\n",
    "    #print(s)\n",
    "    pt = PauliTerm(s[0], 0, coeff) * PauliTerm(s[1], 1, 1)\n",
    "    #print(pt)\n",
    "    exp_gate = exponential_map(pt)(1.0)\n",
    "print(exp_gate)\n",
    "print(int(str(exp_gate[2].qubits[1])))"
   ]
  },
  {
   "cell_type": "code",
   "execution_count": null,
   "metadata": {},
   "outputs": [],
   "source": []
  }
 ],
 "metadata": {
  "kernelspec": {
   "display_name": "Python 3",
   "language": "python",
   "name": "python3"
  },
  "language_info": {
   "codemirror_mode": {
    "name": "ipython",
    "version": 3
   },
   "file_extension": ".py",
   "mimetype": "text/x-python",
   "name": "python",
   "nbconvert_exporter": "python",
   "pygments_lexer": "ipython3",
   "version": "3.7.1"
  }
 },
 "nbformat": 4,
 "nbformat_minor": 4
}
