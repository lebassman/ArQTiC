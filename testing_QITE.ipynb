{
 "cells": [
  {
   "cell_type": "code",
   "execution_count": 1,
   "metadata": {},
   "outputs": [],
   "source": [
    "import numpy as np\n",
    "from arqtic import program, hamiltonians, QITE"
   ]
  },
  {
   "cell_type": "code",
   "execution_count": 2,
   "metadata": {},
   "outputs": [],
   "source": [
    "#define system variables\n",
    "N = 2 #number of qubits\n",
    "Jz = 0.1 #ising interaction strength\n",
    "mu_x = 0.3 #transverse magnetic field strength\n",
    "param_free_ham = hamiltonians.Ising_Hamiltonian(2, Jz, [mu_x, 0, 0]) #parameter-free Hamiltonian\n",
    "ising_ham0 = hamiltonians.Ising_Hamiltonian(2, Jz, [0.01, 0, 0]) #Hamiltonian at beginning of parameter sweep\n",
    "\n",
    "#define simulation variables\n",
    "tau = 10 #total trajectory time to evolve lambda from 0 to 1\n",
    "dtau = 1.0 #time-step for trajectory\n",
    "num_steps = int(tau/dtau)\n",
    "T = 10 #total number of trajectories\n",
    "dt =  dtau #timestep for Trotter approximation: setting equal to dtau means one trotter-step per time-step in evolution\n",
    "lamba_protocol = np.linspace((dtau/tau),1.0,num_steps)\n",
    "dldt = 0.1 # d(lambda)/d(tau)\n",
    "shots = 1000\n",
    "\n",
    "#define QITE variables\n",
    "beta = 2.0 #inverse temperature of systems\n",
    "dbeta = 0.2 #step-size in beta for QITE\n",
    "domain = 2 #domain of opertators for QITE"
   ]
  },
  {
   "cell_type": "code",
   "execution_count": 3,
   "metadata": {},
   "outputs": [
    {
     "name": "stdout",
     "output_type": "stream",
     "text": [
      "[0 0 1 0]\n"
     ]
    }
   ],
   "source": [
    "prog = program.Program(N)\n",
    "#Testing QITE\n",
    "measured_metts_state = program.random_bitstring(N)\n",
    "#print(measured_metts_state)\n",
    "psi0 = QITE.get_state_from_string(measured_metts_state)\n",
    "print(psi0)\n",
    "prog.make_QITE_prog(ising_ham0, beta/2.0, dbeta, domain, np.asarray(psi0), 1.0)\n"
   ]
  },
  {
   "cell_type": "code",
   "execution_count": 4,
   "metadata": {},
   "outputs": [
    {
     "name": "stdout",
     "output_type": "stream",
     "text": [
      "RX ( 1.5707963267948966 ) 1\n",
      "RZ ( 8.161565344792353e-05 ) 1\n",
      "RX ( -1.5707963267948966 ) 1\n",
      "RX ( 1.5707963267948966 ) 1\n",
      "RZ ( 7.828509543485007e-05 ) 1\n",
      "RX ( -1.5707963267948966 ) 1\n",
      "RX ( 1.5707963267948966 ) 1\n",
      "RZ ( 7.175980862037833e-05 ) 1\n",
      "RX ( -1.5707963267948966 ) 1\n",
      "RX ( 1.5707963267948966 ) 1\n",
      "RZ ( 6.230592576983267e-05 ) 1\n",
      "RX ( -1.5707963267948966 ) 1\n",
      "RX ( 1.5707963267948966 ) 1\n",
      "RZ ( 5.0309054329241744e-05 ) 1\n",
      "RX ( -1.5707963267948966 ) 1\n",
      "None\n"
     ]
    }
   ],
   "source": [
    "print(prog.print_list())"
   ]
  },
  {
   "cell_type": "code",
   "execution_count": null,
   "metadata": {},
   "outputs": [],
   "source": []
  }
 ],
 "metadata": {
  "kernelspec": {
   "display_name": "Python 3",
   "language": "python",
   "name": "python3"
  },
  "language_info": {
   "codemirror_mode": {
    "name": "ipython",
    "version": 3
   },
   "file_extension": ".py",
   "mimetype": "text/x-python",
   "name": "python",
   "nbconvert_exporter": "python",
   "pygments_lexer": "ipython3",
   "version": "3.7.1"
  }
 },
 "nbformat": 4,
 "nbformat_minor": 4
}
