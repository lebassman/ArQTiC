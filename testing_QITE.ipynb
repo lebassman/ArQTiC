{
 "cells": [
  {
   "cell_type": "code",
   "execution_count": 1,
   "metadata": {},
   "outputs": [],
   "source": [
    "import numpy as np\n",
    "from arqtic import program, hamiltonians, QITE"
   ]
  },
  {
   "cell_type": "code",
   "execution_count": 2,
   "metadata": {},
   "outputs": [],
   "source": [
    "#define system variables\n",
    "N = 1 #number of qubits\n",
    "Jz = -1/np.sqrt(2) #ising interaction strength\n",
    "mu_x = -Jz #transverse magnetic field strength\n",
    "param_free_ham = hamiltonians.Ising_Hamiltonian(N, Jz, [mu_x, 0, 0]) #parameter-free Hamiltonian\n",
    "#ising_ham0 = hamiltonians.Ising_Hamiltonian(N, Jz, [0.01, 0, 0]) #Hamiltonian at beginning of parameter sweep\n",
    "\n",
    "#define simulation variables\n",
    "#tau = 1 #total trajectory time to evolve lambda from 0 to 1\n",
    "#dtau = 1.0 #time-step for trajectory\n",
    "#num_steps = int(tau/dtau)\n",
    "#T = 10 #total number of trajectories\n",
    "#dt =  dtau #timestep for Trotter approximation: setting equal to dtau means one trotter-step per time-step in evolution\n",
    "#lamba_protocol = np.linspace((dtau/tau),1.0,num_steps)\n",
    "#dldt = 0.1 # d(lambda)/d(tau)\n",
    "#shots = 1000\n",
    "\n",
    "#define QITE variables\n",
    "beta = 2.0 #inverse temperature of systems\n",
    "dbeta = 0.5 #step-size in beta for QITE\n",
    "domain = 1 #domain of opertators for QITE"
   ]
  },
  {
   "cell_type": "code",
   "execution_count": 3,
   "metadata": {},
   "outputs": [
    {
     "name": "stdout",
     "output_type": "stream",
     "text": [
      "H is:  [[[0], [0, 0.7071067811865475, 0, 0]]]\n",
      "0\n",
      "exp_values is:  [1.0, 0.0, 0j, 1.0]\n",
      "norm is:  (1.0606601717798212+0j)\n",
      "Smat is:  [[2. 0. 0. 2.]\n",
      " [0. 2. 0. 0.]\n",
      " [0. 0. 2. 0.]\n",
      " [2. 0. 0. 2.]]\n",
      "bvec is:  [ 0.          0.         -0.66666667  0.        ]\n",
      "x is:  [-0.    -0.     0.332 -0.   ]\n",
      "psi is:  [ 0.94539237+0.j -0.32593446+0.j]\n",
      "1\n",
      "exp_values is:  [(0.9999999999999999+0j), (-0.6162719075445701+0j), 0j, (0.787533450699954+0j)]\n",
      "norm is:  (1.249307826310047+0j)\n",
      "Smat is:  [[ 2.         -1.23254382  0.          1.5750669 ]\n",
      " [-1.23254382  2.          0.          0.        ]\n",
      " [ 0.          0.          2.         -0.        ]\n",
      " [ 1.5750669   0.          0.          2.        ]]\n",
      "bvec is:  [ 0.          0.         -0.44574302  0.        ]\n",
      "x is:  [-0.         -0.          0.22153818 -0.        ]\n",
      "psi is:  [ 0.85066983+0.j -0.52570033+0.j]\n",
      "2\n",
      "exp_values is:  [(1+0j), (-0.8943948262845495+0j), 0j, (0.44727831907597576+0j)]\n",
      "norm is:  (1.3256819553437276+0j)\n",
      "Smat is:  [[ 2.         -1.78878965  0.          0.89455664]\n",
      " [-1.78878965  2.          0.          0.        ]\n",
      " [ 0.          0.          2.         -0.        ]\n",
      " [ 0.89455664  0.          0.          2.        ]]\n",
      "bvec is:  [ 0.          0.         -0.23857422  0.        ]\n",
      "x is:  [-0.         -0.          0.11795377 -0.        ]\n",
      "psi is:  [ 0.78289431+0.j -0.62215472+0.j]\n",
      "3\n",
      "exp_values is:  [(1+0j), (-0.974162782889066+0j), 0j, (0.22584701112441274+0j)]\n",
      "norm is:  (1.3467877003300919+0j)\n",
      "Smat is:  [[ 2.         -1.94832557  0.          0.45169402]\n",
      " [-1.94832557  2.          0.          0.        ]\n",
      " [ 0.          0.          2.         -0.        ]\n",
      " [ 0.45169402  0.          0.          2.        ]]\n",
      "bvec is:  [ 0.          0.         -0.11857693  0.        ]\n",
      "x is:  [-0.         -0.          0.05795513 -0.        ]\n",
      "psi is:  [ 0.74554301+0.j -0.66645751+0.j]\n",
      "Aops is:  [[[0], array([0.   , 0.   , 0.332, 0.   ])], [[0], array([0.        , 0.        , 0.22153818, 0.        ])], [[0], array([0.        , 0.        , 0.11795377, 0.        ])], [[0], array([0.        , 0.        , 0.05795513, 0.        ])]]\n"
     ]
    }
   ],
   "source": [
    "prog = program.Program(N)\n",
    "#Testing QITE\n",
    "#measured_metts_state = program.random_bitstring(N)\n",
    "#print(measured_metts_state)\n",
    "psi0 = [1,0]\n",
    "prog.make_QITE_prog(param_free_ham, beta, dbeta, domain, psi0, 1.0)\n"
   ]
  },
  {
   "cell_type": "code",
   "execution_count": null,
   "metadata": {},
   "outputs": [],
   "source": []
  },
  {
   "cell_type": "code",
   "execution_count": null,
   "metadata": {},
   "outputs": [],
   "source": []
  }
 ],
 "metadata": {
  "kernelspec": {
   "display_name": "Python 3",
   "language": "python",
   "name": "python3"
  },
  "language_info": {
   "codemirror_mode": {
    "name": "ipython",
    "version": 3
   },
   "file_extension": ".py",
   "mimetype": "text/x-python",
   "name": "python",
   "nbconvert_exporter": "python",
   "pygments_lexer": "ipython3",
   "version": "3.7.1"
  }
 },
 "nbformat": 4,
 "nbformat_minor": 4
}
