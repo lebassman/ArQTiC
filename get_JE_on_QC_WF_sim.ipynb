{
 "cells": [
  {
   "cell_type": "code",
   "execution_count": 1,
   "metadata": {},
   "outputs": [],
   "source": [
    "#import libraries and functions\n",
    "import numpy as np\n",
    "from arqtic.program import Program, random_bitstring\n",
    "from arqtic.hamiltonians import Ising_Hamiltonian\n",
    "from arqtic.arqtic_for_ibm import run_ibm\n",
    "import arqtic.QITE as qite\n",
    "import qiskit as qk\n",
    "from qiskit import Aer, IBMQ, execute\n",
    "import matplotlib.pyplot as plt"
   ]
  },
  {
   "cell_type": "code",
   "execution_count": 2,
   "metadata": {},
   "outputs": [],
   "source": [
    "#interfacing with IBM\n",
    "########################################\n",
    "#The following only needs to be run if this you very first time running this pynb, comment out all subsequent times\n",
    "#qk.IBMQ.save_account('API_token_here')\n",
    "#qk.IBMQ.load_account()\n",
    "########################################\n",
    "\n",
    "#set up simulator\n",
    "simulator = Aer.get_backend('statevector_simulator')\n",
    "#simulator = Aer.get_backend('qasm_simulator')\n",
    "#set optimization level for transpiler\n",
    "opt_level = 3"
   ]
  },
  {
   "cell_type": "code",
   "execution_count": 3,
   "metadata": {},
   "outputs": [],
   "source": [
    "#define post-processing functions\n",
    "#get amouot of work from QC results\n",
    "def get_work(results, shots):\n",
    "    work = 0\n",
    "    for result in results:\n",
    "        state_vec = result[0]\n",
    "        count = result[1]\n",
    "        work_comp = 0\n",
    "        for i in range(len(state_vec)):\n",
    "            if (state_vec[i] == 0):\n",
    "                work_comp += 1\n",
    "            else:\n",
    "                work_comp += -1\n",
    "        work_comp *= count\n",
    "        work += work_comp\n",
    "    work = work/shots\n",
    "    return work"
   ]
  },
  {
   "cell_type": "code",
   "execution_count": 19,
   "metadata": {},
   "outputs": [
    {
     "name": "stdout",
     "output_type": "stream",
     "text": [
      "[[ 1.  0.]\n",
      " [ 0. -1.]]\n"
     ]
    }
   ],
   "source": [
    "#define observable ZI + IZ\n",
    "Z = np.array([[1.0,0.0],[0.0,-1.0]])\n",
    "ZI = np.kron(Z, np.eye(2))\n",
    "IZ = np.kron(np.eye(2), Z)\n",
    "#two qubits\n",
    "#observable = ZI + IZ\n",
    "#one qubit\n",
    "observable = Z\n",
    "print(observable)"
   ]
  },
  {
   "cell_type": "code",
   "execution_count": 20,
   "metadata": {},
   "outputs": [],
   "source": [
    "def run_ibm_WF_sim(backend, prog, opt_level=1):\n",
    "    nqubits = prog.nqubits\n",
    "    #declare registers\n",
    "    q_regs = qk.QuantumRegister(nqubits, 'q')\n",
    "    c_regs = qk.ClassicalRegister(nqubits, 'c')\n",
    "    #make program into IBM circuit\n",
    "    ibm_circuit = qk.QuantumCircuit(q_regs, c_regs)\n",
    "    for gate in prog.gates:\n",
    "        #print(gate.name)\n",
    "        #print(gate.qubits)\n",
    "        #print(gate.angles)\n",
    "        if (gate.name == \"X\"):\n",
    "            ibm_circuit.x(gate.qubits)\n",
    "        if (gate.name == \"Y\"):\n",
    "            ibm_circuit.y(gate.qubits)\n",
    "        if (gate.name == \"Z\"):\n",
    "            ibm_circuit.z(gate.qubits)\n",
    "        if (gate.name == \"H\"):\n",
    "            ibm_circuit.h(gate.qubits)\n",
    "        if (gate.name == \"RZ\"):\n",
    "            ibm_circuit.rz(gate.angles[0], gate.qubits)\n",
    "        if (gate.name == \"RX\"):\n",
    "            ibm_circuit.rx(gate.angles[0], gate.qubits)\n",
    "        if (gate.name == \"CNOT\"):\n",
    "            ibm_circuit.cx(gate.qubits[0], gate.qubits[1])\n",
    "    ibm_circ = qk.transpile(ibm_circuit, backend=backend, optimization_level=opt_level)\n",
    "    #simulator execution\n",
    "    result = qk.execute(ibm_circ, backend).result()\n",
    "    statevector = result.get_statevector(ibm_circ)\n",
    "    return statevector"
   ]
  },
  {
   "cell_type": "code",
   "execution_count": 21,
   "metadata": {},
   "outputs": [
    {
     "name": "stdout",
     "output_type": "stream",
     "text": [
      "[1.         0.88888889 0.77777778 0.66666667 0.55555556 0.44444444\n",
      " 0.33333333 0.22222222 0.11111111 0.        ]\n",
      "-0.11111111111111116\n"
     ]
    }
   ],
   "source": [
    "#define system variables\n",
    "N = 1 #number of qubits\n",
    "Jz = 0.1 #ising interaction strength !!! Not used for 1-qubit\n",
    "mu_x = 0.3 #transverse magnetic field strength\n",
    "param_free_ham = Ising_Hamiltonian(N, Jz, [mu_x, 0, 0]) #parameter-free Hamiltonian\n",
    "ising_ham0 = Ising_Hamiltonian(N, Jz, [mu_x, 0, 0]) #Hamiltonian at beginning of parameter sweep\n",
    "\n",
    "#define simulation variables\n",
    "tau = 10 #total trajectory time to evolve lambda from 0 to 1\n",
    "dtau = 1.0 #time-step for trajectory\n",
    "num_steps = int(tau/dtau)\n",
    "T = 100 #total number of trajectories\n",
    "dt =  dtau #timestep for Trotter approximation: setting equal to dtau means one trotter-step per time-step in evolution\n",
    "lambda_protocol = np.linspace(1.0, 0,num_steps)\n",
    "print(lambda_protocol)\n",
    "dldt = (lambda_protocol[1]-lambda_protocol[0])/dtau # d(lambda)/d(tau)\n",
    "print(dldt) \n",
    "shots = 1000\n",
    "\n",
    "#define QITE variables\n",
    "beta = 4.0 #inverse temperature of systems\n",
    "dbeta = 0.2 #step-size in beta for QITE\n",
    "domain = 1 #domain of opertators for QITE"
   ]
  },
  {
   "cell_type": "code",
   "execution_count": 22,
   "metadata": {},
   "outputs": [
    {
     "name": "stdout",
     "output_type": "stream",
     "text": [
      "total work is:  (-0.004159035837471138+0j)\n"
     ]
    }
   ],
   "source": [
    "#create program to move to x-basis for measurement\n",
    "prog_xBasis = Program(N)\n",
    "prog_xBasis.get_x_basis_prog()\n",
    "\n",
    "#first state should be random\n",
    "measured_metts_state = random_bitstring(N)\n",
    "#subsequent entries are derived from running QMETTS on the previously derived\n",
    "#state and measuring a random observable to get the state for the subsequent run\n",
    "\n",
    "#need to sum work over each trajectory and then average over works\n",
    "work = []\n",
    "#loop over trajectories\n",
    "for i in range(T):\n",
    "    #print(i)\n",
    "    psi0 = qite.get_state_from_string(measured_metts_state)\n",
    "    #print(\"psi is: \", psi0)\n",
    "    prog_TS = Program(N)\n",
    "    prog_TS.make_ps_prog(measured_metts_state)\n",
    "    #print(measured_metts_state)\n",
    "    #print(\"PS circuit\")\n",
    "    #prog_TS.print_list()\n",
    "    prog_qite = Program(N)\n",
    "    #note QITE algorithm should evolve state by beta/2 for temperature beta\n",
    "    prog_qite.make_QITE_prog(ising_ham0, beta/2.0, dbeta, domain, np.asarray(psi0), 1.0)\n",
    "    #print(\"QITE circuit\")\n",
    "    #prog_qite.print_list()\n",
    "    prog_TS.append_program(prog_qite)\n",
    "    #print(\"TS circuit\")\n",
    "    #prog_TS.print_list()\n",
    "    #make and run qmetts program\n",
    "    prog_qmetts = Program(N)\n",
    "    prog_qmetts.append_program(prog_TS)\n",
    "    #make random measurement operator\n",
    "    if (i%2 == 0):\n",
    "        prog_qmetts.append_program(prog_xBasis)\n",
    "    #print(\"QMETTS circuit\")\n",
    "    #prog_qmetts.print_list()\n",
    "    #QMETTS_statevector = run_ibm_WF_sim(simulator, prog_qmetts, opt_level)\n",
    "    #print(\"QMETTS_statevector is\", QMETTS_statevector)\n",
    "    #collapse statevector\n",
    "    results = run_ibm(simulator, prog_qmetts, opt_level)\n",
    "    #update measured metts state for next trajectory\n",
    "    measured_metts_state = results[0][0]\n",
    "    #print(\"collapsed state is: \", measured_metts_state)\n",
    "    #make and run JE program\n",
    "    prog_JE = Program(N)\n",
    "    prog_JE.append_program(prog_TS)\n",
    "    #loop over time-steps in trajectory i\n",
    "    work_i = 0    \n",
    "    for step in range(num_steps):\n",
    "        #print(step)\n",
    "        #make Hamilton Evolution program for given time-step of given trajectory\n",
    "        prog_hamEvol = Program(N)\n",
    "        prog_hamEvol.make_hamEvol_prog(step, dtau, dt, lambda_protocol, param_free_ham)\n",
    "        #complete JE program: combing IPS preparation, QITE, and Hamiltonian evolution\n",
    "        prog_JE.append_program(prog_hamEvol)\n",
    "        prog_JE.append_program(prog_xBasis)\n",
    "        JE_statevector = run_ibm_WF_sim(simulator, prog_JE, opt_level)\n",
    "        #print(\"JE_statevector is: \", JE_statevector)\n",
    "        #how to get work with qasm_simulator:\n",
    "        #results = run_ibm(simulator, prog_JE, shots, opt_level)\n",
    "        #work_i += dldt*dtau*(-mu_x)*get_work(results, shots)\n",
    "        #how to get work with statevector simulator\n",
    "        expectation_value = np.dot(np.conj(JE_statevector), np.dot(observable, JE_statevector))\n",
    "        #print(\"expectation_value is: \",expectation_value)\n",
    "        work_i += expectation_value*(-mu_x)*dldt*dtau\n",
    "    work.append(work_i)\n",
    "    #print(\"work is: \", work_i)\n",
    "\n",
    "print(\"total work is: \", np.mean(work))\n",
    "\n",
    "#FE = get_free_energy(work)  !!This function not yet implemented"
   ]
  },
  {
   "cell_type": "code",
   "execution_count": 23,
   "metadata": {},
   "outputs": [
    {
     "name": "stdout",
     "output_type": "stream",
     "text": [
      "[(-0.005363096514744162+0j), (-0.0038389690751580545+0j), (-0.005363096514744162+0j), (-0.0038389690751580545+0j), (-0.005363096514744162+0j), (-0.0038389690751580545+0j), (-0.0038389690751580545+0j), (-0.0038389690751580545+0j), (-0.0038389690751580545+0j), (-0.0038389690751580545+0j), (-0.0038389690751580545+0j), (-0.005363096514744162+0j), (-0.005363096514744162+0j), (-0.0038389690751580545+0j), (-0.0038389690751580545+0j), (-0.0038389690751580545+0j), (-0.0038389690751580545+0j), (-0.005363096514744162+0j), (-0.005363096514744162+0j), (-0.0038389690751580545+0j), (-0.0038389690751580545+0j), (-0.0038389690751580545+0j), (-0.005363096514744162+0j), (-0.0038389690751580545+0j), (-0.0038389690751580545+0j), (-0.0038389690751580545+0j), (-0.0038389690751580545+0j), (-0.0038389690751580545+0j), (-0.0038389690751580545+0j), (-0.0038389690751580545+0j), (-0.0038389690751580545+0j), (-0.0038389690751580545+0j), (-0.005363096514744162+0j), (-0.0038389690751580545+0j), (-0.0038389690751580545+0j), (-0.0038389690751580545+0j), (-0.0038389690751580545+0j), (-0.0038389690751580545+0j), (-0.0038389690751580545+0j), (-0.0038389690751580545+0j), (-0.0038389690751580545+0j), (-0.0038389690751580545+0j), (-0.005363096514744162+0j), (-0.0038389690751580545+0j), (-0.0038389690751580545+0j), (-0.005363096514744162+0j), (-0.005363096514744162+0j), (-0.0038389690751580545+0j), (-0.0038389690751580545+0j), (-0.0038389690751580545+0j), (-0.0038389690751580545+0j), (-0.0038389690751580545+0j), (-0.0038389690751580545+0j), (-0.0038389690751580545+0j), (-0.0038389690751580545+0j), (-0.0038389690751580545+0j), (-0.0038389690751580545+0j), (-0.0038389690751580545+0j), (-0.0038389690751580545+0j), (-0.0038389690751580545+0j), (-0.0038389690751580545+0j), (-0.0038389690751580545+0j), (-0.0038389690751580545+0j), (-0.005363096514744162+0j), (-0.005363096514744162+0j), (-0.0038389690751580545+0j), (-0.0038389690751580545+0j), (-0.0038389690751580545+0j), (-0.0038389690751580545+0j), (-0.0038389690751580545+0j), (-0.0038389690751580545+0j), (-0.0038389690751580545+0j), (-0.005363096514744162+0j), (-0.0038389690751580545+0j), (-0.005363096514744162+0j), (-0.0038389690751580545+0j), (-0.0038389690751580545+0j), (-0.0038389690751580545+0j), (-0.0038389690751580545+0j), (-0.0038389690751580545+0j), (-0.0038389690751580545+0j), (-0.0038389690751580545+0j), (-0.005363096514744162+0j), (-0.0038389690751580545+0j), (-0.005363096514744162+0j), (-0.005363096514744162+0j), (-0.005363096514744162+0j), (-0.0038389690751580545+0j), (-0.0038389690751580545+0j), (-0.0038389690751580545+0j), (-0.0038389690751580545+0j), (-0.0038389690751580545+0j), (-0.0038389690751580545+0j), (-0.0038389690751580545+0j), (-0.005363096514744162+0j), (-0.0038389690751580545+0j), (-0.0038389690751580545+0j), (-0.0038389690751580545+0j), (-0.0038389690751580545+0j), (-0.0038389690751580545+0j)]\n"
     ]
    }
   ],
   "source": [
    "print(work)"
   ]
  },
  {
   "cell_type": "code",
   "execution_count": 24,
   "metadata": {},
   "outputs": [
    {
     "name": "stdout",
     "output_type": "stream",
     "text": [
      "(-0.004159807505548053+0j)\n"
     ]
    }
   ],
   "source": [
    "#free energy is \n",
    "work_sum = 0\n",
    "for i in range(T):\n",
    "    work_sum += np.exp(-beta*work[i])\n",
    "work_avg = work_sum/T\n",
    "free_eng = (-1/beta)*np.log(work_avg)\n",
    "print(free_eng)"
   ]
  },
  {
   "cell_type": "code",
   "execution_count": 21,
   "metadata": {},
   "outputs": [
    {
     "name": "stderr",
     "output_type": "stream",
     "text": [
      "/opt/anaconda3/envs/qiskit_env/lib/python3.8/site-packages/numpy/lib/histograms.py:851: ComplexWarning: Casting complex values to real discards the imaginary part\n",
      "  indices = f_indices.astype(np.intp)\n",
      "/opt/anaconda3/envs/qiskit_env/lib/python3.8/site-packages/numpy/core/_asarray.py:83: ComplexWarning: Casting complex values to real discards the imaginary part\n",
      "  return array(a, dtype, copy=False, order=order)\n",
      "/opt/anaconda3/envs/qiskit_env/lib/python3.8/site-packages/matplotlib/transforms.py:1966: ComplexWarning: Casting complex values to real discards the imaginary part\n",
      "  x, y = float(x), float(y)\n"
     ]
    },
    {
     "data": {
      "image/png": "[encoded data removed]",
      "text/plain": [
       "<Figure size 432x288 with 1 Axes>"
      ]
     },
     "metadata": {
      "needs_background": "light"
     },
     "output_type": "display_data"
    }
   ],
   "source": [
    "#plot data and save figure\n",
    "nbins = 10\n",
    "plt.xlabel('Work')\n",
    "plt.ylabel('Count')\n",
    "data_str = f\"N: {N} \"+\"\\n\"+f\"mu_x: {mu_x}\"+\"\\n\"+f\"beta: {beta}\"+\"\\n\"+f\"dbeta: {dbeta}\"+\"\\n\"+f\"T: {T}\"+\"\\n\"+f\"tau: {tau}\"+\"\\n\"+f\"dtau: {dtau}\" \n",
    "ax = plt.gca()\n",
    "ax.text(0.95, 0.95, data_str,\n",
    "        horizontalalignment='right',\n",
    "        verticalalignment='top',\n",
    "        transform=ax.transAxes)\n",
    "plt.hist(work, bins = nbins)\n",
    "\n",
    "#May or may not want to limit x-axis\n",
    "#plt.xlim(-0.1,0.1)\n",
    "fname = 'mu_x_{}_beta_{}_hist.png'.format(mu_x, beta)\n",
    "#plt.savefig(fname)\n",
    "plt.show()"
   ]
  },
  {
   "cell_type": "code",
   "execution_count": null,
   "metadata": {},
   "outputs": [],
   "source": []
  }
 ],
 "metadata": {
  "kernelspec": {
   "display_name": "Python 3",
   "language": "python",
   "name": "python3"
  },
  "language_info": {
   "codemirror_mode": {
    "name": "ipython",
    "version": 3
   },
   "file_extension": ".py",
   "mimetype": "text/x-python",
   "name": "python",
   "nbconvert_exporter": "python",
   "pygments_lexer": "ipython3",
   "version": "3.7.1"
  }
 },
 "nbformat": 4,
 "nbformat_minor": 4
}
