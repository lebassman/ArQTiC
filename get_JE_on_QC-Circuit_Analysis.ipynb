{
 "cells": [
  {
   "cell_type": "code",
   "execution_count": 1,
   "metadata": {},
   "outputs": [],
   "source": [
    "#import libraries and functions\n",
    "import numpy as np\n",
    "from arqtic.program import Program, random_bitstring\n",
    "from arqtic.hamiltonians import Ising_Hamiltonian\n",
    "from arqtic.arqtic_for_ibm import run_ibm, get_ibm_circuit\n",
    "import arqtic.QITE as qite\n",
    "import qiskit as qk\n",
    "from qiskit import Aer, IBMQ, execute\n",
    "import matplotlib.pyplot as plt"
   ]
  },
  {
   "cell_type": "code",
   "execution_count": 2,
   "metadata": {},
   "outputs": [],
   "source": [
    "#interfacing with IBM\n",
    "########################################\n",
    "#The following only needs to be run if this you very first time running this pynb, comment out all subsequent times\n",
    "#qk.IBMQ.save_account('API_token_here')\n",
    "#qk.IBMQ.load_account()\n",
    "########################################\n",
    "\n",
    "#set up simulator\n",
    "simulator = Aer.get_backend('qasm_simulator')\n",
    "#set optimization level for transpiler\n",
    "opt_level = 3"
   ]
  },
  {
   "cell_type": "code",
   "execution_count": 3,
   "metadata": {},
   "outputs": [],
   "source": [
    "#define post-processing functions\n",
    "#get amouot of work from QC results\n",
    "def get_work(results, shots):\n",
    "    work = 0\n",
    "    for result in results:\n",
    "        state_vec = result[0]\n",
    "        count = result[1]\n",
    "        work_comp = 0\n",
    "        for i in range(len(state_vec)):\n",
    "            if (state_vec[i] == 0):\n",
    "                work_comp += 1\n",
    "            else:\n",
    "                work_comp += -1\n",
    "        work_comp *= count\n",
    "        work += work_comp\n",
    "    work = work/shots\n",
    "    return work"
   ]
  },
  {
   "cell_type": "code",
   "execution_count": 31,
   "metadata": {},
   "outputs": [
    {
     "name": "stdout",
     "output_type": "stream",
     "text": [
      "[1.         0.88888889 0.77777778 0.66666667 0.55555556 0.44444444\n",
      " 0.33333333 0.22222222 0.11111111 0.        ]\n"
     ]
    }
   ],
   "source": [
    "#define system variables\n",
    "N = 3 #number of qubits\n",
    "Jz = 0.1 #ising interaction strength !!! Not used for 1-qubit\n",
    "mu_x = 0.3 #transverse magnetic field strength\n",
    "param_free_ham = Ising_Hamiltonian(N, Jz, [mu_x, 0, 0]) #parameter-free Hamiltonian\n",
    "ising_ham0 = Ising_Hamiltonian(N, Jz, [mu_x, 0, 0]) #Hamiltonian at beginning of parameter sweep\n",
    "\n",
    "#define simulation variables\n",
    "tau = 10 #total trajectory time to evolve lambda from 0 to 1\n",
    "dtau = 1.0 #time-step for trajectory\n",
    "num_steps = int(tau/dtau)\n",
    "T = 1 #total number of trajectories\n",
    "dt =  dtau #timestep for Trotter approx: setting equal to dtau means one trotter-step per time-step in evolution\n",
    "lambda_protocol = np.linspace(1.0, 0,num_steps)\n",
    "dldt = (lambda_protocol[1]-lambda_protocol[0])/dtau # d(lambda)/d(tau)\n",
    "print(lambda_protocol)\n",
    "#define QITE variables\n",
    "beta = 4.0 #inverse temperature of systems\n",
    "dbeta = 0.5 #step-size in beta for QITE\n",
    "domain = 3 #domain of opertators for QITE"
   ]
  },
  {
   "cell_type": "code",
   "execution_count": 32,
   "metadata": {},
   "outputs": [
    {
     "name": "stdout",
     "output_type": "stream",
     "text": [
      "QMETTS circuit pre-compiliation\n",
      "OrderedDict([('rx', 46), ('rz', 27), ('h', 15), ('cx', 14), ('x', 1)])\n",
      "QMETTS circuit post-compiliation\n",
      "OrderedDict([('cx', 10), ('u3', 7), ('u2', 6), ('u1', 6)])\n",
      "0\n",
      "1\n",
      "2\n",
      "3\n",
      "4\n",
      "5\n",
      "6\n",
      "7\n",
      "8\n",
      "9\n"
     ]
    }
   ],
   "source": [
    "#create program to move to x-basis for measurement\n",
    "prog_xBasis = Program(N)\n",
    "prog_xBasis.get_x_basis_prog()\n",
    "\n",
    "#first state should be random\n",
    "measured_metts_state = random_bitstring(N)\n",
    "#subsequent entries are derived from running QMETTS on the previously derived\n",
    "#state and measuring a random observable to get the state for the subsequent run\n",
    "\n",
    "#need to sum work over each trajectory and then average over works\n",
    "work = []\n",
    "#loop over trajectories\n",
    "for i in range(T):\n",
    "    #print(i)\n",
    "    psi0 = qite.get_state_from_string(measured_metts_state)\n",
    "    prog_TS = Program(N)\n",
    "    prog_TS.make_ps_prog(measured_metts_state)\n",
    "    prog_qite = Program(N)\n",
    "    #note QITE algorithm should evolve state by beta/2 for temperature beta\n",
    "    prog_qite.make_QITE_prog(ising_ham0, beta/2.0, dbeta, domain, np.asarray(psi0), 1.0)\n",
    "    prog_TS.append_program(prog_qite)\n",
    "    #make and run qmetts program\n",
    "    prog_qmetts = Program(N)\n",
    "    prog_qmetts.append_program(prog_TS)\n",
    "    #make random measurement operator\n",
    "    if (i%2 == 0):\n",
    "        prog_qmetts.append_program(prog_xBasis)\n",
    "    #get gate counts for QMETTS circuit\n",
    "    QMETTS_ibm_circuit = get_ibm_circuit(simulator, prog_qmetts, transpile=False)\n",
    "    QMETTS_ibm_circ = get_ibm_circuit(simulator, prog_qmetts, transpile=True, opt_level=3)\n",
    "    print(\"QMETTS circuit pre-compiliation\")\n",
    "    print(QMETTS_ibm_circuit.count_ops())\n",
    "    print(\"QMETTS circuit post-compiliation\")\n",
    "    print(QMETTS_ibm_circ.count_ops())\n",
    "    #print(\"QMETTS circuit\")\n",
    "    #prog_qmetts.print_list()\n",
    "    results = run_ibm(simulator, prog_qmetts,1)\n",
    "    #update measured metts state for next trajectory\n",
    "    measured_metts_state = results[0][0]\n",
    "    #make and run JE program\n",
    "    prog_JE = Program(N)\n",
    "    prog_JE.append_program(prog_TS)\n",
    "    #loop over time-steps in trajectory i\n",
    "    work_i = 0\n",
    "    gate_dict_array_pre = []\n",
    "    gate_dict_array_post1 = []\n",
    "    gate_dict_array_post3 = []\n",
    "    for step in range(num_steps):\n",
    "        print(step)\n",
    "        #make Hamilton Evolution program for given time-step of given trajectory\n",
    "        prog_hamEvol = Program(N)\n",
    "        prog_hamEvol.make_hamEvol_prog(step, dtau, dt, lambda_protocol, param_free_ham)\n",
    "        #complete JE program: combing IPS preparation, QITE, and Hamiltonian evolution\n",
    "        prog_JE.append_program(prog_hamEvol)\n",
    "        prog_JE.append_program(prog_xBasis)\n",
    "        #get prog_JE as an IBM circuit\n",
    "        JE_ibm_circuit = get_ibm_circuit(simulator, prog_JE, transpile=False)\n",
    "        JE_ibm_circ_opt1 = get_ibm_circuit(simulator, prog_JE, transpile=True, opt_level=1)\n",
    "        JE_ibm_circ_opt3 = get_ibm_circuit(simulator, prog_JE, transpile=True, opt_level=3)\n",
    "        gate_dict_array_pre.append(JE_ibm_circuit.count_ops())\n",
    "        gate_dict_array_post1.append(JE_ibm_circ_opt1.count_ops())\n",
    "        gate_dict_array_post3.append(JE_ibm_circ_opt3.count_ops())\n"
   ]
  },
  {
   "cell_type": "code",
   "execution_count": 33,
   "metadata": {},
   "outputs": [
    {
     "name": "stdout",
     "output_type": "stream",
     "text": [
      "805\n"
     ]
    }
   ],
   "source": [
    "print(len(prog_JE.gates))"
   ]
  },
  {
   "cell_type": "code",
   "execution_count": 34,
   "metadata": {},
   "outputs": [
    {
     "name": "stdout",
     "output_type": "stream",
     "text": [
      "805\n",
      "443\n",
      "431\n"
     ]
    }
   ],
   "source": [
    "print(len(JE_ibm_circuit))\n",
    "print(len(JE_ibm_circ_opt1))\n",
    "print(len(JE_ibm_circ_opt3))"
   ]
  },
  {
   "cell_type": "code",
   "execution_count": 35,
   "metadata": {},
   "outputs": [
    {
     "name": "stdout",
     "output_type": "stream",
     "text": [
      "[OrderedDict([('rx', 46), ('rz', 27), ('h', 15), ('cx', 14), ('x', 1)]), OrderedDict([('rx', 46), ('rz', 32), ('h', 24), ('cx', 18), ('x', 1)]), OrderedDict([('rx', 46), ('rz', 42), ('h', 39), ('cx', 26), ('x', 1)]), OrderedDict([('h', 60), ('rz', 57), ('rx', 46), ('cx', 38), ('x', 1)]), OrderedDict([('h', 87), ('rz', 77), ('cx', 54), ('rx', 46), ('x', 1)]), OrderedDict([('h', 120), ('rz', 102), ('cx', 74), ('rx', 46), ('x', 1)]), OrderedDict([('h', 159), ('rz', 132), ('cx', 98), ('rx', 46), ('x', 1)]), OrderedDict([('h', 204), ('rz', 167), ('cx', 126), ('rx', 46), ('x', 1)]), OrderedDict([('h', 255), ('rz', 207), ('cx', 158), ('rx', 46), ('x', 1)]), OrderedDict([('h', 312), ('rz', 252), ('cx', 194), ('rx', 46), ('x', 1)])]\n",
      "[OrderedDict([('cx', 14), ('u2', 10), ('u1', 10), ('u3', 4)]), OrderedDict([('cx', 18), ('u1', 12), ('u2', 11), ('u3', 6)]), OrderedDict([('cx', 26), ('u1', 16), ('u2', 14), ('u3', 9)]), OrderedDict([('cx', 38), ('u1', 22), ('u2', 17), ('u3', 15)]), OrderedDict([('cx', 54), ('u1', 30), ('u3', 24), ('u2', 20)]), OrderedDict([('cx', 74), ('u1', 40), ('u3', 36), ('u2', 23)]), OrderedDict([('cx', 98), ('u1', 52), ('u3', 51), ('u2', 26)]), OrderedDict([('cx', 126), ('u3', 69), ('u1', 66), ('u2', 29)]), OrderedDict([('cx', 158), ('u3', 90), ('u1', 82), ('u2', 32)]), OrderedDict([('cx', 194), ('u3', 114), ('u1', 100), ('u2', 35)])]\n",
      "[OrderedDict([('cx', 10), ('u3', 7), ('u2', 6), ('u1', 6)]), OrderedDict([('cx', 12), ('u3', 11), ('u2', 7), ('u1', 5)]), OrderedDict([('cx', 20), ('u3', 15), ('u2', 9), ('u1', 9)]), OrderedDict([('cx', 32), ('u3', 21), ('u1', 15), ('u2', 12)]), OrderedDict([('cx', 48), ('u3', 30), ('u1', 23), ('u2', 15)]), OrderedDict([('cx', 68), ('u3', 42), ('u1', 33), ('u2', 18)]), OrderedDict([('cx', 92), ('u3', 57), ('u1', 45), ('u2', 21)]), OrderedDict([('cx', 120), ('u3', 75), ('u1', 59), ('u2', 24)]), OrderedDict([('cx', 152), ('u3', 96), ('u1', 75), ('u2', 27)]), OrderedDict([('cx', 188), ('u3', 120), ('u1', 93), ('u2', 30)])]\n"
     ]
    }
   ],
   "source": [
    "print(gate_dict_array_pre)\n",
    "print(gate_dict_array_post1)\n",
    "print(gate_dict_array_post3)"
   ]
  },
  {
   "cell_type": "code",
   "execution_count": null,
   "metadata": {},
   "outputs": [],
   "source": []
  },
  {
   "cell_type": "code",
   "execution_count": null,
   "metadata": {},
   "outputs": [],
   "source": []
  },
  {
   "cell_type": "code",
   "execution_count": 13,
   "metadata": {},
   "outputs": [],
   "source": [
    "#save data to file\n",
    "fname = 'mu_x_{}_beta_{}_hist.csv'.format(mu_x, beta)\n",
    "f = open(fname, 'w')\n",
    "f.write(\"N: \"+ str(N) + '\\n')\n",
    "f.write(\"mu_x: \"+ str(mu_x) + '\\n')\n",
    "f.write(\"beta: \"+ str(beta) + '\\n')\n",
    "f.write(\"dbeta: \"+ str(dbeta) + '\\n')\n",
    "f.write(\"T: \"+ str(T) + '\\n')\n",
    "f.write(\"tau: \"+ str(tau) + '\\n')\n",
    "f.write(\"dtau: \"+ str(dtau) + '\\n')\n",
    "\n",
    "np.savetxt(f, work, delimiter=',')"
   ]
  },
  {
   "cell_type": "code",
   "execution_count": 55,
   "metadata": {},
   "outputs": [
    {
     "data": {
      "image/png": "[encoded data removed]",
      "text/plain": [
       "<Figure size 432x288 with 1 Axes>"
      ]
     },
     "metadata": {
      "needs_background": "light"
     },
     "output_type": "display_data"
    }
   ],
   "source": [
    "#plot data and save figure\n",
    "nbins = 100\n",
    "plt.xlabel('Work')\n",
    "plt.ylabel('Count')\n",
    "data_str = f\"N: {N} \"+\"\\n\"+f\"mu_x: {mu_x}\"+\"\\n\"+f\"beta: {beta}\"+\"\\n\"+f\"dbeta: {dbeta}\"+\"\\n\"+f\"T: {T}\"+\"\\n\"+f\"tau: {tau}\"+\"\\n\"+f\"dtau: {dtau}\" \n",
    "ax = plt.gca()\n",
    "ax.text(0.95, 0.95, data_str,\n",
    "        horizontalalignment='right',\n",
    "        verticalalignment='top',\n",
    "        transform=ax.transAxes)\n",
    "plt.hist(work, bins = nbins)\n",
    "\n",
    "#May or may not want to limit x-axis\n",
    "plt.xlim(-0.1,0.1)\n",
    "fname = 'mu_x_{}_beta_{}_hist.png'.format(mu_x, beta)\n",
    "plt.savefig(fname)\n",
    "plt.show()"
   ]
  },
  {
   "cell_type": "code",
   "execution_count": null,
   "metadata": {},
   "outputs": [],
   "source": []
  }
 ],
 "metadata": {
  "kernelspec": {
   "display_name": "Python 3",
   "language": "python",
   "name": "python3"
  },
  "language_info": {
   "codemirror_mode": {
    "name": "ipython",
    "version": 3
   },
   "file_extension": ".py",
   "mimetype": "text/x-python",
   "name": "python",
   "nbconvert_exporter": "python",
   "pygments_lexer": "ipython3",
   "version": "3.7.1"
  }
 },
 "nbformat": 4,
 "nbformat_minor": 4
}
