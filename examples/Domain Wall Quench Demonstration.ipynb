{
 "cells": [
  {
   "cell_type": "markdown",
   "metadata": {},
   "source": [
    "# 1) Imports"
   ]
  },
  {
   "cell_type": "code",
   "execution_count": 1,
   "metadata": {
    "scrolled": false
   },
   "outputs": [],
   "source": [
    "import sys\n",
    "sys.path.insert(1, '/mnt/c/Users/conno/Documents/GitHub/MISTIQS/src')\n",
    "\n",
    "#import DS compiler module\n",
    "from ds_compiler import ds_compile\n",
    "#import module defining local circuits and gates\n",
    "import quantum_circuits\n",
    "#import Heisenberg circuit generation module\n",
    "from Heisenberg import Heisenberg"
   ]
  },
  {
   "cell_type": "markdown",
   "metadata": {},
   "source": [
    "# 2) Create Heisenberg object\n",
    "This object solely takes in your input file, so it contains the information about the system you are simulating and your preferences including backend choice, compilation method, and others."
   ]
  },
  {
   "cell_type": "code",
   "execution_count": 2,
   "metadata": {
    "scrolled": true
   },
   "outputs": [
    {
     "name": "stderr",
     "output_type": "stream",
     "text": [
      "configrc.store_credentials:WARNING:2020-08-29 15:57:08,438: Credentials already present. Set overwrite=True to overwrite.\n"
     ]
    }
   ],
   "source": [
    "#Let's create a list of circuits to run through the DS compiler using the circuit generation portion of the software.\n",
    "\n",
    "#First, create the Heisenberg object using the parameters specified in the input file. This defines the system to simulate\n",
    "#and allows for the generation of circuits to simulate the time evolution of this system.\n",
    "test_object=Heisenberg(\"domain_wall_input_file.txt\")\n",
    "\n",
    "\n",
    "\n",
    "#Because we are working in the IBM backend in this example, run the connect_IBM() method of the object to connect to IBM's\n",
    "#backend. This is required for both compilation and circuit execution, if desired.\n",
    "\n",
    "#First time user of IBM's Quantum Experience API? Run the line below\n",
    "test_object.connect_IBM(api_key=\"insert your IBM Quantum Experience API key here\")\n",
    "\n",
    "#If you already run IBM Quantum Experience API jobs, you can run the connect_IBM() method with no arguments passed.\n",
    "\n",
    "\n",
    "    \n"
   ]
  },
  {
   "cell_type": "markdown",
   "metadata": {},
   "source": [
    "# 3) Generate Quantum Circuits for Quantum Simulation of Your Physical System"
   ]
  },
  {
   "cell_type": "code",
   "execution_count": 3,
   "metadata": {},
   "outputs": [
    {
     "name": "stdout",
     "output_type": "stream",
     "text": [
      "Generating timestep 0 circuit\n",
      "Generating timestep 1 circuit\n",
      "Generating timestep 2 circuit\n",
      "Generating timestep 3 circuit\n",
      "Generating timestep 4 circuit\n",
      "Generating timestep 5 circuit\n",
      "Generating timestep 6 circuit\n",
      "Generating timestep 7 circuit\n",
      "Generating timestep 8 circuit\n",
      "Generating timestep 9 circuit\n",
      "Generating timestep 10 circuit\n",
      "Generating timestep 11 circuit\n",
      "Generating timestep 12 circuit\n",
      "Generating timestep 13 circuit\n",
      "Generating timestep 14 circuit\n",
      "Generating timestep 15 circuit\n",
      "Generating timestep 16 circuit\n",
      "Generating timestep 17 circuit\n",
      "Generating timestep 18 circuit\n",
      "Generating timestep 19 circuit\n",
      "Generating timestep 20 circuit\n",
      "Generating timestep 21 circuit\n",
      "Generating timestep 22 circuit\n",
      "Generating timestep 23 circuit\n",
      "Generating timestep 24 circuit\n",
      "Generating timestep 25 circuit\n",
      "Generating timestep 26 circuit\n",
      "Generating timestep 27 circuit\n",
      "Generating timestep 28 circuit\n",
      "Generating timestep 29 circuit\n",
      "Generating timestep 30 circuit\n",
      "Generating timestep 31 circuit\n",
      "Generating timestep 32 circuit\n",
      "Generating timestep 33 circuit\n",
      "Generating timestep 34 circuit\n",
      "Generating timestep 35 circuit\n",
      "Generating timestep 36 circuit\n",
      "Generating timestep 37 circuit\n",
      "Generating timestep 38 circuit\n",
      "Generating timestep 39 circuit\n",
      "Generating timestep 40 circuit\n",
      "Generating timestep 41 circuit\n",
      "Generating timestep 42 circuit\n",
      "Generating timestep 43 circuit\n",
      "Generating timestep 44 circuit\n",
      "Generating timestep 45 circuit\n",
      "Generating timestep 46 circuit\n",
      "Generating timestep 47 circuit\n",
      "Generating timestep 48 circuit\n",
      "Generating timestep 49 circuit\n",
      "Generating timestep 50 circuit\n",
      "Creating IBM quantum circuit objects...\n",
      "IBM quantum circuit objects created\n",
      "Transpiling circuits...\n",
      "Circuits transpiled successfully\n"
     ]
    }
   ],
   "source": [
    "test_object.generate_circuits()"
   ]
  },
  {
   "cell_type": "markdown",
   "metadata": {},
   "source": [
    "# 4) Run the Quantum Circuits on Your Selected Quantum Device and Post-Process the Results"
   ]
  },
  {
   "cell_type": "code",
   "execution_count": 4,
   "metadata": {},
   "outputs": [
    {
     "name": "stdout",
     "output_type": "stream",
     "text": [
      "Running noiseless simulator job...\n",
      "Noiseless simulator job successful\n",
      "Post-processing qubit 1 data\n",
      "Post-processing qubit 2 data\n",
      "Post-processing qubit 3 data\n",
      "Post-processing qubit 4 data\n",
      "Post-processing qubit 5 data\n",
      "Post-processing qubit 6 data\n",
      "Done\n"
     ]
    }
   ],
   "source": [
    "test_object.run_circuits()"
   ]
  }
 ],
 "metadata": {
  "kernelspec": {
   "display_name": "Python (qcompiler_laptop)",
   "language": "python",
   "name": "qcompiler_laptop"
  },
  "language_info": {
   "codemirror_mode": {
    "name": "ipython",
    "version": 3
   },
   "file_extension": ".py",
   "mimetype": "text/x-python",
   "name": "python",
   "nbconvert_exporter": "python",
   "pygments_lexer": "ipython3",
   "version": "3.7.7"
  }
 },
 "nbformat": 4,
 "nbformat_minor": 2
}
