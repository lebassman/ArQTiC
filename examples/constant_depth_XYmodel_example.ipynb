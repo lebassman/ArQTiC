{
 "cells": [
  {
   "cell_type": "code",
   "execution_count": 1,
   "metadata": {},
   "outputs": [],
   "source": [
    "import sys\n",
    "sys.path.append('/Users/lindsaybassman/Documents/LBL/ArQTiC')\n",
    "from arqtic.simulation_generator import Simulation_Generator"
   ]
  },
  {
   "cell_type": "code",
   "execution_count": 8,
   "metadata": {},
   "outputs": [],
   "source": [
    "#create simulation object\n",
    "sim_obj = Simulation_Generator(\"XY_input.txt\")"
   ]
  },
  {
   "cell_type": "code",
   "execution_count": 9,
   "metadata": {},
   "outputs": [
    {
     "name": "stderr",
     "output_type": "stream",
     "text": [
      "ibmqfactory.load_account:WARNING:2021-04-28 22:37:48,105: Credentials are already in use. The existing account in the session will be replaced.\n"
     ]
    }
   ],
   "source": [
    "#connect to IBM\n",
    "#if this is your first run enter your API key\n",
    "#sim_obj.connect_IBM(api_key=\"your_key_here\")\n",
    "sim_obj.connect_IBM()"
   ]
  },
  {
   "cell_type": "code",
   "execution_count": 10,
   "metadata": {},
   "outputs": [
    {
     "name": "stdout",
     "output_type": "stream",
     "text": [
      "Generating timestep 0 program\n",
      "Generating timestep 1 program\n",
      "9.992007221626409e-16\n",
      "Got distance 9.992007221626409e-16\n",
      "Generating timestep 2 program\n",
      "1.5543122344752192e-15\n",
      "Got distance 1.5543122344752192e-15\n",
      "Generating timestep 3 program\n",
      "2.220446049250313e-15\n",
      "Got distance 2.220446049250313e-15\n",
      "Generating timestep 4 program\n",
      "3.774758283725532e-15\n",
      "Got distance 3.774758283725532e-15\n",
      "Generating timestep 5 program\n",
      "4.884981308350689e-15\n",
      "Got distance 4.884981308350689e-15\n",
      "Generating timestep 6 program\n",
      "5.662137425588298e-15\n",
      "Got distance 5.662137425588298e-15\n",
      "Generating timestep 7 program\n",
      "6.439293542825908e-15\n",
      "Got distance 6.439293542825908e-15\n",
      "Generating timestep 8 program\n",
      "7.327471962526033e-15\n",
      "Got distance 7.327471962526033e-15\n",
      "Generating timestep 9 program\n",
      "7.882583474838611e-15\n",
      "Got distance 7.882583474838611e-15\n",
      "Generating timestep 10 program\n",
      "9.325873406851315e-15\n",
      "Got distance 9.325873406851315e-15\n",
      "Generating timestep 11 program\n",
      "9.547918011776346e-15\n",
      "Got distance 9.547918011776346e-15\n",
      "Generating timestep 12 program\n",
      "1.1324274851176597e-14\n",
      "Got distance 1.1324274851176597e-14\n",
      "Generating timestep 13 program\n",
      "1.199040866595169e-14\n",
      "Got distance 1.199040866595169e-14\n",
      "Generating timestep 14 program\n",
      "1.3100631690576847e-14\n",
      "Got distance 1.3100631690576847e-14\n",
      "Generating timestep 15 program\n",
      "1.3988810110276972e-14\n",
      "Got distance 1.3988810110276972e-14\n",
      "Generating timestep 16 program\n",
      "1.532107773982716e-14\n",
      "Got distance 1.532107773982716e-14\n",
      "Generating timestep 17 program\n",
      "1.5654144647214707e-14\n",
      "Got distance 1.5654144647214707e-14\n",
      "Generating timestep 18 program\n",
      "1.6653345369377348e-14\n",
      "Got distance 1.6653345369377348e-14\n",
      "Generating timestep 19 program\n",
      "1.7541523789077473e-14\n",
      "Got distance 1.7541523789077473e-14\n",
      "Generating timestep 20 program\n",
      "1.7985612998927536e-14\n",
      "Got distance 1.7985612998927536e-14\n",
      "Generating timestep 21 program\n",
      "1.9317880628477724e-14\n",
      "Got distance 1.9317880628477724e-14\n",
      "Generating timestep 22 program\n",
      "2.0317081350640365e-14\n",
      "Got distance 2.0317081350640365e-14\n",
      "Generating timestep 23 program\n",
      "2.1094237467877974e-14\n",
      "Got distance 2.1094237467877974e-14\n",
      "Generating timestep 24 program\n",
      "2.1538326677728037e-14\n",
      "Got distance 2.1538326677728037e-14\n",
      "Generating timestep 25 program\n",
      "2.2648549702353193e-14\n",
      "Got distance 2.2648549702353193e-14\n",
      "Generating timestep 26 program\n",
      "2.3647750424515834e-14\n",
      "Got distance 2.3647750424515834e-14\n",
      "Generating timestep 27 program\n",
      "2.4424906541753444e-14\n",
      "Got distance 2.4424906541753444e-14\n",
      "Generating timestep 28 program\n",
      "2.55351295663786e-14\n",
      "Got distance 2.55351295663786e-14\n",
      "Generating timestep 29 program\n",
      "2.653433028854124e-14\n",
      "Got distance 2.653433028854124e-14\n",
      "Generating timestep 30 program\n",
      "2.7977620220553945e-14\n",
      "Got distance 2.7977620220553945e-14\n",
      "Generating timestep 31 program\n",
      "2.8199664825478976e-14\n",
      "Got distance 2.8199664825478976e-14\n",
      "Generating timestep 32 program\n",
      "2.886579864025407e-14\n",
      "Got distance 2.886579864025407e-14\n",
      "Generating timestep 33 program\n",
      "2.9753977059954195e-14\n",
      "Got distance 2.9753977059954195e-14\n",
      "Generating timestep 34 program\n",
      "3.086420008457935e-14\n",
      "Got distance 3.086420008457935e-14\n",
      "Generating timestep 35 program\n",
      "3.175237850427948e-14\n",
      "Got distance 3.175237850427948e-14\n",
      "Generating timestep 36 program\n",
      "3.2529534621517087e-14\n",
      "Got distance 3.2529534621517087e-14\n",
      "Generating timestep 37 program\n",
      "3.397282455352979e-14\n",
      "Got distance 3.397282455352979e-14\n",
      "Generating timestep 38 program\n",
      "3.430589146091734e-14\n",
      "Got distance 3.430589146091734e-14\n",
      "Generating timestep 39 program\n",
      "3.552713678800501e-14\n",
      "Got distance 3.552713678800501e-14\n",
      "Generating timestep 40 program\n",
      "3.652633751016765e-14\n",
      "Got distance 3.652633751016765e-14\n",
      "Creating IBM quantum circuit objects...\n",
      "IBM quantum circuit objects created\n",
      "Transpiling circuits...\n",
      "Circuits transpiled successfully\n"
     ]
    }
   ],
   "source": [
    "sim_obj.generate_circuits()"
   ]
  },
  {
   "cell_type": "code",
   "execution_count": 11,
   "metadata": {},
   "outputs": [
    {
     "name": "stdout",
     "output_type": "stream",
     "text": [
      "Running noiseless simulator job...\n",
      "Noiseless simulator job successful\n"
     ]
    }
   ],
   "source": [
    "#run circuits on backend\n",
    "sim_obj.run_circuits()"
   ]
  },
  {
   "cell_type": "code",
   "execution_count": 13,
   "metadata": {},
   "outputs": [
    {
     "data": {
      "image/png": "[encoded data removed]",
      "text/plain": [
       "<Figure size 432x288 with 1 Axes>"
      ]
     },
     "metadata": {
      "needs_background": "light"
     },
     "output_type": "display_data"
    }
   ],
   "source": [
    "results=sim_obj.result_matrix\n",
    "import matplotlib.pyplot as plt\n",
    "plt.plot(results)\n",
    "plt.ylim(-1,1)\n",
    "plt.xlim(0,sim_obj.steps)\n",
    "\n",
    "plt.xlabel(\"Simulation Timestep\")\n",
    "plt.ylabel(\"Staggered Magnetization\")\n",
    "plt.show()\n"
   ]
  },
  {
   "cell_type": "code",
   "execution_count": null,
   "metadata": {},
   "outputs": [],
   "source": []
  }
 ],
 "metadata": {
  "kernelspec": {
   "display_name": "Python 3",
   "language": "python",
   "name": "python3"
  },
  "language_info": {
   "codemirror_mode": {
    "name": "ipython",
    "version": 3
   },
   "file_extension": ".py",
   "mimetype": "text/x-python",
   "name": "python",
   "nbconvert_exporter": "python",
   "pygments_lexer": "ipython3",
   "version": "3.8.3"
  }
 },
 "nbformat": 4,
 "nbformat_minor": 4
}
