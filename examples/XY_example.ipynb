{
 "cells": [
  {
   "cell_type": "code",
   "execution_count": 1,
   "metadata": {},
   "outputs": [],
   "source": [
    "import sys\n",
    "sys.path.append('/Users/lindsaybassman/Documents/LBL/ArQTiC')\n",
    "from arqtic.simulation_generator import Simulation_Generator"
   ]
  },
  {
   "cell_type": "code",
   "execution_count": 2,
   "metadata": {},
   "outputs": [],
   "source": [
    "#create simulation object\n",
    "sim_obj = Simulation_Generator(\"XYchain.txt\")"
   ]
  },
  {
   "cell_type": "code",
   "execution_count": 3,
   "metadata": {},
   "outputs": [
    {
     "name": "stderr",
     "output_type": "stream",
     "text": [
      "configrc.store_credentials:WARNING:2020-09-17 22:49:11,899: Credentials already present. Set overwrite=True to overwrite.\n",
      "/opt/anaconda3/envs/qiskit_env/lib/python3.8/site-packages/qiskit/providers/ibmq/ibmqfactory.py:192: UserWarning: Timestamps in IBMQ backend properties, jobs, and job results are all now in local time instead of UTC.\n",
      "  warnings.warn('Timestamps in IBMQ backend properties, jobs, and job results '\n"
     ]
    }
   ],
   "source": [
    "#connect to IBM\n",
    "#if this is your first run enter your API key\n",
    "sim_obj.connect_IBM(api_key=\"c2629e2a2595c888d4b84e5fc15e8756ccf2e3af6f5eb7525beaee93ce017ecb7581cf3c74c8de44a88b2a554ecc7d82be52ac9e358430de782be155e4586195\")"
   ]
  },
  {
   "cell_type": "code",
   "execution_count": 4,
   "metadata": {},
   "outputs": [
    {
     "name": "stdout",
     "output_type": "stream",
     "text": [
      "Generating timestep 0 circuit\n",
      "Generating timestep 1 circuit\n",
      "Generating timestep 2 circuit\n",
      "Generating timestep 3 circuit\n",
      "Generating timestep 4 circuit\n",
      "Generating timestep 5 circuit\n",
      "Generating timestep 6 circuit\n",
      "Generating timestep 7 circuit\n",
      "Generating timestep 8 circuit\n",
      "Generating timestep 9 circuit\n",
      "Generating timestep 10 circuit\n",
      "Generating timestep 11 circuit\n",
      "Generating timestep 12 circuit\n",
      "Generating timestep 13 circuit\n",
      "Generating timestep 14 circuit\n",
      "Generating timestep 15 circuit\n",
      "Generating timestep 16 circuit\n",
      "Generating timestep 17 circuit\n",
      "Generating timestep 18 circuit\n",
      "Generating timestep 19 circuit\n",
      "Generating timestep 20 circuit\n",
      "Generating timestep 21 circuit\n",
      "Generating timestep 22 circuit\n",
      "Generating timestep 23 circuit\n",
      "Generating timestep 24 circuit\n",
      "Generating timestep 25 circuit\n",
      "Generating timestep 26 circuit\n",
      "Generating timestep 27 circuit\n",
      "Generating timestep 28 circuit\n",
      "Generating timestep 29 circuit\n",
      "Generating timestep 30 circuit\n",
      "Generating timestep 31 circuit\n",
      "Generating timestep 32 circuit\n",
      "Generating timestep 33 circuit\n",
      "Generating timestep 34 circuit\n",
      "Generating timestep 35 circuit\n",
      "Generating timestep 36 circuit\n",
      "Generating timestep 37 circuit\n",
      "Generating timestep 38 circuit\n",
      "Generating timestep 39 circuit\n",
      "Generating timestep 40 circuit\n",
      "Creating IBM quantum circuit objects...\n",
      "IBM quantum circuit objects created\n",
      "Transpiling circuits...\n",
      "Circuits transpiled successfully\n"
     ]
    }
   ],
   "source": [
    "#generate circuits\n",
    "sim_obj.generate_circuits()"
   ]
  },
  {
   "cell_type": "code",
   "execution_count": 5,
   "metadata": {},
   "outputs": [
    {
     "name": "stdout",
     "output_type": "stream",
     "text": [
      "RZ ( -1.7999999999999998 ) [0]\n",
      "RZ ( -1.7999999999999998 ) [1]\n",
      "RZ ( -1.7999999999999998 ) [2]\n",
      "H [0]\n",
      "H [1]\n",
      "CNOT [0, 1]\n",
      "RZ ( -0.6000000000000001 ) [1]\n",
      "CNOT [0, 1]\n",
      "H [0]\n",
      "H [1]\n",
      "H [1]\n",
      "H [2]\n",
      "CNOT [1, 2]\n",
      "RZ ( -0.6000000000000001 ) [2]\n",
      "CNOT [1, 2]\n",
      "H [1]\n",
      "H [2]\n",
      "RX ( -1.5707963267948966 ) [0]\n",
      "RX ( -1.5707963267948966 ) [1]\n",
      "CNOT [0, 1]\n",
      "RZ ( -0.6000000000000001 ) [1]\n",
      "CNOT [0, 1]\n",
      "RX ( 1.5707963267948966 ) [0]\n",
      "RX ( 1.5707963267948966 ) [1]\n",
      "RX ( -1.5707963267948966 ) [1]\n",
      "RX ( -1.5707963267948966 ) [2]\n",
      "CNOT [1, 2]\n",
      "RZ ( -0.6000000000000001 ) [2]\n",
      "CNOT [1, 2]\n",
      "RX ( 1.5707963267948966 ) [1]\n",
      "RX ( 1.5707963267948966 ) [2]\n"
     ]
    }
   ],
   "source": [
    "#check out pre-compiled circuit at time-step\n",
    "time_step = 1\n",
    "sim_obj.circuits_list[time_step].print_list()"
   ]
  },
  {
   "cell_type": "code",
   "execution_count": 6,
   "metadata": {},
   "outputs": [
    {
     "name": "stdout",
     "output_type": "stream",
     "text": [
      "OPENQASM 2.0;\n",
      "include \"qelib1.inc\";\n",
      "qreg q[15];\n",
      "creg c[3];\n",
      "barrier q[1],q[0],q[14];\n",
      "u2(0,1.3415927) q[0];\n",
      "u2(0,1.3415927) q[1];\n",
      "cx q[1],q[0];\n",
      "u1(-0.6) q[0];\n",
      "cx q[1],q[0];\n",
      "u2(0,pi/2) q[1];\n",
      "u2(0,1.3415927) q[14];\n",
      "cx q[0],q[14];\n",
      "u1(-0.6) q[14];\n",
      "cx q[0],q[14];\n",
      "u2(0,pi/2) q[0];\n",
      "cx q[1],q[0];\n",
      "u1(-0.6) q[0];\n",
      "cx q[1],q[0];\n",
      "u3(3.3707963,pi/2,pi) q[1];\n",
      "u2(0,pi/2) q[14];\n",
      "cx q[0],q[14];\n",
      "u1(-0.6) q[14];\n",
      "cx q[0],q[14];\n",
      "u3(3.3707963,pi/2,pi) q[0];\n",
      "cx q[1],q[0];\n",
      "u1(-0.6) q[0];\n",
      "cx q[1],q[0];\n",
      "u2(0,pi/2) q[1];\n",
      "u3(3.3707963,pi/2,pi) q[14];\n",
      "cx q[0],q[14];\n",
      "u1(-0.6) q[14];\n",
      "cx q[0],q[14];\n",
      "u2(0,pi/2) q[0];\n",
      "cx q[1],q[0];\n",
      "u1(-0.6) q[0];\n",
      "cx q[1],q[0];\n",
      "u3(3.3707963,pi/2,pi) q[1];\n",
      "u2(0,pi/2) q[14];\n",
      "cx q[0],q[14];\n",
      "u1(-0.6) q[14];\n",
      "cx q[0],q[14];\n",
      "u3(3.3707963,pi/2,pi) q[0];\n",
      "cx q[1],q[0];\n",
      "u1(-0.6) q[0];\n",
      "cx q[1],q[0];\n",
      "u2(0,pi/2) q[1];\n",
      "u3(3.3707963,pi/2,pi) q[14];\n",
      "cx q[0],q[14];\n",
      "u1(-0.6) q[14];\n",
      "cx q[0],q[14];\n",
      "u2(0,pi/2) q[0];\n",
      "cx q[1],q[0];\n",
      "u1(-0.6) q[0];\n",
      "cx q[1],q[0];\n",
      "u2(-pi/2,pi/2) q[1];\n",
      "u2(0,pi/2) q[14];\n",
      "cx q[0],q[14];\n",
      "u1(-0.6) q[14];\n",
      "cx q[0],q[14];\n",
      "u2(-pi/2,pi/2) q[0];\n",
      "u2(-pi/2,pi/2) q[14];\n",
      "measure q[1] -> c[0];\n",
      "measure q[0] -> c[1];\n",
      "measure q[14] -> c[2];\n",
      "\n"
     ]
    }
   ],
   "source": [
    "#check out compiled circuit at time-step\n",
    "time_step = 3\n",
    "print(sim_obj.ibm_circuits_list[time_step].qasm())"
   ]
  },
  {
   "cell_type": "code",
   "execution_count": 7,
   "metadata": {},
   "outputs": [
    {
     "name": "stdout",
     "output_type": "stream",
     "text": [
      "Running noiseless simulator job...\n",
      "Noiseless simulator job successful\n",
      "Post-processing qubit 1 data\n",
      "Post-processing qubit 2 data\n",
      "Done\n"
     ]
    }
   ],
   "source": [
    "#run circuits on backend\n",
    "sim_obj.run_circuits()"
   ]
  },
  {
   "cell_type": "code",
   "execution_count": null,
   "metadata": {},
   "outputs": [],
   "source": []
  }
 ],
 "metadata": {
  "kernelspec": {
   "display_name": "Python 3",
   "language": "python",
   "name": "python3"
  },
  "language_info": {
   "codemirror_mode": {
    "name": "ipython",
    "version": 3
   },
   "file_extension": ".py",
   "mimetype": "text/x-python",
   "name": "python",
   "nbconvert_exporter": "python",
   "pygments_lexer": "ipython3",
   "version": "3.8.5"
  }
 },
 "nbformat": 4,
 "nbformat_minor": 4
}
