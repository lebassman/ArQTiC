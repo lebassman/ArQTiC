{
 "cells": [
  {
   "cell_type": "code",
   "execution_count": 11,
   "metadata": {},
   "outputs": [],
   "source": [
    "import sys\n",
    "sys.path.append('/Users/lindsaybassman/Documents/LBL/ArQTiC')\n",
    "from arqtic.simulation_generator import Simulation_Generator\n",
    "import matplotlib.pyplot as plt\n",
    "import numpy as np\n",
    "import qiskit as qk\n",
    "from qiskit import Aer, IBMQ, execute\n",
    "import random\n",
    "import qsearch\n",
    "import scipy.linalg as la"
   ]
  },
  {
   "cell_type": "code",
   "execution_count": 58,
   "metadata": {},
   "outputs": [],
   "source": [
    "#create simulation object\n",
    "sim_obj = Simulation_Generator(\"QITE_input.txt\")\n",
    "N = sim_obj.num_spins"
   ]
  },
  {
   "cell_type": "code",
   "execution_count": 59,
   "metadata": {},
   "outputs": [],
   "source": [
    "#connect to IBM\n",
    "#if this is your first run enter your API key\n",
    "#sim_obj.connect_IBM(api_key=\"c2629e2a2595c888d4b84e5fc15e8756ccf2e3af6f5eb7525beaee93ce017ecb7581cf3c74c8de44a88b2a554ecc7d82be52ac9e358430de782be155e4586195\")"
   ]
  },
  {
   "cell_type": "code",
   "execution_count": 60,
   "metadata": {},
   "outputs": [],
   "source": [
    "qasm_sim = Aer.get_backend('qasm_simulator')\n",
    "unitary_sim = Aer.get_backend('unitary_simulator')\n",
    "state_vector_sim = Aer.get_backend('statevector_simulator')"
   ]
  },
  {
   "cell_type": "code",
   "execution_count": 61,
   "metadata": {},
   "outputs": [
    {
     "name": "stdout",
     "output_type": "stream",
     "text": [
      "Creating IBM quantum circuit objects...\n",
      "IBM quantum circuit objects created\n"
     ]
    }
   ],
   "source": [
    "#generate circuits\n",
    "sim_obj.generate_programs()"
   ]
  },
  {
   "cell_type": "code",
   "execution_count": 62,
   "metadata": {},
   "outputs": [],
   "source": [
    "#get results\n",
    "energies = sim_obj.qite_energies"
   ]
  },
  {
   "cell_type": "code",
   "execution_count": 63,
   "metadata": {},
   "outputs": [
    {
     "data": {
      "image/png": "[encoded data removed]",
      "text/plain": [
       "<Figure size 600x600 with 1 Axes>"
      ]
     },
     "metadata": {
      "needs_background": "light"
     },
     "output_type": "display_data"
    }
   ],
   "source": [
    "plt.figure(figsize=[4,4], dpi=150)\n",
    "#plt.plot(np.arange(0,num_beta+1)*dbeta,E,'-ro',label='QITE')\n",
    "plt.plot(energies,'-ro')\n",
    "#plt.axhline(y=w[0], color='k',linestyle='--',label=\"Ground state\")\n",
    "#plt.title(\"QITE\")\n",
    "plt.xlabel(\"Imaginary time\")\n",
    "plt.ylabel(\"Energy\")\n",
    "#ground state enegy for Jz=mu_x=1\n",
    "plt.hlines(-3.493837927970963, 0, 10, color=\"black\", linestyles='dashed') #3qubits Jz=1, mu_x=1\n",
    "\n",
    "\n",
    "plt.grid()\n",
    "#plt.xlim(0,10)\n",
    "\n",
    "#plt.legend(bbox_to_anchor=(1.0,1.0))\n",
    "plt.show()\n",
    "#plt.savefig('QITE_GSenergy.png')"
   ]
  },
  {
   "cell_type": "code",
   "execution_count": 64,
   "metadata": {},
   "outputs": [],
   "source": [
    "ibm_qite_circ = sim_obj.ibm_circuits_list[0]\n",
    "#print(ibm_qite_circ)\n",
    "unitary_sim = Aer.get_backend('unitary_simulator')\n",
    "job = execute(ibm_qite_circ, unitary_sim)\n",
    "result = job.result()\n",
    "ibm_qite_unitary = result.get_unitary(ibm_qite_circ, decimals=16)\n",
    "#print(ibm_qite_unitary)\n"
   ]
  },
  {
   "cell_type": "code",
   "execution_count": 65,
   "metadata": {},
   "outputs": [],
   "source": [
    "#Pauli matrices\n",
    "sx = np.array([[0, 1], [1, 0]])\n",
    "sy = np.array([[0, -1j], [1j, 0]])\n",
    "sz = np.array([[1, 0], [0, -1]])\n",
    "Jz = sim_obj.Jz\n",
    "mu_x = sim_obj.h_ext\n",
    "hinit = np.zeros((2**N, 2**N), dtype=np.complex128)\n",
    "#2qubits\n",
    "#hinit += Jz*np.kron(sz,sz)\n",
    "#hinit += mu_x*np.kron(sx,np.eye(2))\n",
    "#hinit += mu_x*np.kron(np.eye(2),sx)\n",
    "#3qubits\n",
    "hinit += Jz*np.kron(np.eye(2),np.kron(sz,sz))\n",
    "hinit += Jz*np.kron(np.kron(sz,sz),np.eye(2))\n",
    "hinit += mu_x*np.kron(sx,np.kron(np.eye(2),np.eye(2)))\n",
    "hinit += mu_x*np.kron(np.eye(2),np.kron(sx,np.eye(2)))\n",
    "hinit += mu_x*np.kron(np.eye(2),np.kron(np.eye(2),sx))"
   ]
  },
  {
   "cell_type": "code",
   "execution_count": 66,
   "metadata": {},
   "outputs": [
    {
     "name": "stdout",
     "output_type": "stream",
     "text": [
      "-3.48981734918272\n"
     ]
    }
   ],
   "source": [
    "result = qk.execute(ibm_qite_circ, state_vector_sim).result()\n",
    "statevector = result.get_statevector(ibm_qite_circ)\n",
    "eng = np.real(np.dot(np.conj(statevector).transpose(), np.dot(hinit, statevector)))\n",
    "print(eng)"
   ]
  },
  {
   "cell_type": "code",
   "execution_count": null,
   "metadata": {},
   "outputs": [],
   "source": []
  },
  {
   "cell_type": "code",
   "execution_count": null,
   "metadata": {},
   "outputs": [],
   "source": []
  }
 ],
 "metadata": {
  "kernelspec": {
   "display_name": "Python 3",
   "language": "python",
   "name": "python3"
  },
  "language_info": {
   "codemirror_mode": {
    "name": "ipython",
    "version": 3
   },
   "file_extension": ".py",
   "mimetype": "text/x-python",
   "name": "python",
   "nbconvert_exporter": "python",
   "pygments_lexer": "ipython3",
   "version": "3.8.3"
  }
 },
 "nbformat": 4,
 "nbformat_minor": 4
}
