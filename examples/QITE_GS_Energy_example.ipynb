{
 "cells": [
  {
   "cell_type": "code",
   "execution_count": 1,
   "metadata": {},
   "outputs": [],
   "source": [
    "import sys\n",
    "sys.path.append('/Users/lindsaybassman/Documents/LBL/ArQTiC')\n",
    "from arqtic.simulation_generator import Simulation_Generator\n",
    "import matplotlib.pyplot as plt\n",
    "import numpy as np\n",
    "import qiskit as qk\n",
    "from qiskit import Aer, IBMQ, execute\n",
    "import random\n",
    "import qsearch"
   ]
  },
  {
   "cell_type": "code",
   "execution_count": 37,
   "metadata": {},
   "outputs": [],
   "source": [
    "#create simulation object\n",
    "sim_obj = Simulation_Generator(\"QITE_input.txt\")\n",
    "N = sim_obj.num_spins"
   ]
  },
  {
   "cell_type": "code",
   "execution_count": 38,
   "metadata": {},
   "outputs": [
    {
     "name": "stdout",
     "output_type": "stream",
     "text": [
      "6.4\n",
      "0.64\n"
     ]
    }
   ],
   "source": [
    "print(sim_obj.beta)\n",
    "print(sim_obj.delta_beta)"
   ]
  },
  {
   "cell_type": "code",
   "execution_count": 39,
   "metadata": {},
   "outputs": [],
   "source": [
    "#connect to IBM\n",
    "#if this is your first run enter your API key\n",
    "#sim_obj.connect_IBM(api_key=\"c2629e2a2595c888d4b84e5fc15e8756ccf2e3af6f5eb7525beaee93ce017ecb7581cf3c74c8de44a88b2a554ecc7d82be52ac9e358430de782be155e4586195\")"
   ]
  },
  {
   "cell_type": "code",
   "execution_count": 40,
   "metadata": {},
   "outputs": [
    {
     "name": "stdout",
     "output_type": "stream",
     "text": [
      "Creating IBM quantum circuit objects...\n",
      "IBM quantum circuit objects created\n"
     ]
    }
   ],
   "source": [
    "#generate circuits\n",
    "sim_obj.generate_programs()"
   ]
  },
  {
   "cell_type": "code",
   "execution_count": 41,
   "metadata": {},
   "outputs": [],
   "source": [
    "#get results\n",
    "energies = sim_obj.qite_energies"
   ]
  },
  {
   "cell_type": "code",
   "execution_count": 42,
   "metadata": {},
   "outputs": [
    {
     "data": {
      "image/png": "[encoded data removed]",
      "text/plain": [
       "<Figure size 600x600 with 1 Axes>"
      ]
     },
     "metadata": {
      "needs_background": "light"
     },
     "output_type": "display_data"
    }
   ],
   "source": [
    "plt.figure(figsize=[4,4], dpi=150)\n",
    "#plt.plot(np.arange(0,num_beta+1)*dbeta,E,'-ro',label='QITE')\n",
    "plt.plot(energies,'-ro')\n",
    "#plt.axhline(y=w[0], color='k',linestyle='--',label=\"Ground state\")\n",
    "#plt.title(\"QITE\")\n",
    "plt.xlabel(\"Imaginary time\")\n",
    "plt.ylabel(\"Energy\")\n",
    "#plt.hlines(-1.4865556615119306, 0, 12, color=\"black\", linestyles='dashed') #2qubits\n",
    "#plt.hlines(-1.025094662244868, 0, 100, color=\"black\", linestyles='dashed') #3qubits Jz=0.5, mu_x=0.1\n",
    "#plt.hlines(-1.1064874717544295, 0, 100, color=\"black\", linestyles='dashed') #3qubits Jz=0.5, mu_x=0.2\n",
    "plt.hlines(-0.7735294660091737, 0, 100, color=\"black\", linestyles='dashed') #3qubits Jz=0.5, mu_x=0.3\n",
    "plt.grid()\n",
    "#plt.xlim(0,10)\n",
    "\n",
    "#plt.legend(bbox_to_anchor=(1.0,1.0))\n",
    "plt.show()\n",
    "#plt.savefig('QITE_GSenergy.png')"
   ]
  },
  {
   "cell_type": "code",
   "execution_count": 43,
   "metadata": {},
   "outputs": [
    {
     "name": "stdout",
     "output_type": "stream",
     "text": [
      "[-0.5, -0.6263263069028178, -0.6598303352530164, -0.6789457188976414, -0.6951287003413449, -0.709590018048349, -0.722328795365587, -0.7333113260733635, -0.7425944232442134, -0.750309586395306, -0.7566319329383582]\n"
     ]
    }
   ],
   "source": [
    "print(energies)"
   ]
  },
  {
   "cell_type": "code",
   "execution_count": 44,
   "metadata": {},
   "outputs": [
    {
     "name": "stdout",
     "output_type": "stream",
     "text": [
      "     ┌──────────┐┌──────────┐┌──────────┐┌──────────┐┌──────────┐┌──────────┐»\n",
      "q_0: ┤0         ├┤0         ├┤0         ├┤0         ├┤0         ├┤0         ├»\n",
      "     │  unitary ││  unitary ││  unitary ││  unitary ││  unitary ││  unitary │»\n",
      "q_1: ┤1         ├┤1         ├┤1         ├┤1         ├┤1         ├┤1         ├»\n",
      "     └──────────┘└──────────┘└──────────┘└──────────┘└──────────┘└──────────┘»\n",
      "c: 2/════════════════════════════════════════════════════════════════════════»\n",
      "                                                                             »\n",
      "«     ┌──────────┐┌──────────┐┌──────────┐┌──────────┐\n",
      "«q_0: ┤0         ├┤0         ├┤0         ├┤0         ├\n",
      "«     │  unitary ││  unitary ││  unitary ││  unitary │\n",
      "«q_1: ┤1         ├┤1         ├┤1         ├┤1         ├\n",
      "«     └──────────┘└──────────┘└──────────┘└──────────┘\n",
      "«c: 2/════════════════════════════════════════════════\n",
      "«                                                     \n"
     ]
    }
   ],
   "source": [
    "ibm_qite_circ = sim_obj.ibm_circuits_list[0]\n",
    "print(ibm_qite_circ)\n",
    "unitary_sim = Aer.get_backend('unitary_simulator')\n",
    "job = execute(ibm_qite_circ, unitary_sim)\n",
    "result = job.result()\n"
   ]
  },
  {
   "cell_type": "code",
   "execution_count": 45,
   "metadata": {},
   "outputs": [
    {
     "name": "stdout",
     "output_type": "stream",
     "text": [
      "[[ 0.91438239+0.j -0.02247666+0.j -0.02247666+0.j  0.40360185+0.j]\n",
      " [-0.10432892+0.j  0.95109448+0.j -0.04890552+0.j  0.28660604+0.j]\n",
      " [-0.10432892+0.j -0.04890552+0.j  0.95109448+0.j  0.28660604+0.j]\n",
      " [-0.37700902+0.j -0.30417486+0.j -0.30417486+0.j  0.82025575+0.j]]\n"
     ]
    }
   ],
   "source": [
    "prog_qite_unitary = np.eye(2**N)\n",
    "for gate in sim_obj.programs_list[0].gates:\n",
    "    prog_qite_unitary = np.matmul(gate.matrix(), prog_qite_unitary)\n",
    "print(prog_qite_unitary)"
   ]
  },
  {
   "cell_type": "code",
   "execution_count": 46,
   "metadata": {},
   "outputs": [
    {
     "name": "stdout",
     "output_type": "stream",
     "text": [
      "[[ 0.91438239+0.j -0.02247666+0.j -0.02247666+0.j  0.40360185+0.j]\n",
      " [-0.10432892+0.j  0.95109448+0.j -0.04890552+0.j  0.28660604+0.j]\n",
      " [-0.10432892+0.j -0.04890552+0.j  0.95109448+0.j  0.28660604+0.j]\n",
      " [-0.37700902+0.j -0.30417486+0.j -0.30417486+0.j  0.82025575+0.j]]\n"
     ]
    }
   ],
   "source": [
    "ibm_qite_unitary = result.get_unitary(ibm_qite_circ, decimals=16)\n",
    "print(ibm_qite_unitary)"
   ]
  },
  {
   "cell_type": "code",
   "execution_count": 47,
   "metadata": {},
   "outputs": [
    {
     "name": "stdout",
     "output_type": "stream",
     "text": [
      "-2.220446049250313e-16\n"
     ]
    }
   ],
   "source": [
    "temp = np.matmul(np.conj(np.transpose(ibm_qite_unitary)), prog_qite_unitary)\n",
    "print(1 - ( np.abs( np.trace( temp ) ) / ( 2 ** 2 ) ))"
   ]
  },
  {
   "cell_type": "code",
   "execution_count": 48,
   "metadata": {},
   "outputs": [],
   "source": [
    "ibm_qite_unitary_rev = qsearch.utils.endian_reverse(ibm_qite_unitary, d=8)"
   ]
  },
  {
   "cell_type": "code",
   "execution_count": 49,
   "metadata": {},
   "outputs": [
    {
     "name": "stdout",
     "output_type": "stream",
     "text": [
      "[[ 0.91438239+0.j -0.02247666+0.j -0.02247666+0.j  0.40360185+0.j]\n",
      " [-0.10432892+0.j  0.95109448+0.j -0.04890552+0.j  0.28660604+0.j]\n",
      " [-0.10432892+0.j -0.04890552+0.j  0.95109448+0.j  0.28660604+0.j]\n",
      " [-0.37700902+0.j -0.30417486+0.j -0.30417486+0.j  0.82025575+0.j]]\n",
      "[[ 0.91438239+0.j -0.02247666+0.j -0.02247666+0.j  0.40360185+0.j]\n",
      " [-0.10432892+0.j  0.95109448+0.j -0.04890552+0.j  0.28660604+0.j]\n",
      " [-0.10432892+0.j -0.04890552+0.j  0.95109448+0.j  0.28660604+0.j]\n",
      " [-0.37700902+0.j -0.30417486+0.j -0.30417486+0.j  0.82025575+0.j]]\n"
     ]
    }
   ],
   "source": [
    "print(ibm_qite_unitary_rev)\n",
    "print(ibm_qite_unitary)"
   ]
  },
  {
   "cell_type": "code",
   "execution_count": 70,
   "metadata": {},
   "outputs": [],
   "source": [
    "psi = np.transpose([0,0,0,1])"
   ]
  },
  {
   "cell_type": "code",
   "execution_count": 71,
   "metadata": {},
   "outputs": [
    {
     "name": "stdout",
     "output_type": "stream",
     "text": [
      "[0.40360185+0.j 0.28660604+0.j 0.28660604+0.j 0.82025575+0.j]\n"
     ]
    }
   ],
   "source": [
    "qite_psi = np.dot(prog_qite_unitary, psi)\n",
    "print(qite_psi)"
   ]
  },
  {
   "cell_type": "code",
   "execution_count": 72,
   "metadata": {},
   "outputs": [],
   "source": [
    "#Pauli matrices\n",
    "sx = np.array([[0, 1], [1, 0]])\n",
    "sy = np.array([[0, -1j], [1j, 0]])\n",
    "sz = np.array([[1, 0], [0, -1]])\n",
    "Jz = sim_obj.Jz\n",
    "mu_x = sim_obj.h_ext\n",
    "hinit = np.zeros((2**N, 2**N), dtype=np.complex128)\n",
    "hinit+=-Jz*np.kron(sz,sz)\n",
    "hinit+=-mu_x*np.kron(sx,np.eye(2))\n",
    "hinit+=-mu_x*np.kron(np.eye(2),sx)\n",
    "#hinit+=-Jz*np.kron(np.eye(2),np.kron(sz,sz))\n",
    "#hinit+=-Jz*np.kron(np.kron(sz,sz),np.eye(2))\n",
    "#hinit+=-mu_x*np.kron(sx,np.kron(np.eye(2),np.eye(2)))\n",
    "#hinit+=-mu_x*np.kron(np.eye(2),np.kron(sx,np.eye(2)))\n",
    "#hinit+=-mu_x*np.kron(np.eye(2),np.kron(np.eye(2),sx))"
   ]
  },
  {
   "cell_type": "code",
   "execution_count": 73,
   "metadata": {},
   "outputs": [],
   "source": [
    "obs = np.dot(np.transpose(np.conj(qite_psi)), np.dot(hinit, qite_psi))"
   ]
  },
  {
   "cell_type": "code",
   "execution_count": 74,
   "metadata": {},
   "outputs": [
    {
     "name": "stdout",
     "output_type": "stream",
     "text": [
      "(-0.7566319329383578+0j)\n"
     ]
    }
   ],
   "source": [
    "print(obs)"
   ]
  },
  {
   "cell_type": "code",
   "execution_count": null,
   "metadata": {},
   "outputs": [],
   "source": []
  }
 ],
 "metadata": {
  "kernelspec": {
   "display_name": "Python 3",
   "language": "python",
   "name": "python3"
  },
  "language_info": {
   "codemirror_mode": {
    "name": "ipython",
    "version": 3
   },
   "file_extension": ".py",
   "mimetype": "text/x-python",
   "name": "python",
   "nbconvert_exporter": "python",
   "pygments_lexer": "ipython3",
   "version": "3.8.3"
  }
 },
 "nbformat": 4,
 "nbformat_minor": 4
}
