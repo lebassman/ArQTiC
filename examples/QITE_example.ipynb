{
 "cells": [
  {
   "cell_type": "code",
   "execution_count": 1,
   "metadata": {},
   "outputs": [],
   "source": [
    "import sys\n",
    "sys.path.append('/Users/lindsaybassman/Documents/LBL/ArQTiC')\n",
    "from arqtic.simulation_generator import Simulation_Generator\n",
    "from arqtic.QITE import make_QITE_circ, get_state_from_string\n",
    "import matplotlib.pyplot as plt\n",
    "import numpy as np\n",
    "import qiskit as qk\n",
    "from qiskit import Aer, IBMQ, execute\n",
    "from arqtic.arqtic_for_ibm import run_ibm, get_ibm_circuit, add_prog_to_ibm_circuit\n",
    "from arqtic.program import Program, random_bitstring\n",
    "import random"
   ]
  },
  {
   "cell_type": "code",
   "execution_count": 2,
   "metadata": {},
   "outputs": [],
   "source": [
    "#create simulation object\n",
    "sim_obj = Simulation_Generator(\"QITE_input.txt\")\n",
    "\n",
    "#Pauli matrices\n",
    "sx = np.array([[0, 1], [1, 0]])\n",
    "sy = np.array([[0, -1j], [1j, 0]])\n",
    "sz = np.array([[1, 0], [0, -1]])\n",
    "#setup inital hamiltonian\n",
    "\n",
    "T = 100\n",
    "N = sim_obj.num_spins\n",
    "\n",
    "msize = 2**N\n",
    "Jz = sim_obj.Jz #ising interaction strength !!! Not used for 1-qubit\n",
    "mu_x = sim_obj.h_ext #transverse magnetic field strength\n",
    "hinit = np.zeros((msize, msize), dtype=np.complex128)\n",
    "hinit+=Jz*np.kron(sz,sz)\n",
    "#hinit += -Jz*np.kron(sx,sx)\n",
    "hinit+=-mu_x*np.kron(sx,np.eye(2))\n",
    "hinit+=-mu_x*np.kron(np.eye(2),sx)\n",
    "\n",
    "#Quantum METTS\n",
    "#set up simulators\n",
    "qasm_sim = Aer.get_backend('qasm_simulator')\n",
    "state_vector_sim = Aer.get_backend('statevector_simulator')\n",
    "backend=qasm_sim\n",
    "shots = 1024\n",
    "\n",
    "#create program to move to x-basis for measurement \n",
    "prog_xBasis = Program(N)\n",
    "prog_xBasis.get_x_basis_prog()\n",
    "xBasis_prep_circ = get_ibm_circuit(state_vector_sim, prog_xBasis, transpile=False)\n",
    "\n",
    "measured_metts_state = str(np.random.randint(0,2))+str(np.random.randint(0,2))\n",
    "#for METTS we want to evolve by beta/2 for system at temperature beta\n",
    "sim_obj.beta = sim_obj.beta/2\n",
    "#loop over trajectories\n",
    "eng_array = []\n",
    "#Es = []\n",
    "for i in range(T):\n",
    "    #make IBM circuit\n",
    "    #Initialization of the circuit\n",
    "    qr = qk.QuantumRegister(N, name='q')\n",
    "    # classical 1 bit readout register\n",
    "    cr = qk.ClassicalRegister(N, name='c')\n",
    "    # our combined circuit\n",
    "    qite_circ = qk.QuantumCircuit(qr, cr)\n",
    "    sim_obj.initial_spins = measured_metts_state\n",
    "    #note QITE algorithm should evolve state by beta/2 for temperature beta\n",
    "    qite_circ, energies = make_QITE_circ(sim_obj, qite_circ, regularizer=0.0)\n",
    "    eng_array.append(energies[-1])\n",
    "    if (i%2 == 0):\n",
    "        qite_circ.compose(xBasis_prep_circ, inplace=True)    \n",
    "    #add measurement operators\n",
    "    qite_circ.measure(qr, cr)\n",
    "    #print(len(qite_circ))\n",
    "    result = qk.execute(qite_circ, qasm_sim, shots=1).result().get_counts()\n",
    "    for spin_str, count in result.items():\n",
    "        measured_metts_state = spin_str"
   ]
  },
  {
   "cell_type": "code",
   "execution_count": 3,
   "metadata": {},
   "outputs": [
    {
     "name": "stdout",
     "output_type": "stream",
     "text": [
      "[-1.4820360937096981, -1.4290198350882095, -1.4820360937096988, -1.4290198350882095, -1.4290198350882086, -1.4290198350882086, -1.4290198350882086, -1.4290198350882086, -1.4290198350882086, -1.4290198350882086, -1.4290198350882095, -1.4820360937096988, -1.4820360937096981, -1.4820360937096988, -1.4290198350882086, -1.4290198350882086, -1.4820360937096981, -1.4820360937096988, -1.4820360937096981, -1.4290198350882095, -1.4290198350882086, -1.4820360937096981, -1.4290198350882086, -1.4290198350882086, -1.4290198350882095, -1.4820360937096988, -1.4290198350882086, -1.4290198350882086, -1.4290198350882086, -1.4290198350882086, -1.4290198350882095, -1.4820360937096981, -1.4290198350882086, -1.4290198350882086, -1.4290198350882086, -1.4290198350882086, -1.4290198350882095, -1.4820360937096988, -1.4820360937096981, -1.4290198350882095, -1.4290198350882095, -1.4820360937096981, -1.4820360937096988, -1.4820360937096981, -1.4820360937096988, -1.4820360937096981, -1.4820360937096988, -1.4820360937096981, -1.4820360937096988, -1.4820360937096981, -1.4820360937096988, -1.4290198350882095, -1.4820360937096981, -1.4290198350882095, -1.4290198350882086, -1.4290198350882086, -1.4290198350882086, -1.4290198350882086, -1.4290198350882086, -1.4820360937096981, -1.4290198350882086, -1.4290198350882086, -1.4290198350882086, -1.4290198350882086, -1.4820360937096988, -1.4290198350882095, -1.4290198350882086, -1.4290198350882086, -1.4290198350882086, -1.4290198350882086, -1.4290198350882095, -1.4290198350882095, -1.4290198350882086, -1.4290198350882086, -1.4290198350882095, -1.4820360937096981, -1.4820360937096988, -1.4820360937096981, -1.4290198350882086, -1.4290198350882086, -1.4820360937096988, -1.4820360937096981, -1.4290198350882086, -1.4290198350882086, -1.4290198350882095, -1.4820360937096981, -1.4290198350882086, -1.4290198350882086, -1.4290198350882086, -1.4290198350882086, -1.4820360937096988, -1.4820360937096981, -1.4290198350882095, -1.4290198350882095, -1.4290198350882086, -1.4290198350882095, -1.4290198350882086, -1.4290198350882086, -1.4290198350882086, -1.4290198350882086]\n",
      "-1.4470453630195153\n"
     ]
    }
   ],
   "source": [
    "#T=100\n",
    "print(eng_array)\n",
    "print(np.mean(eng_array))"
   ]
  },
  {
   "cell_type": "code",
   "execution_count": 2,
   "metadata": {},
   "outputs": [],
   "source": [
    "#create simulation object\n",
    "#sim_obj = Simulation_Generator(\"QITE_input.txt\")"
   ]
  },
  {
   "cell_type": "code",
   "execution_count": 3,
   "metadata": {},
   "outputs": [],
   "source": [
    "#connect to IBM\n",
    "#if this is your first run enter your API key\n",
    "#sim_obj.connect_IBM(api_key=\"c2629e2a2595c888d4b84e5fc15e8756ccf2e3af6f5eb7525beaee93ce017ecb7581cf3c74c8de44a88b2a554ecc7d82be52ac9e358430de782be155e4586195\")"
   ]
  },
  {
   "cell_type": "code",
   "execution_count": 8,
   "metadata": {},
   "outputs": [
    {
     "name": "stdout",
     "output_type": "stream",
     "text": [
      "initial psi is: [0 1 0 0]\n"
     ]
    }
   ],
   "source": [
    "#generate circuits\n",
    "#qcirc, energies = make_QITE_circ(sim_obj, regularizer=0.03)"
   ]
  },
  {
   "cell_type": "code",
   "execution_count": 12,
   "metadata": {},
   "outputs": [
    {
     "name": "stderr",
     "output_type": "stream",
     "text": [
      "No handles with labels found to put in legend.\n"
     ]
    },
    {
     "data": {
      "image/png": "[encoded data removed]",
      "text/plain": [
       "<Figure size 600x600 with 1 Axes>"
      ]
     },
     "metadata": {
      "needs_background": "light"
     },
     "output_type": "display_data"
    }
   ],
   "source": [
    "plt.figure(figsize=[4,4], dpi=150)\n",
    "#plt.plot(np.arange(0,num_beta+1)*dbeta,E,'-ro',label='QITE')\n",
    "plt.plot(energies,'-ro')\n",
    "#plt.axhline(y=w[0], color='k',linestyle='--',label=\"Ground state\")\n",
    "#plt.title(\"QITE\")\n",
    "plt.xlabel(\"Imaginary time\")\n",
    "plt.ylabel(\"Energy\")\n",
    "plt.hlines(-1.4865556615119306, 0, 12, color=\"black\", linestyles='dashed')\n",
    "plt.grid()\n",
    "plt.xlim(0,10)\n",
    "\n",
    "plt.legend(bbox_to_anchor=(1.0,1.0))\n",
    "#plt.show()\n",
    "plt.savefig('QITE_GSenergy.png')"
   ]
  },
  {
   "cell_type": "code",
   "execution_count": null,
   "metadata": {},
   "outputs": [],
   "source": []
  }
 ],
 "metadata": {
  "kernelspec": {
   "display_name": "Python 3",
   "language": "python",
   "name": "python3"
  },
  "language_info": {
   "codemirror_mode": {
    "name": "ipython",
    "version": 3
   },
   "file_extension": ".py",
   "mimetype": "text/x-python",
   "name": "python",
   "nbconvert_exporter": "python",
   "pygments_lexer": "ipython3",
   "version": "3.7.1"
  }
 },
 "nbformat": 4,
 "nbformat_minor": 4
}
