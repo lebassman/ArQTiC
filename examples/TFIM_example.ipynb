{
 "cells": [
  {
   "cell_type": "code",
   "execution_count": 54,
   "metadata": {},
   "outputs": [],
   "source": [
    "import sys\n",
    "sys.path.append('/Users/lindsaybassman/Documents/LBL/ArQTiC')\n",
    "from arqtic.simulation_generator import Simulation_Generator"
   ]
  },
  {
   "cell_type": "code",
   "execution_count": 90,
   "metadata": {},
   "outputs": [],
   "source": [
    "#create simulation object\n",
    "sim_obj = Simulation_Generator(\"TFIM_test.txt\")"
   ]
  },
  {
   "cell_type": "code",
   "execution_count": 91,
   "metadata": {},
   "outputs": [
    {
     "name": "stderr",
     "output_type": "stream",
     "text": [
      "ibmqfactory.load_account:WARNING:2021-03-08 00:33:07,150: Credentials are already in use. The existing account in the session will be replaced.\n"
     ]
    }
   ],
   "source": [
    "#connect to IBM\n",
    "#if this is your first run enter your API key\n",
    "#sim_obj.connect_IBM(api_key=\"63f74a69c47119ebd7d89734f45a0ffb1758185db779039e5e77841ef83aedf0474a18dcf45c15483fa5e67beec892f74a756c8f0a445799ff16be07ca86a16f\")\n",
    "sim_obj.connect_IBM()\n"
   ]
  },
  {
   "cell_type": "code",
   "execution_count": 92,
   "metadata": {},
   "outputs": [
    {
     "name": "stdout",
     "output_type": "stream",
     "text": [
      "Generating timestep 0 program\n",
      "Generating timestep 1 program\n",
      "Generating timestep 2 program\n",
      "Generating timestep 3 program\n",
      "Generating timestep 4 program\n",
      "Generating timestep 5 program\n",
      "Generating timestep 6 program\n",
      "Generating timestep 7 program\n",
      "Generating timestep 8 program\n",
      "Generating timestep 9 program\n",
      "Generating timestep 10 program\n",
      "Generating timestep 11 program\n",
      "Generating timestep 12 program\n",
      "Generating timestep 13 program\n",
      "Generating timestep 14 program\n",
      "Generating timestep 15 program\n",
      "Generating timestep 16 program\n",
      "Generating timestep 17 program\n",
      "Generating timestep 18 program\n",
      "Generating timestep 19 program\n",
      "Generating timestep 20 program\n",
      "Generating timestep 21 program\n",
      "Generating timestep 22 program\n",
      "Generating timestep 23 program\n",
      "Generating timestep 24 program\n",
      "Generating timestep 25 program\n",
      "Generating timestep 26 program\n",
      "Generating timestep 27 program\n",
      "Generating timestep 28 program\n",
      "Generating timestep 29 program\n",
      "Generating timestep 30 program\n",
      "Generating timestep 31 program\n",
      "Generating timestep 32 program\n",
      "Generating timestep 33 program\n",
      "Generating timestep 34 program\n",
      "Generating timestep 35 program\n",
      "Generating timestep 36 program\n",
      "Generating timestep 37 program\n",
      "Generating timestep 38 program\n",
      "Generating timestep 39 program\n",
      "Generating timestep 40 program\n",
      "Generating timestep 41 program\n",
      "Generating timestep 42 program\n",
      "Generating timestep 43 program\n",
      "Generating timestep 44 program\n",
      "Generating timestep 45 program\n",
      "Generating timestep 46 program\n",
      "Generating timestep 47 program\n",
      "Generating timestep 48 program\n",
      "Generating timestep 49 program\n",
      "Generating timestep 50 program\n",
      "Creating IBM quantum circuit objects...\n",
      "IBM quantum circuit objects created\n"
     ]
    }
   ],
   "source": [
    "#generate circuits\n",
    "sim_obj.generate_programs()"
   ]
  },
  {
   "cell_type": "code",
   "execution_count": 93,
   "metadata": {},
   "outputs": [
    {
     "name": "stdout",
     "output_type": "stream",
     "text": [
      "Running noiseless simulator job...\n",
      "Noiseless simulator job successful\n"
     ]
    }
   ],
   "source": [
    "#run circuits on backend\n",
    "sim_obj.run_circuits()"
   ]
  },
  {
   "cell_type": "code",
   "execution_count": 94,
   "metadata": {},
   "outputs": [
    {
     "data": {
      "image/png": "[encoded data removed]",
      "text/plain": [
       "<Figure size 432x288 with 1 Axes>"
      ]
     },
     "metadata": {
      "needs_background": "light"
     },
     "output_type": "display_data"
    }
   ],
   "source": [
    "results=sim_obj.result_matrix\n",
    "import matplotlib.pyplot as plt\n",
    "plt.plot(results)\n",
    "#plt.ylim(-0.3,1)\n",
    "#plt.xlim(0,50)\n",
    "\n",
    "plt.xlabel(\"Simulation Timestep\")\n",
    "plt.ylabel(\"Average Magnetization\")\n",
    "#plt.show()\n",
    "plt.savefig(\"5q_xxzTFIM_avg_magnetization.png\")"
   ]
  },
  {
   "cell_type": "code",
   "execution_count": null,
   "metadata": {},
   "outputs": [],
   "source": []
  },
  {
   "cell_type": "code",
   "execution_count": null,
   "metadata": {},
   "outputs": [],
   "source": []
  }
 ],
 "metadata": {
  "kernelspec": {
   "display_name": "Python 3",
   "language": "python",
   "name": "python3"
  },
  "language_info": {
   "codemirror_mode": {
    "name": "ipython",
    "version": 3
   },
   "file_extension": ".py",
   "mimetype": "text/x-python",
   "name": "python",
   "nbconvert_exporter": "python",
   "pygments_lexer": "ipython3",
   "version": "3.8.3"
  }
 },
 "nbformat": 4,
 "nbformat_minor": 4
}
