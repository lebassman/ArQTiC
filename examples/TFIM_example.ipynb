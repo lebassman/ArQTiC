{
 "cells": [
  {
   "cell_type": "code",
   "execution_count": 1,
   "metadata": {},
   "outputs": [],
   "source": [
    "import sys\n",
    "sys.path.append('/Users/lindsaybassman/Documents/LBL/ArQTiC')\n",
    "from arqtic.simulation_generator import Simulation_Generator"
   ]
  },
  {
   "cell_type": "code",
   "execution_count": 3,
   "metadata": {},
   "outputs": [],
   "source": [
    "#create simulation object\n",
    "sim_obj = Simulation_Generator(\"TFIM_test.txt\")"
   ]
  },
  {
   "cell_type": "code",
   "execution_count": 4,
   "metadata": {},
   "outputs": [
    {
     "name": "stderr",
     "output_type": "stream",
     "text": [
      "configrc.store_credentials:WARNING:2020-12-16 08:29:40,030: Credentials already present. Set overwrite=True to overwrite.\n",
      "/opt/anaconda3/lib/python3.8/site-packages/qiskit/providers/ibmq/ibmqfactory.py:192: UserWarning: Timestamps in IBMQ backend properties, jobs, and job results are all now in local time instead of UTC.\n",
      "  warnings.warn('Timestamps in IBMQ backend properties, jobs, and job results '\n"
     ]
    }
   ],
   "source": [
    "#connect to IBM\n",
    "#if this is your first run enter your API key\n",
    "sim_obj.connect_IBM(api_key=\"c2629e2a2595c888d4b84e5fc15e8756ccf2e3af6f5eb7525beaee93ce017ecb7581cf3c74c8de44a88b2a554ecc7d82be52ac9e358430de782be155e4586195\")"
   ]
  },
  {
   "cell_type": "code",
   "execution_count": 5,
   "metadata": {},
   "outputs": [
    {
     "name": "stdout",
     "output_type": "stream",
     "text": [
      "Generating timestep 0 program\n",
      "Generating timestep 1 program\n",
      "Generating timestep 2 program\n",
      "Generating timestep 3 program\n",
      "Generating timestep 4 program\n",
      "Generating timestep 5 program\n",
      "Generating timestep 6 program\n",
      "Generating timestep 7 program\n",
      "Generating timestep 8 program\n",
      "Generating timestep 9 program\n",
      "Generating timestep 10 program\n",
      "Generating timestep 11 program\n",
      "Generating timestep 12 program\n",
      "Generating timestep 13 program\n",
      "Generating timestep 14 program\n",
      "Generating timestep 15 program\n",
      "Generating timestep 16 program\n",
      "Generating timestep 17 program\n",
      "Generating timestep 18 program\n",
      "Generating timestep 19 program\n",
      "Generating timestep 20 program\n",
      "Generating timestep 21 program\n",
      "Generating timestep 22 program\n",
      "Generating timestep 23 program\n",
      "Generating timestep 24 program\n",
      "Generating timestep 25 program\n",
      "Generating timestep 26 program\n",
      "Generating timestep 27 program\n",
      "Generating timestep 28 program\n",
      "Generating timestep 29 program\n",
      "Generating timestep 30 program\n",
      "Generating timestep 31 program\n",
      "Generating timestep 32 program\n",
      "Generating timestep 33 program\n",
      "Generating timestep 34 program\n",
      "Generating timestep 35 program\n",
      "Generating timestep 36 program\n",
      "Generating timestep 37 program\n",
      "Generating timestep 38 program\n",
      "Generating timestep 39 program\n",
      "Generating timestep 40 program\n",
      "Creating IBM quantum circuit objects...\n",
      "IBM quantum circuit objects created\n"
     ]
    }
   ],
   "source": [
    "#generate circuits\n",
    "sim_obj.generate_programs()"
   ]
  },
  {
   "cell_type": "code",
   "execution_count": 6,
   "metadata": {},
   "outputs": [
    {
     "name": "stdout",
     "output_type": "stream",
     "text": [
      "RX ( -0.07103203880978437 ) [0]\n",
      "RX ( -0.07103203880978437 ) [1]\n",
      "RX ( -0.07103203880978437 ) [2]\n",
      "CNOT [0, 1]\n",
      "RZ ( -0.07103388000000001 ) [1]\n",
      "CNOT [0, 1]\n",
      "CNOT [1, 2]\n",
      "RZ ( -0.07103388000000001 ) [2]\n",
      "CNOT [1, 2]\n",
      "RX ( -0.07101730986073565 ) [0]\n",
      "RX ( -0.07101730986073565 ) [1]\n",
      "RX ( -0.07101730986073565 ) [2]\n",
      "CNOT [0, 1]\n",
      "RZ ( -0.07103388000000001 ) [1]\n",
      "CNOT [0, 1]\n",
      "CNOT [1, 2]\n",
      "RZ ( -0.07103388000000001 ) [2]\n",
      "CNOT [1, 2]\n",
      "RX ( -0.07098785501678032 ) [0]\n",
      "RX ( -0.07098785501678032 ) [1]\n",
      "RX ( -0.07098785501678032 ) [2]\n",
      "CNOT [0, 1]\n",
      "RZ ( -0.07103388000000001 ) [1]\n",
      "CNOT [0, 1]\n",
      "CNOT [1, 2]\n",
      "RZ ( -0.07103388000000001 ) [2]\n",
      "CNOT [1, 2]\n"
     ]
    }
   ],
   "source": [
    "#check out pre-compiled circuit at time-step\n",
    "time_step = 3\n",
    "sim_obj.programs_list[time_step].print_list()"
   ]
  },
  {
   "cell_type": "code",
   "execution_count": 7,
   "metadata": {},
   "outputs": [
    {
     "name": "stdout",
     "output_type": "stream",
     "text": [
      "OPENQASM 2.0;\n",
      "include \"qelib1.inc\";\n",
      "qreg q[3];\n",
      "creg c[3];\n",
      "barrier q[0],q[1],q[2];\n",
      "rx(-0.071032039) q[0];\n",
      "rx(-0.071032039) q[1];\n",
      "rx(-0.071032039) q[2];\n",
      "cx q[0],q[1];\n",
      "rz(-0.07103388) q[1];\n",
      "cx q[0],q[1];\n",
      "cx q[1],q[2];\n",
      "rz(-0.07103388) q[2];\n",
      "cx q[1],q[2];\n",
      "rx(-0.07101731) q[0];\n",
      "rx(-0.07101731) q[1];\n",
      "rx(-0.07101731) q[2];\n",
      "cx q[0],q[1];\n",
      "rz(-0.07103388) q[1];\n",
      "cx q[0],q[1];\n",
      "cx q[1],q[2];\n",
      "rz(-0.07103388) q[2];\n",
      "cx q[1],q[2];\n",
      "rx(-0.070987855) q[0];\n",
      "rx(-0.070987855) q[1];\n",
      "rx(-0.070987855) q[2];\n",
      "cx q[0],q[1];\n",
      "rz(-0.07103388) q[1];\n",
      "cx q[0],q[1];\n",
      "cx q[1],q[2];\n",
      "rz(-0.07103388) q[2];\n",
      "cx q[1],q[2];\n",
      "measure q[0] -> c[0];\n",
      "measure q[1] -> c[1];\n",
      "measure q[2] -> c[2];\n",
      "\n"
     ]
    }
   ],
   "source": [
    "#check out compiled circuit at time-step\n",
    "time_step = 3\n",
    "print(sim_obj.ibm_circuits_list[time_step].qasm())"
   ]
  },
  {
   "cell_type": "code",
   "execution_count": 6,
   "metadata": {},
   "outputs": [
    {
     "name": "stdout",
     "output_type": "stream",
     "text": [
      "Running noiseless simulator job...\n",
      "Noiseless simulator job successful\n"
     ]
    }
   ],
   "source": [
    "#run circuits on backend\n",
    "sim_obj.run_circuits()"
   ]
  },
  {
   "cell_type": "code",
   "execution_count": 7,
   "metadata": {},
   "outputs": [
    {
     "data": {
      "text/plain": [
       "Text(0, 0.5, 'Average Magnetization')"
      ]
     },
     "execution_count": 7,
     "metadata": {},
     "output_type": "execute_result"
    },
    {
     "data": {
      "image/png": "[encoded data removed]",
      "text/plain": [
       "<Figure size 432x288 with 1 Axes>"
      ]
     },
     "metadata": {
      "needs_background": "light"
     },
     "output_type": "display_data"
    }
   ],
   "source": [
    "results=sim_obj.result_matrix\n",
    "import matplotlib.pyplot as plt\n",
    "plt.plot(results)\n",
    "#plt.ylim(-0.3,1)\n",
    "#plt.xlim(0,50)\n",
    "\n",
    "plt.xlabel(\"Simulation Timestep\")\n",
    "plt.ylabel(\"Average Magnetization\")\n",
    "#plt.show()\n",
    "#plt.savefig(\"staggered_mag_quench_jz1.5_jxy1.png\")"
   ]
  },
  {
   "cell_type": "code",
   "execution_count": null,
   "metadata": {},
   "outputs": [],
   "source": []
  }
 ],
 "metadata": {
  "kernelspec": {
   "display_name": "Python 3",
   "language": "python",
   "name": "python3"
  },
  "language_info": {
   "codemirror_mode": {
    "name": "ipython",
    "version": 3
   },
   "file_extension": ".py",
   "mimetype": "text/x-python",
   "name": "python",
   "nbconvert_exporter": "python",
   "pygments_lexer": "ipython3",
   "version": "3.8.3"
  }
 },
 "nbformat": 4,
 "nbformat_minor": 4
}
