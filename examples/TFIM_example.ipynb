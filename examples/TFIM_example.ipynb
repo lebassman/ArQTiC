{
 "cells": [
  {
   "cell_type": "code",
   "execution_count": 3,
   "metadata": {},
   "outputs": [],
   "source": [
    "import sys\n",
    "sys.path.append('/Users/lindsaybassman/Documents/LBL/ArQTiC')\n",
    "from arqtic.simulation_generator import Simulation_Generator"
   ]
  },
  {
   "cell_type": "code",
   "execution_count": 4,
   "metadata": {},
   "outputs": [],
   "source": [
    "#create simulation object\n",
    "sim_obj = Simulation_Generator(\"TFIM_input.txt\")"
   ]
  },
  {
   "cell_type": "code",
   "execution_count": 5,
   "metadata": {},
   "outputs": [
    {
     "name": "stderr",
     "output_type": "stream",
     "text": [
      "configrc.store_credentials:WARNING:2020-12-04 12:51:55,163: Credentials already present. Set overwrite=True to overwrite.\n",
      "/opt/anaconda3/lib/python3.8/site-packages/qiskit/providers/ibmq/ibmqfactory.py:192: UserWarning: Timestamps in IBMQ backend properties, jobs, and job results are all now in local time instead of UTC.\n",
      "  warnings.warn('Timestamps in IBMQ backend properties, jobs, and job results '\n"
     ]
    }
   ],
   "source": [
    "#connect to IBM\n",
    "#if this is your first run enter your API key\n",
    "sim_obj.connect_IBM(api_key=\"c2629e2a2595c888d4b84e5fc15e8756ccf2e3af6f5eb7525beaee93ce017ecb7581cf3c74c8de44a88b2a554ecc7d82be52ac9e358430de782be155e4586195\")"
   ]
  },
  {
   "cell_type": "code",
   "execution_count": 6,
   "metadata": {},
   "outputs": [
    {
     "name": "stdout",
     "output_type": "stream",
     "text": [
      "Creating IBM quantum circuit objects...\n",
      "IBM quantum circuit objects created\n",
      "Transpiling circuits...\n"
     ]
    },
    {
     "ename": "UnboundLocalError",
     "evalue": "local variable 'device' referenced before assignment",
     "output_type": "error",
     "traceback": [
      "\u001b[0;31m---------------------------------------------------------------------------\u001b[0m",
      "\u001b[0;31mUnboundLocalError\u001b[0m                         Traceback (most recent call last)",
      "\u001b[0;32m<ipython-input-6-79f88253be82>\u001b[0m in \u001b[0;36m<module>\u001b[0;34m\u001b[0m\n\u001b[1;32m      1\u001b[0m \u001b[0;31m#generate circuits\u001b[0m\u001b[0;34m\u001b[0m\u001b[0;34m\u001b[0m\u001b[0;34m\u001b[0m\u001b[0m\n\u001b[0;32m----> 2\u001b[0;31m \u001b[0msim_obj\u001b[0m\u001b[0;34m.\u001b[0m\u001b[0mgenerate_circuits\u001b[0m\u001b[0;34m(\u001b[0m\u001b[0;34m)\u001b[0m\u001b[0;34m\u001b[0m\u001b[0;34m\u001b[0m\u001b[0m\n\u001b[0m",
      "\u001b[0;32m~/Documents/LBL/ArQTiC/arqtic/simulation_generator.py\u001b[0m in \u001b[0;36mgenerate_circuits\u001b[0;34m(self)\u001b[0m\n\u001b[1;32m    443\u001b[0m         \u001b[0mqk\u001b[0m\u001b[0;34m.\u001b[0m\u001b[0mIBMQ\u001b[0m\u001b[0;34m.\u001b[0m\u001b[0mload_account\u001b[0m\u001b[0;34m(\u001b[0m\u001b[0;34m)\u001b[0m\u001b[0;34m\u001b[0m\u001b[0;34m\u001b[0m\u001b[0m\n\u001b[1;32m    444\u001b[0m \u001b[0;34m\u001b[0m\u001b[0m\n\u001b[0;32m--> 445\u001b[0;31m \u001b[0;34m\u001b[0m\u001b[0m\n\u001b[0m\u001b[1;32m    446\u001b[0m     \u001b[0;32mdef\u001b[0m \u001b[0mparameters\u001b[0m\u001b[0;34m(\u001b[0m\u001b[0mself\u001b[0m\u001b[0;34m)\u001b[0m\u001b[0;34m:\u001b[0m\u001b[0;34m\u001b[0m\u001b[0;34m\u001b[0m\u001b[0m\n\u001b[1;32m    447\u001b[0m         \u001b[0mprint\u001b[0m\u001b[0;34m(\u001b[0m\u001b[0;34m\"Current model parameters:\\n\\nH_BAR = {}\\nJX = {}\\nJY = {}\\nJZ = {}\\nh_ext = {}\\next_dir = {}\"\u001b[0m\u001b[0;34m.\u001b[0m\u001b[0mformat\u001b[0m\u001b[0;34m(\u001b[0m\u001b[0mself\u001b[0m\u001b[0;34m.\u001b[0m\u001b[0mH_BAR\u001b[0m\u001b[0;34m,\u001b[0m\u001b[0mself\u001b[0m\u001b[0;34m.\u001b[0m\u001b[0mJX\u001b[0m\u001b[0;34m,\u001b[0m\u001b[0mself\u001b[0m\u001b[0;34m.\u001b[0m\u001b[0mJY\u001b[0m\u001b[0;34m,\u001b[0m\u001b[0mself\u001b[0m\u001b[0;34m.\u001b[0m\u001b[0mJZ\u001b[0m\u001b[0;34m,\u001b[0m\u001b[0mself\u001b[0m\u001b[0;34m.\u001b[0m\u001b[0mh_ext\u001b[0m\u001b[0;34m,\u001b[0m\u001b[0mself\u001b[0m\u001b[0;34m.\u001b[0m\u001b[0mext_dir\u001b[0m\u001b[0;34m)\u001b[0m\u001b[0;34m)\u001b[0m\u001b[0;34m\u001b[0m\u001b[0;34m\u001b[0m\u001b[0m\n",
      "\u001b[0;32m~/Documents/LBL/ArQTiC/arqtic/simulation_generator.py\u001b[0m in \u001b[0;36mgenerate_ibm\u001b[0;34m(self)\u001b[0m\n\u001b[1;32m    296\u001b[0m                         \u001b[0mtket_backend\u001b[0m \u001b[0;34m=\u001b[0m \u001b[0mIBMQEmulatorBackend\u001b[0m\u001b[0;34m(\u001b[0m\u001b[0mself\u001b[0m\u001b[0;34m.\u001b[0m\u001b[0mdevice\u001b[0m\u001b[0;34m)\u001b[0m\u001b[0;34m\u001b[0m\u001b[0;34m\u001b[0m\u001b[0m\n\u001b[1;32m    297\u001b[0m                 \u001b[0mprint\u001b[0m\u001b[0;34m(\u001b[0m\u001b[0;34m\"Compiling circuits...\"\u001b[0m\u001b[0;34m)\u001b[0m\u001b[0;34m\u001b[0m\u001b[0;34m\u001b[0m\u001b[0m\n\u001b[0;32m--> 298\u001b[0;31m                 \u001b[0;32mwith\u001b[0m \u001b[0mopen\u001b[0m\u001b[0;34m(\u001b[0m\u001b[0mself\u001b[0m\u001b[0;34m.\u001b[0m\u001b[0mnamevar\u001b[0m\u001b[0;34m,\u001b[0m\u001b[0;34m'a'\u001b[0m\u001b[0;34m)\u001b[0m \u001b[0;32mas\u001b[0m \u001b[0mtempfile\u001b[0m\u001b[0;34m:\u001b[0m\u001b[0;34m\u001b[0m\u001b[0;34m\u001b[0m\u001b[0m\n\u001b[0m\u001b[1;32m    299\u001b[0m                     \u001b[0mtempfile\u001b[0m\u001b[0;34m.\u001b[0m\u001b[0mwrite\u001b[0m\u001b[0;34m(\u001b[0m\u001b[0;34m\"Compiling circuits...\\n\"\u001b[0m\u001b[0;34m)\u001b[0m\u001b[0;34m\u001b[0m\u001b[0;34m\u001b[0m\u001b[0m\n\u001b[1;32m    300\u001b[0m                 \u001b[0;32mfor\u001b[0m \u001b[0mcircuit\u001b[0m \u001b[0;32min\u001b[0m \u001b[0mself\u001b[0m\u001b[0;34m.\u001b[0m\u001b[0mibm_circuit_list\u001b[0m\u001b[0;34m:\u001b[0m\u001b[0;34m\u001b[0m\u001b[0;34m\u001b[0m\u001b[0m\n",
      "\u001b[0;31mUnboundLocalError\u001b[0m: local variable 'device' referenced before assignment"
     ]
    }
   ],
   "source": [
    "#generate circuits\n",
    "sim_obj.generate_circuits()"
   ]
  },
  {
   "cell_type": "code",
   "execution_count": 17,
   "metadata": {},
   "outputs": [
    {
     "name": "stdout",
     "output_type": "stream",
     "text": [
      "RX ( -0.10791665726207418 ) [0]\n",
      "RX ( -0.10791665726207418 ) [1]\n",
      "RX ( -0.10791665726207418 ) [2]\n",
      "CNOT [0, 1]\n",
      "RZ ( -0.1079194545222512 ) [1]\n",
      "CNOT [0, 1]\n",
      "CNOT [1, 2]\n",
      "RZ ( -0.1079194545222512 ) [2]\n",
      "CNOT [1, 2]\n",
      "RX ( -0.10789428005070653 ) [0]\n",
      "RX ( -0.10789428005070653 ) [1]\n",
      "RX ( -0.10789428005070653 ) [2]\n",
      "CNOT [0, 1]\n",
      "RZ ( -0.1079194545222512 ) [1]\n",
      "CNOT [0, 1]\n",
      "CNOT [1, 2]\n",
      "RZ ( -0.1079194545222512 ) [2]\n",
      "CNOT [1, 2]\n",
      "RX ( -0.10784953026802963 ) [0]\n",
      "RX ( -0.10784953026802963 ) [1]\n",
      "RX ( -0.10784953026802963 ) [2]\n",
      "CNOT [0, 1]\n",
      "RZ ( -0.1079194545222512 ) [1]\n",
      "CNOT [0, 1]\n",
      "CNOT [1, 2]\n",
      "RZ ( -0.1079194545222512 ) [2]\n",
      "CNOT [1, 2]\n"
     ]
    }
   ],
   "source": [
    "#check out pre-compiled circuit at time-step\n",
    "time_step = 3\n",
    "sim_obj.circuits_list[time_step].print_list()"
   ]
  },
  {
   "cell_type": "code",
   "execution_count": 13,
   "metadata": {},
   "outputs": [
    {
     "name": "stdout",
     "output_type": "stream",
     "text": [
      "OPENQASM 2.0;\n",
      "include \"qelib1.inc\";\n",
      "qreg q[5];\n",
      "creg c[3];\n",
      "barrier q[0],q[1],q[2];\n",
      "u3(-0.1702685,-pi/2,pi/2) q[0];\n",
      "u3(-0.1702685,-pi/2,pi/2) q[1];\n",
      "cx q[0],q[1];\n",
      "u1(-0.10791945) q[1];\n",
      "cx q[0],q[1];\n",
      "u3(-0.1702332,-pi/2,pi/2) q[0];\n",
      "u3(-0.1702685,-pi/2,pi/2) q[2];\n",
      "cx q[1],q[2];\n",
      "u1(-0.10791945) q[2];\n",
      "cx q[1],q[2];\n",
      "u3(-0.1702332,-pi/2,pi/2) q[1];\n",
      "cx q[0],q[1];\n",
      "u1(-0.10791945) q[1];\n",
      "cx q[0],q[1];\n",
      "u3(-0.17016259,-pi/2,pi/2) q[0];\n",
      "u3(-0.1702332,-pi/2,pi/2) q[2];\n",
      "cx q[1],q[2];\n",
      "u1(-0.10791945) q[2];\n",
      "cx q[1],q[2];\n",
      "u3(-0.17016259,-pi/2,pi/2) q[1];\n",
      "cx q[0],q[1];\n",
      "u1(-0.10791945) q[1];\n",
      "cx q[0],q[1];\n",
      "u3(-0.17016259,-pi/2,pi/2) q[2];\n",
      "cx q[1],q[2];\n",
      "u1(-0.10791945) q[2];\n",
      "cx q[1],q[2];\n",
      "measure q[0] -> c[0];\n",
      "measure q[1] -> c[1];\n",
      "measure q[2] -> c[2];\n",
      "\n"
     ]
    }
   ],
   "source": [
    "#check out compiled circuit at time-step\n",
    "time_step = 3\n",
    "print(sim_obj.ibm_circuits_list[time_step].qasm())"
   ]
  },
  {
   "cell_type": "code",
   "execution_count": 7,
   "metadata": {},
   "outputs": [
    {
     "name": "stdout",
     "output_type": "stream",
     "text": [
      "Running noiseless simulator job...\n",
      "Noiseless simulator job successful\n",
      "Post-processing qubit 1 data\n",
      "Post-processing qubit 2 data\n",
      "Done\n"
     ]
    }
   ],
   "source": [
    "#run circuits on backend\n",
    "sim_obj.run_circuits()"
   ]
  },
  {
   "cell_type": "code",
   "execution_count": null,
   "metadata": {},
   "outputs": [],
   "source": []
  }
 ],
 "metadata": {
  "kernelspec": {
   "display_name": "Python 3",
   "language": "python",
   "name": "python3"
  },
  "language_info": {
   "codemirror_mode": {
    "name": "ipython",
    "version": 3
   },
   "file_extension": ".py",
   "mimetype": "text/x-python",
   "name": "python",
   "nbconvert_exporter": "python",
   "pygments_lexer": "ipython3",
   "version": "3.8.3"
  }
 },
 "nbformat": 4,
 "nbformat_minor": 4
}
