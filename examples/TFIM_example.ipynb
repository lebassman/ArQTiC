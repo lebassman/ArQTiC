{
 "cells": [
  {
   "cell_type": "code",
   "execution_count": 1,
   "metadata": {},
   "outputs": [],
   "source": [
    "import sys\n",
    "sys.path.append('/Users/lindsaybassman/Documents/LBL/ArQTiC')\n",
    "from arqtic.simulation_generator import Simulation_Generator"
   ]
  },
  {
   "cell_type": "code",
   "execution_count": 2,
   "metadata": {},
   "outputs": [],
   "source": [
    "#create simulation object\n",
    "sim_obj = Simulation_Generator(\"TFIM_input.txt\")"
   ]
  },
  {
   "cell_type": "code",
   "execution_count": 3,
   "metadata": {},
   "outputs": [
    {
     "name": "stderr",
     "output_type": "stream",
     "text": [
      "configrc.store_credentials:WARNING:2020-12-04 14:06:09,028: Credentials already present. Set overwrite=True to overwrite.\n",
      "/opt/anaconda3/lib/python3.8/site-packages/qiskit/providers/ibmq/ibmqfactory.py:192: UserWarning: Timestamps in IBMQ backend properties, jobs, and job results are all now in local time instead of UTC.\n",
      "  warnings.warn('Timestamps in IBMQ backend properties, jobs, and job results '\n"
     ]
    }
   ],
   "source": [
    "#connect to IBM\n",
    "#if this is your first run enter your API key\n",
    "sim_obj.connect_IBM(api_key=\"c2629e2a2595c888d4b84e5fc15e8756ccf2e3af6f5eb7525beaee93ce017ecb7581cf3c74c8de44a88b2a554ecc7d82be52ac9e358430de782be155e4586195\")"
   ]
  },
  {
   "cell_type": "code",
   "execution_count": 4,
   "metadata": {},
   "outputs": [
    {
     "name": "stdout",
     "output_type": "stream",
     "text": [
      "Generating timestep 0 program\n",
      "Generating timestep 1 program\n",
      "Generating timestep 2 program\n",
      "Generating timestep 3 program\n",
      "Generating timestep 4 program\n",
      "Generating timestep 5 program\n",
      "Generating timestep 6 program\n",
      "Generating timestep 7 program\n",
      "Generating timestep 8 program\n",
      "Generating timestep 9 program\n",
      "Generating timestep 10 program\n",
      "Generating timestep 11 program\n",
      "Generating timestep 12 program\n",
      "Generating timestep 13 program\n",
      "Generating timestep 14 program\n",
      "Generating timestep 15 program\n",
      "Generating timestep 16 program\n",
      "Generating timestep 17 program\n",
      "Generating timestep 18 program\n",
      "Generating timestep 19 program\n",
      "Generating timestep 20 program\n",
      "Creating IBM quantum circuit objects...\n"
     ]
    },
    {
     "ename": "ValueError",
     "evalue": "invalid literal for int() with base 10: ','",
     "output_type": "error",
     "traceback": [
      "\u001b[0;31m---------------------------------------------------------------------------\u001b[0m",
      "\u001b[0;31mValueError\u001b[0m                                Traceback (most recent call last)",
      "\u001b[0;32m<ipython-input-4-d7cbd660d721>\u001b[0m in \u001b[0;36m<module>\u001b[0;34m\u001b[0m\n\u001b[1;32m      1\u001b[0m \u001b[0;31m#generate circuits\u001b[0m\u001b[0;34m\u001b[0m\u001b[0;34m\u001b[0m\u001b[0;34m\u001b[0m\u001b[0m\n\u001b[0;32m----> 2\u001b[0;31m \u001b[0msim_obj\u001b[0m\u001b[0;34m.\u001b[0m\u001b[0mgenerate_programs\u001b[0m\u001b[0;34m(\u001b[0m\u001b[0;34m)\u001b[0m\u001b[0;34m\u001b[0m\u001b[0;34m\u001b[0m\u001b[0m\n\u001b[0m",
      "\u001b[0;32m~/Documents/LBL/ArQTiC/arqtic/simulation_generator.py\u001b[0m in \u001b[0;36mgenerate_programs\u001b[0;34m(self)\u001b[0m\n\u001b[1;32m    214\u001b[0m         \u001b[0;31m#convert to backend specific circuits if one is requested\u001b[0m\u001b[0;34m\u001b[0m\u001b[0;34m\u001b[0m\u001b[0;34m\u001b[0m\u001b[0m\n\u001b[1;32m    215\u001b[0m         \u001b[0;32mif\u001b[0m \u001b[0mself\u001b[0m\u001b[0;34m.\u001b[0m\u001b[0mbackend\u001b[0m \u001b[0;32min\u001b[0m \u001b[0;34m\"ibm\"\u001b[0m\u001b[0;34m:\u001b[0m\u001b[0;34m\u001b[0m\u001b[0;34m\u001b[0m\u001b[0m\n\u001b[0;32m--> 216\u001b[0;31m             \u001b[0mself\u001b[0m\u001b[0;34m.\u001b[0m\u001b[0mgenerate_ibm\u001b[0m\u001b[0;34m(\u001b[0m\u001b[0;34m)\u001b[0m\u001b[0;34m\u001b[0m\u001b[0;34m\u001b[0m\u001b[0m\n\u001b[0m\u001b[1;32m    217\u001b[0m         \u001b[0;32mif\u001b[0m \u001b[0mself\u001b[0m\u001b[0;34m.\u001b[0m\u001b[0mbackend\u001b[0m \u001b[0;32min\u001b[0m \u001b[0;34m\"rigetti\"\u001b[0m\u001b[0;34m:\u001b[0m\u001b[0;34m\u001b[0m\u001b[0;34m\u001b[0m\u001b[0m\n\u001b[1;32m    218\u001b[0m             \u001b[0mself\u001b[0m\u001b[0;34m.\u001b[0m\u001b[0mgenerate_rigetti\u001b[0m\u001b[0;34m(\u001b[0m\u001b[0;34m)\u001b[0m\u001b[0;34m\u001b[0m\u001b[0;34m\u001b[0m\u001b[0m\n",
      "\u001b[0;32m~/Documents/LBL/ArQTiC/arqtic/simulation_generator.py\u001b[0m in \u001b[0;36mgenerate_ibm\u001b[0;34m(self)\u001b[0m\n\u001b[1;32m    244\u001b[0m             \u001b[0mindex\u001b[0m\u001b[0;34m=\u001b[0m\u001b[0;36m0\u001b[0m\u001b[0;34m\u001b[0m\u001b[0;34m\u001b[0m\u001b[0m\n\u001b[1;32m    245\u001b[0m             \u001b[0;32mfor\u001b[0m \u001b[0mflip\u001b[0m \u001b[0;32min\u001b[0m \u001b[0mself\u001b[0m\u001b[0;34m.\u001b[0m\u001b[0minitial_spins\u001b[0m\u001b[0;34m:\u001b[0m\u001b[0;34m\u001b[0m\u001b[0;34m\u001b[0m\u001b[0m\n\u001b[0;32m--> 246\u001b[0;31m                 \u001b[0;32mif\u001b[0m \u001b[0mint\u001b[0m\u001b[0;34m(\u001b[0m\u001b[0mflip\u001b[0m\u001b[0;34m)\u001b[0m\u001b[0;34m==\u001b[0m\u001b[0;36m1\u001b[0m\u001b[0;34m:\u001b[0m\u001b[0;34m\u001b[0m\u001b[0;34m\u001b[0m\u001b[0m\n\u001b[0m\u001b[1;32m    247\u001b[0m                     \u001b[0mpropcirc\u001b[0m\u001b[0;34m.\u001b[0m\u001b[0mx\u001b[0m\u001b[0;34m(\u001b[0m\u001b[0mself\u001b[0m\u001b[0;34m.\u001b[0m\u001b[0mqr\u001b[0m\u001b[0;34m[\u001b[0m\u001b[0mindex\u001b[0m\u001b[0;34m]\u001b[0m\u001b[0;34m)\u001b[0m\u001b[0;34m\u001b[0m\u001b[0;34m\u001b[0m\u001b[0m\n\u001b[1;32m    248\u001b[0m                     \u001b[0mindex\u001b[0m\u001b[0;34m+=\u001b[0m\u001b[0;36m1\u001b[0m\u001b[0;34m\u001b[0m\u001b[0;34m\u001b[0m\u001b[0m\n",
      "\u001b[0;31mValueError\u001b[0m: invalid literal for int() with base 10: ','"
     ]
    }
   ],
   "source": [
    "#generate circuits\n",
    "sim_obj.generate_programs()"
   ]
  },
  {
   "cell_type": "code",
   "execution_count": 17,
   "metadata": {},
   "outputs": [
    {
     "name": "stdout",
     "output_type": "stream",
     "text": [
      "RX ( -0.10791665726207418 ) [0]\n",
      "RX ( -0.10791665726207418 ) [1]\n",
      "RX ( -0.10791665726207418 ) [2]\n",
      "CNOT [0, 1]\n",
      "RZ ( -0.1079194545222512 ) [1]\n",
      "CNOT [0, 1]\n",
      "CNOT [1, 2]\n",
      "RZ ( -0.1079194545222512 ) [2]\n",
      "CNOT [1, 2]\n",
      "RX ( -0.10789428005070653 ) [0]\n",
      "RX ( -0.10789428005070653 ) [1]\n",
      "RX ( -0.10789428005070653 ) [2]\n",
      "CNOT [0, 1]\n",
      "RZ ( -0.1079194545222512 ) [1]\n",
      "CNOT [0, 1]\n",
      "CNOT [1, 2]\n",
      "RZ ( -0.1079194545222512 ) [2]\n",
      "CNOT [1, 2]\n",
      "RX ( -0.10784953026802963 ) [0]\n",
      "RX ( -0.10784953026802963 ) [1]\n",
      "RX ( -0.10784953026802963 ) [2]\n",
      "CNOT [0, 1]\n",
      "RZ ( -0.1079194545222512 ) [1]\n",
      "CNOT [0, 1]\n",
      "CNOT [1, 2]\n",
      "RZ ( -0.1079194545222512 ) [2]\n",
      "CNOT [1, 2]\n"
     ]
    }
   ],
   "source": [
    "#check out pre-compiled circuit at time-step\n",
    "time_step = 3\n",
    "sim_obj.circuits_list[time_step].print_list()"
   ]
  },
  {
   "cell_type": "code",
   "execution_count": 13,
   "metadata": {},
   "outputs": [
    {
     "name": "stdout",
     "output_type": "stream",
     "text": [
      "OPENQASM 2.0;\n",
      "include \"qelib1.inc\";\n",
      "qreg q[5];\n",
      "creg c[3];\n",
      "barrier q[0],q[1],q[2];\n",
      "u3(-0.1702685,-pi/2,pi/2) q[0];\n",
      "u3(-0.1702685,-pi/2,pi/2) q[1];\n",
      "cx q[0],q[1];\n",
      "u1(-0.10791945) q[1];\n",
      "cx q[0],q[1];\n",
      "u3(-0.1702332,-pi/2,pi/2) q[0];\n",
      "u3(-0.1702685,-pi/2,pi/2) q[2];\n",
      "cx q[1],q[2];\n",
      "u1(-0.10791945) q[2];\n",
      "cx q[1],q[2];\n",
      "u3(-0.1702332,-pi/2,pi/2) q[1];\n",
      "cx q[0],q[1];\n",
      "u1(-0.10791945) q[1];\n",
      "cx q[0],q[1];\n",
      "u3(-0.17016259,-pi/2,pi/2) q[0];\n",
      "u3(-0.1702332,-pi/2,pi/2) q[2];\n",
      "cx q[1],q[2];\n",
      "u1(-0.10791945) q[2];\n",
      "cx q[1],q[2];\n",
      "u3(-0.17016259,-pi/2,pi/2) q[1];\n",
      "cx q[0],q[1];\n",
      "u1(-0.10791945) q[1];\n",
      "cx q[0],q[1];\n",
      "u3(-0.17016259,-pi/2,pi/2) q[2];\n",
      "cx q[1],q[2];\n",
      "u1(-0.10791945) q[2];\n",
      "cx q[1],q[2];\n",
      "measure q[0] -> c[0];\n",
      "measure q[1] -> c[1];\n",
      "measure q[2] -> c[2];\n",
      "\n"
     ]
    }
   ],
   "source": [
    "#check out compiled circuit at time-step\n",
    "time_step = 3\n",
    "print(sim_obj.ibm_circuits_list[time_step].qasm())"
   ]
  },
  {
   "cell_type": "code",
   "execution_count": 7,
   "metadata": {},
   "outputs": [
    {
     "name": "stdout",
     "output_type": "stream",
     "text": [
      "Running noiseless simulator job...\n",
      "Noiseless simulator job successful\n",
      "Post-processing qubit 1 data\n",
      "Post-processing qubit 2 data\n",
      "Done\n"
     ]
    }
   ],
   "source": [
    "#run circuits on backend\n",
    "sim_obj.run_circuits()"
   ]
  },
  {
   "cell_type": "code",
   "execution_count": null,
   "metadata": {},
   "outputs": [],
   "source": []
  }
 ],
 "metadata": {
  "kernelspec": {
   "display_name": "Python 3",
   "language": "python",
   "name": "python3"
  },
  "language_info": {
   "codemirror_mode": {
    "name": "ipython",
    "version": 3
   },
   "file_extension": ".py",
   "mimetype": "text/x-python",
   "name": "python",
   "nbconvert_exporter": "python",
   "pygments_lexer": "ipython3",
   "version": "3.8.3"
  }
 },
 "nbformat": 4,
 "nbformat_minor": 4
}
