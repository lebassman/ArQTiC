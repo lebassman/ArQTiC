{
 "cells": [
  {
   "cell_type": "code",
   "execution_count": 1,
   "metadata": {},
   "outputs": [],
   "source": [
    "import sys\n",
    "sys.path.append('/Users/lindsaybassman/Documents/LBL/ArQTiC')\n",
    "from arqtic.simulation_generator import Simulation_Generator"
   ]
  },
  {
   "cell_type": "code",
   "execution_count": 2,
   "metadata": {},
   "outputs": [
    {
     "name": "stderr",
     "output_type": "stream",
     "text": [
      "/opt/anaconda3/lib/python3.8/site-packages/qiskit/providers/ibmq/ibmqfactory.py:192: UserWarning: Timestamps in IBMQ backend properties, jobs, and job results are all now in local time instead of UTC.\n",
      "  warnings.warn('Timestamps in IBMQ backend properties, jobs, and job results '\n"
     ]
    }
   ],
   "source": [
    "#create simulation object\n",
    "sim_obj = Simulation_Generator(\"quench_TFIM.txt\")\n",
    "#First time user of IBM's Quantum Experience API? Run the line below\n",
    "#sim_obj.connect_IBM(api_key=\"7169d7ed838518f5c48181136524bd556551a84b74b8a762959d14d2bdebffd576e346a716f29627744a71cd071159f2630e78edd2e2b3c52f9f847d2c90a716\")\n",
    "#If you already run IBM Quantum Experience API jobs, run the following instead:\n",
    "sim_obj.connect_IBM()"
   ]
  },
  {
   "cell_type": "code",
   "execution_count": 3,
   "metadata": {},
   "outputs": [
    {
     "name": "stdout",
     "output_type": "stream",
     "text": [
      "Generating timestep 0 program\n",
      "Generating timestep 1 program\n",
      "Generating timestep 2 program\n",
      "Generating timestep 3 program\n",
      "Generating timestep 4 program\n",
      "Generating timestep 5 program\n",
      "Generating timestep 6 program\n",
      "Generating timestep 7 program\n",
      "Generating timestep 8 program\n",
      "Generating timestep 9 program\n",
      "Generating timestep 10 program\n",
      "Generating timestep 11 program\n",
      "Generating timestep 12 program\n",
      "Generating timestep 13 program\n",
      "Generating timestep 14 program\n",
      "Generating timestep 15 program\n",
      "Generating timestep 16 program\n",
      "Generating timestep 17 program\n",
      "Generating timestep 18 program\n",
      "Generating timestep 19 program\n",
      "Generating timestep 20 program\n",
      "Generating timestep 21 program\n",
      "Generating timestep 22 program\n",
      "Generating timestep 23 program\n",
      "Generating timestep 24 program\n",
      "Generating timestep 25 program\n",
      "Generating timestep 26 program\n",
      "Generating timestep 27 program\n",
      "Generating timestep 28 program\n",
      "Generating timestep 29 program\n",
      "Generating timestep 30 program\n",
      "Generating timestep 31 program\n",
      "Generating timestep 32 program\n",
      "Generating timestep 33 program\n",
      "Generating timestep 34 program\n",
      "Generating timestep 35 program\n",
      "Generating timestep 36 program\n",
      "Generating timestep 37 program\n",
      "Generating timestep 38 program\n",
      "Generating timestep 39 program\n",
      "Generating timestep 40 program\n",
      "Creating IBM quantum circuit objects...\n",
      "IBM quantum circuit objects created\n",
      "Transpiling circuits...\n",
      "Circuits transpiled successfully\n"
     ]
    }
   ],
   "source": [
    "#generate programs\n",
    "sim_obj.generate_programs()"
   ]
  },
  {
   "cell_type": "code",
   "execution_count": 4,
   "metadata": {},
   "outputs": [
    {
     "name": "stdout",
     "output_type": "stream",
     "text": [
      "Running noiseless simulator job...\n",
      "Noiseless simulator job successful\n",
      "Post-processing qubit 1 data\n",
      "Post-processing qubit 2 data\n",
      "Done\n"
     ]
    }
   ],
   "source": [
    "sim_obj.run_circuits()"
   ]
  },
  {
   "cell_type": "code",
   "execution_count": 9,
   "metadata": {},
   "outputs": [
    {
     "name": "stdout",
     "output_type": "stream",
     "text": [
      "[[ 1.          1.          0.99609375  0.9921875   0.98828125  0.984375\n",
      "   0.98828125  0.95898438  0.93359375  0.9375      0.8984375   0.90234375\n",
      "   0.8828125   0.84375     0.85351562  0.84570312  0.77539062  0.76757812\n",
      "   0.72460938  0.75390625  0.69921875  0.64453125  0.6328125   0.64453125\n",
      "   0.55078125  0.50195312  0.53515625  0.46289062  0.4296875   0.4296875\n",
      "   0.2734375   0.28710938  0.32421875  0.265625    0.1796875   0.22070312\n",
      "   0.17578125  0.1328125   0.07226562 -0.015625    0.015625  ]\n",
      " [ 1.          1.          0.99609375  0.9921875   0.98046875  0.97460938\n",
      "   0.97070312  0.96289062  0.97851562  0.94140625  0.90429688  0.89648438\n",
      "   0.8828125   0.86132812  0.87695312  0.8515625   0.796875    0.78515625\n",
      "   0.74023438  0.75976562  0.68945312  0.70117188  0.62304688  0.63671875\n",
      "   0.59570312  0.59375     0.52148438  0.47265625  0.46875     0.38867188\n",
      "   0.34570312  0.28125     0.33398438  0.20898438  0.15625     0.18164062\n",
      "   0.11328125  0.12109375  0.07226562  0.0390625  -0.00195312]]\n"
     ]
    },
    {
     "ename": "IndexError",
     "evalue": "index 2 is out of bounds for axis 0 with size 2",
     "output_type": "error",
     "traceback": [
      "\u001b[0;31m---------------------------------------------------------------------------\u001b[0m",
      "\u001b[0;31mIndexError\u001b[0m                                Traceback (most recent call last)",
      "\u001b[0;32m<ipython-input-9-24e5084b6429>\u001b[0m in \u001b[0;36m<module>\u001b[0;34m\u001b[0m\n\u001b[1;32m      2\u001b[0m \u001b[0mprint\u001b[0m\u001b[0;34m(\u001b[0m\u001b[0mresults\u001b[0m\u001b[0;34m)\u001b[0m\u001b[0;34m\u001b[0m\u001b[0;34m\u001b[0m\u001b[0m\n\u001b[1;32m      3\u001b[0m \u001b[0;32mimport\u001b[0m \u001b[0mmatplotlib\u001b[0m\u001b[0;34m.\u001b[0m\u001b[0mpyplot\u001b[0m \u001b[0;32mas\u001b[0m \u001b[0mplt\u001b[0m\u001b[0;34m\u001b[0m\u001b[0;34m\u001b[0m\u001b[0m\n\u001b[0;32m----> 4\u001b[0;31m \u001b[0mplt\u001b[0m\u001b[0;34m.\u001b[0m\u001b[0mplot\u001b[0m\u001b[0;34m(\u001b[0m\u001b[0mresults\u001b[0m\u001b[0;34m[\u001b[0m\u001b[0;36m2\u001b[0m\u001b[0;34m,\u001b[0m\u001b[0;34m:\u001b[0m\u001b[0;34m]\u001b[0m\u001b[0;34m)\u001b[0m\u001b[0;34m\u001b[0m\u001b[0;34m\u001b[0m\u001b[0m\n\u001b[0m\u001b[1;32m      5\u001b[0m \u001b[0mplt\u001b[0m\u001b[0;34m.\u001b[0m\u001b[0mxlabel\u001b[0m\u001b[0;34m(\u001b[0m\u001b[0;34m\"Simulation Timestep\"\u001b[0m\u001b[0;34m)\u001b[0m\u001b[0;34m\u001b[0m\u001b[0;34m\u001b[0m\u001b[0m\n\u001b[1;32m      6\u001b[0m \u001b[0mplt\u001b[0m\u001b[0;34m.\u001b[0m\u001b[0mylabel\u001b[0m\u001b[0;34m(\u001b[0m\u001b[0;34m\"Average Magnetization\"\u001b[0m\u001b[0;34m)\u001b[0m\u001b[0;34m\u001b[0m\u001b[0;34m\u001b[0m\u001b[0m\n",
      "\u001b[0;31mIndexError\u001b[0m: index 2 is out of bounds for axis 0 with size 2"
     ]
    }
   ],
   "source": [
    "\n",
    "results=sim_obj.results()\n",
    "print(results)\n",
    "import matplotlib.pyplot as plt\n",
    "plt.plot(results[2,:])\n",
    "plt.xlabel(\"Simulation Timestep\")\n",
    "plt.ylabel(\"Average Magnetization\")"
   ]
  },
  {
   "cell_type": "code",
   "execution_count": null,
   "metadata": {},
   "outputs": [],
   "source": []
  }
 ],
 "metadata": {
  "kernelspec": {
   "display_name": "Python 3",
   "language": "python",
   "name": "python3"
  },
  "language_info": {
   "codemirror_mode": {
    "name": "ipython",
    "version": 3
   },
   "file_extension": ".py",
   "mimetype": "text/x-python",
   "name": "python",
   "nbconvert_exporter": "python",
   "pygments_lexer": "ipython3",
   "version": "3.8.3"
  }
 },
 "nbformat": 4,
 "nbformat_minor": 4
}
