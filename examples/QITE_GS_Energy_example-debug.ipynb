{
 "cells": [
  {
   "cell_type": "code",
   "execution_count": 13,
   "metadata": {},
   "outputs": [],
   "source": [
    "import sys\n",
    "sys.path.append('/Users/lindsaybassman/Documents/LBL/ArQTiC')\n",
    "from arqtic.simulation_generator import Simulation_Generator\n",
    "import matplotlib.pyplot as plt\n",
    "import numpy as np\n",
    "import qiskit as qk\n",
    "from qiskit import Aer, IBMQ, execute\n",
    "import random\n",
    "import qsearch\n",
    "import scipy.linalg as la"
   ]
  },
  {
   "cell_type": "code",
   "execution_count": 25,
   "metadata": {},
   "outputs": [],
   "source": [
    "#create simulation object\n",
    "sim_obj = Simulation_Generator(\"QITE_input.txt\")\n",
    "N = sim_obj.num_spins"
   ]
  },
  {
   "cell_type": "code",
   "execution_count": 26,
   "metadata": {},
   "outputs": [
    {
     "name": "stdout",
     "output_type": "stream",
     "text": [
      "5.0\n",
      "0.5\n"
     ]
    }
   ],
   "source": [
    "print(sim_obj.beta)\n",
    "print(sim_obj.delta_beta)"
   ]
  },
  {
   "cell_type": "code",
   "execution_count": 27,
   "metadata": {},
   "outputs": [],
   "source": [
    "#connect to IBM\n",
    "#if this is your first run enter your API key\n",
    "#sim_obj.connect_IBM(api_key=\"c2629e2a2595c888d4b84e5fc15e8756ccf2e3af6f5eb7525beaee93ce017ecb7581cf3c74c8de44a88b2a554ecc7d82be52ac9e358430de782be155e4586195\")"
   ]
  },
  {
   "cell_type": "code",
   "execution_count": 28,
   "metadata": {},
   "outputs": [],
   "source": [
    "qasm_sim = Aer.get_backend('qasm_simulator')\n",
    "unitary_sim = Aer.get_backend('unitary_simulator')\n",
    "state_vector_sim = Aer.get_backend('statevector_simulator')"
   ]
  },
  {
   "cell_type": "code",
   "execution_count": 29,
   "metadata": {},
   "outputs": [
    {
     "name": "stdout",
     "output_type": "stream",
     "text": [
      "initial_spins:  ['1', '1', '0']\n",
      "init psi is: [0 0 0 0 0 0 1 0]\n",
      "Creating IBM quantum circuit objects...\n",
      "IBM quantum circuit objects created\n"
     ]
    }
   ],
   "source": [
    "#generate circuits\n",
    "sim_obj.generate_programs()"
   ]
  },
  {
   "cell_type": "code",
   "execution_count": 30,
   "metadata": {},
   "outputs": [],
   "source": [
    "#get results\n",
    "energies = sim_obj.qite_energies"
   ]
  },
  {
   "cell_type": "code",
   "execution_count": 31,
   "metadata": {},
   "outputs": [
    {
     "data": {
      "image/png": "[encoded data removed]",
      "text/plain": [
       "<Figure size 600x600 with 1 Axes>"
      ]
     },
     "metadata": {
      "needs_background": "light"
     },
     "output_type": "display_data"
    }
   ],
   "source": [
    "plt.figure(figsize=[4,4], dpi=150)\n",
    "#plt.plot(np.arange(0,num_beta+1)*dbeta,E,'-ro',label='QITE')\n",
    "plt.plot(energies,'-ro')\n",
    "#plt.axhline(y=w[0], color='k',linestyle='--',label=\"Ground state\")\n",
    "#plt.title(\"QITE\")\n",
    "plt.xlabel(\"Imaginary time\")\n",
    "plt.ylabel(\"Energy\")\n",
    "#plt.hlines(-2.2335146376196326, 0, 100, color=\"black\", linestyles='dashed') #2qubits Jz=1, mu_x=1, beta=5\n",
    "#plt.hlines(-1.8353800357595826, 0, 100, color=\"black\", linestyles='dashed') #2qubits Jz=1, mu_x=1, beta=1\n",
    "#plt.hlines(-2.2360626825057124, 0, 10, color=\"black\", linestyles='dashed') #2qubits Jz=1, mu_x=1, beta=10\n",
    "plt.hlines(-3.493837927970963, 0, 10, color=\"black\", linestyles='dashed') #3qubits Jz=1, mu_x=1, beta=10\n",
    "\n",
    "plt.grid()\n",
    "#plt.xlim(0,10)\n",
    "\n",
    "#plt.legend(bbox_to_anchor=(1.0,1.0))\n",
    "plt.show()\n",
    "#plt.savefig('QITE_GSenergy.png')"
   ]
  },
  {
   "cell_type": "code",
   "execution_count": 32,
   "metadata": {},
   "outputs": [
    {
     "name": "stdout",
     "output_type": "stream",
     "text": [
      "[1.1102230246251565e-16, -2.4836119076725334, -3.130506750476857, -3.251369428593663, -3.3062115558307608, -3.3347873866988764, -3.3524235630923114, -3.362380401545672, -3.3676089836123593, -3.3702662138130166, -3.4157421086398196]\n"
     ]
    }
   ],
   "source": [
    "print(energies)"
   ]
  },
  {
   "cell_type": "code",
   "execution_count": 33,
   "metadata": {},
   "outputs": [
    {
     "name": "stdout",
     "output_type": "stream",
     "text": [
      "                      ┌──────────┐            ┌──────────┐            »\n",
      "q_0: ─────────────────┤0         ├────────────┤0         ├────────────»\n",
      "     ┌───┐┌──────────┐│  unitary │┌──────────┐│  unitary │┌──────────┐»\n",
      "q_1: ┤ X ├┤0         ├┤1         ├┤0         ├┤1         ├┤0         ├»\n",
      "     ├───┤│  unitary │└──────────┘│  unitary │└──────────┘│  unitary │»\n",
      "q_2: ┤ X ├┤1         ├────────────┤1         ├────────────┤1         ├»\n",
      "     └───┘└──────────┘            └──────────┘            └──────────┘»\n",
      "c: 3/═════════════════════════════════════════════════════════════════»\n",
      "                                                                      »\n",
      "«     ┌──────────┐            ┌──────────┐            ┌──────────┐            »\n",
      "«q_0: ┤0         ├────────────┤0         ├────────────┤0         ├────────────»\n",
      "«     │  unitary │┌──────────┐│  unitary │┌──────────┐│  unitary │┌──────────┐»\n",
      "«q_1: ┤1         ├┤0         ├┤1         ├┤0         ├┤1         ├┤0         ├»\n",
      "«     └──────────┘│  unitary │└──────────┘│  unitary │└──────────┘│  unitary │»\n",
      "«q_2: ────────────┤1         ├────────────┤1         ├────────────┤1         ├»\n",
      "«                 └──────────┘            └──────────┘            └──────────┘»\n",
      "«c: 3/════════════════════════════════════════════════════════════════════════»\n",
      "«                                                                             »\n",
      "«     ┌──────────┐            ┌──────────┐            ┌──────────┐            »\n",
      "«q_0: ┤0         ├────────────┤0         ├────────────┤0         ├────────────»\n",
      "«     │  unitary │┌──────────┐│  unitary │┌──────────┐│  unitary │┌──────────┐»\n",
      "«q_1: ┤1         ├┤0         ├┤1         ├┤0         ├┤1         ├┤0         ├»\n",
      "«     └──────────┘│  unitary │└──────────┘│  unitary │└──────────┘│  unitary │»\n",
      "«q_2: ────────────┤1         ├────────────┤1         ├────────────┤1         ├»\n",
      "«                 └──────────┘            └──────────┘            └──────────┘»\n",
      "«c: 3/════════════════════════════════════════════════════════════════════════»\n",
      "«                                                                             »\n",
      "«     ┌──────────┐            ┌──────────┐\n",
      "«q_0: ┤0         ├────────────┤0         ├\n",
      "«     │  unitary │┌──────────┐│  unitary │\n",
      "«q_1: ┤1         ├┤0         ├┤1         ├\n",
      "«     └──────────┘│  unitary │└──────────┘\n",
      "«q_2: ────────────┤1         ├────────────\n",
      "«                 └──────────┘            \n",
      "«c: 3/════════════════════════════════════\n",
      "«                                         \n",
      "[[ 0.20363508+0.j -0.1262614 +0.j  0.25353071+0.j  0.3072872 +0.j\n",
      "   0.12636816+0.j  0.23537784+0.j -0.09797602+0.j  0.83840124+0.j]\n",
      " [-0.20213416+0.j -0.5933336 +0.j  0.02925104+0.j -0.21847425+0.j\n",
      "  -0.23142141+0.j  0.60906096+0.j -0.33635425+0.j -0.14444758+0.j]\n",
      " [-0.60770211+0.j -0.13911826+0.j  0.29662431+0.j  0.32269486+0.j\n",
      "   0.53331317+0.j  0.10499244+0.j  0.31621827+0.j -0.15422694+0.j]\n",
      " [ 0.29948071+0.j  0.14665901+0.j  0.42278162+0.j -0.0385845 +0.j\n",
      "  -0.33578088+0.j  0.39976626+0.j  0.64284469+0.j -0.15085826+0.j]\n",
      " [-0.28302574+0.j -0.27533461+0.j -0.55853327+0.j  0.25085602+0.j\n",
      "  -0.42428191+0.j -0.08883342+0.j  0.46886091+0.j  0.24791542+0.j]\n",
      " [ 0.54580204+0.j -0.27756549+0.j -0.45472702+0.j  0.08754422+0.j\n",
      "   0.52948955+0.j  0.23132852+0.j  0.2014593 +0.j -0.19015508+0.j]\n",
      " [ 0.20986578+0.j -0.11607295+0.j  0.13779406+0.j  0.79491756+0.j\n",
      "  -0.27005056+0.j -0.10548694+0.j -0.27490985+0.j -0.36327961+0.j]\n",
      " [-0.19140767+0.j  0.65178667+0.j -0.36112739+0.j  0.22301611+0.j\n",
      "   0.00136115+0.j  0.57469452+0.j -0.1674258 +0.j -0.00900091+0.j]]\n"
     ]
    }
   ],
   "source": [
    "ibm_qite_circ = sim_obj.ibm_circuits_list[0]\n",
    "print(ibm_qite_circ)\n",
    "unitary_sim = Aer.get_backend('unitary_simulator')\n",
    "job = execute(ibm_qite_circ, unitary_sim)\n",
    "result = job.result()\n",
    "ibm_qite_unitary = result.get_unitary(ibm_qite_circ, decimals=16)\n",
    "print(ibm_qite_unitary)\n"
   ]
  },
  {
   "cell_type": "code",
   "execution_count": 11,
   "metadata": {},
   "outputs": [
    {
     "ename": "ValueError",
     "evalue": "matmul: Input operand 1 has a mismatch in its core dimension 0, with gufunc signature (n?,k),(k,m?)->(n?,m?) (size 8 is different from 16)",
     "output_type": "error",
     "traceback": [
      "\u001b[0;31m---------------------------------------------------------------------------\u001b[0m",
      "\u001b[0;31mValueError\u001b[0m                                Traceback (most recent call last)",
      "\u001b[0;32m<ipython-input-11-34d7d7091f24>\u001b[0m in \u001b[0;36m<module>\u001b[0;34m\u001b[0m\n\u001b[1;32m      7\u001b[0m     \u001b[0;32melse\u001b[0m\u001b[0;34m:\u001b[0m\u001b[0;34m\u001b[0m\u001b[0;34m\u001b[0m\u001b[0m\n\u001b[1;32m      8\u001b[0m         \u001b[0mmat\u001b[0m \u001b[0;34m=\u001b[0m \u001b[0mnp\u001b[0m\u001b[0;34m.\u001b[0m\u001b[0mkron\u001b[0m\u001b[0;34m(\u001b[0m\u001b[0mnp\u001b[0m\u001b[0;34m.\u001b[0m\u001b[0meye\u001b[0m\u001b[0;34m(\u001b[0m\u001b[0;36m2\u001b[0m\u001b[0;34m)\u001b[0m\u001b[0;34m,\u001b[0m \u001b[0mmat\u001b[0m\u001b[0;34m)\u001b[0m\u001b[0;34m\u001b[0m\u001b[0;34m\u001b[0m\u001b[0m\n\u001b[0;32m----> 9\u001b[0;31m     \u001b[0mprog_qite_unitary\u001b[0m \u001b[0;34m=\u001b[0m \u001b[0mnp\u001b[0m\u001b[0;34m.\u001b[0m\u001b[0mmatmul\u001b[0m\u001b[0;34m(\u001b[0m\u001b[0mmat\u001b[0m\u001b[0;34m,\u001b[0m \u001b[0mprog_qite_unitary\u001b[0m\u001b[0;34m)\u001b[0m\u001b[0;34m\u001b[0m\u001b[0;34m\u001b[0m\u001b[0m\n\u001b[0m\u001b[1;32m     10\u001b[0m     \u001b[0midx\u001b[0m \u001b[0;34m+=\u001b[0m \u001b[0;36m1\u001b[0m\u001b[0;34m\u001b[0m\u001b[0;34m\u001b[0m\u001b[0m\n\u001b[1;32m     11\u001b[0m \u001b[0mprint\u001b[0m\u001b[0;34m(\u001b[0m\u001b[0mprog_qite_unitary\u001b[0m\u001b[0;34m)\u001b[0m\u001b[0;34m\u001b[0m\u001b[0;34m\u001b[0m\u001b[0m\n",
      "\u001b[0;31mValueError\u001b[0m: matmul: Input operand 1 has a mismatch in its core dimension 0, with gufunc signature (n?,k),(k,m?)->(n?,m?) (size 8 is different from 16)"
     ]
    }
   ],
   "source": [
    "prog_qite_unitary = np.eye(2**N)\n",
    "idx = 0\n",
    "for gate in sim_obj.programs_list[0].gates:\n",
    "    mat = gate.matrix()\n",
    "    if (idx%2 == 0):\n",
    "        mat = np.kron(mat, np.eye(2))\n",
    "    else:\n",
    "        mat = np.kron(np.eye(2), mat)\n",
    "    prog_qite_unitary = np.matmul(mat, prog_qite_unitary)\n",
    "    idx += 1\n",
    "print(prog_qite_unitary)"
   ]
  },
  {
   "cell_type": "code",
   "execution_count": 32,
   "metadata": {},
   "outputs": [
    {
     "ename": "ValueError",
     "evalue": "matmul: Input operand 1 has a mismatch in its core dimension 0, with gufunc signature (n?,k),(k,m?)->(n?,m?) (size 8 is different from 2)",
     "output_type": "error",
     "traceback": [
      "\u001b[0;31m---------------------------------------------------------------------------\u001b[0m",
      "\u001b[0;31mValueError\u001b[0m                                Traceback (most recent call last)",
      "\u001b[0;32m<ipython-input-32-dacc1dd723f7>\u001b[0m in \u001b[0;36m<module>\u001b[0;34m\u001b[0m\n\u001b[1;32m      1\u001b[0m \u001b[0mprog_qite_unitary\u001b[0m \u001b[0;34m=\u001b[0m \u001b[0mnp\u001b[0m\u001b[0;34m.\u001b[0m\u001b[0meye\u001b[0m\u001b[0;34m(\u001b[0m\u001b[0;36m2\u001b[0m\u001b[0;34m**\u001b[0m\u001b[0mN\u001b[0m\u001b[0;34m)\u001b[0m\u001b[0;34m\u001b[0m\u001b[0;34m\u001b[0m\u001b[0m\n\u001b[1;32m      2\u001b[0m \u001b[0;32mfor\u001b[0m \u001b[0mgate\u001b[0m \u001b[0;32min\u001b[0m \u001b[0msim_obj\u001b[0m\u001b[0;34m.\u001b[0m\u001b[0mprograms_list\u001b[0m\u001b[0;34m[\u001b[0m\u001b[0;36m0\u001b[0m\u001b[0;34m]\u001b[0m\u001b[0;34m.\u001b[0m\u001b[0mgates\u001b[0m\u001b[0;34m:\u001b[0m\u001b[0;34m\u001b[0m\u001b[0;34m\u001b[0m\u001b[0m\n\u001b[0;32m----> 3\u001b[0;31m     \u001b[0mprog_qite_unitary\u001b[0m \u001b[0;34m=\u001b[0m \u001b[0mnp\u001b[0m\u001b[0;34m.\u001b[0m\u001b[0mmatmul\u001b[0m\u001b[0;34m(\u001b[0m\u001b[0mgate\u001b[0m\u001b[0;34m.\u001b[0m\u001b[0mmatrix\u001b[0m\u001b[0;34m(\u001b[0m\u001b[0;34m)\u001b[0m\u001b[0;34m,\u001b[0m \u001b[0mprog_qite_unitary\u001b[0m\u001b[0;34m)\u001b[0m\u001b[0;34m\u001b[0m\u001b[0;34m\u001b[0m\u001b[0m\n\u001b[0m\u001b[1;32m      4\u001b[0m \u001b[0mprint\u001b[0m\u001b[0;34m(\u001b[0m\u001b[0mprog_qite_unitary\u001b[0m\u001b[0;34m)\u001b[0m\u001b[0;34m\u001b[0m\u001b[0;34m\u001b[0m\u001b[0m\n",
      "\u001b[0;31mValueError\u001b[0m: matmul: Input operand 1 has a mismatch in its core dimension 0, with gufunc signature (n?,k),(k,m?)->(n?,m?) (size 8 is different from 2)"
     ]
    }
   ],
   "source": [
    "prog_qite_unitary = np.eye(2**N)\n",
    "for gate in sim_obj.programs_list[0].gates:\n",
    "    prog_qite_unitary = np.matmul(gate.matrix(), prog_qite_unitary)\n",
    "print(prog_qite_unitary)"
   ]
  },
  {
   "cell_type": "code",
   "execution_count": 14,
   "metadata": {},
   "outputs": [
    {
     "name": "stdout",
     "output_type": "stream",
     "text": [
      "0.0\n"
     ]
    }
   ],
   "source": [
    "temp = np.matmul(np.conj(np.transpose(ibm_qite_unitary)), prog_qite_unitary)\n",
    "print(1 - ( np.abs( np.trace( temp ) ) / ( 2 ** N ) ))"
   ]
  },
  {
   "cell_type": "code",
   "execution_count": 13,
   "metadata": {},
   "outputs": [],
   "source": [
    "ibm_qite_unitary_rev = qsearch.utils.endian_reverse(ibm_qite_unitary, d=8)"
   ]
  },
  {
   "cell_type": "code",
   "execution_count": 14,
   "metadata": {},
   "outputs": [
    {
     "name": "stdout",
     "output_type": "stream",
     "text": [
      "[[ 0.19775874+0.j  0.53158446+0.j  0.39686022+0.j  0.30108646+0.j\n",
      "  -0.09282613+0.j  0.33518707+0.j  0.54649245+0.j  0.10265128+0.j]\n",
      " [-0.20545028+0.j -0.36104906+0.j  0.26519311+0.j  0.59289031+0.j\n",
      "   0.53937293+0.j -0.21353915+0.j  0.08200522+0.j  0.24968075+0.j]\n",
      " [-0.57605533+0.j -0.3970227 +0.j  0.24734231+0.j  0.09878768+0.j\n",
      "  -0.45308401+0.j  0.34910483+0.j  0.12775661+0.j -0.31002411+0.j]\n",
      " [ 0.29065455+0.j -0.32183132+0.j  0.59488572+0.j -0.37962103+0.j\n",
      "  -0.08760516+0.j  0.18547338+0.j -0.23138735+0.j  0.46725608+0.j]\n",
      " [-0.291593  +0.j  0.47612007+0.j  0.17162451+0.j  0.28196325+0.j\n",
      "  -0.06610497+0.j  0.12497351+0.j -0.74242341+0.j  0.09024518+0.j]\n",
      " [ 0.57958348+0.j -0.28434893+0.j -0.16002785+0.j  0.56573768+0.j\n",
      "  -0.43650727+0.j  0.02022161+0.j -0.19979855+0.j -0.08181485+0.j]\n",
      " [ 0.20501657+0.j -0.1176212 +0.j -0.09324806+0.j -0.01673479+0.j\n",
      "   0.53323615+0.j  0.70444943+0.j -0.1565974 +0.j -0.36061844+0.j]\n",
      " [-0.19846049+0.j -0.06693075+0.j -0.54161633+0.j  0.06414397+0.j\n",
      "  -0.09083566+0.j  0.41653308+0.j  0.0955226 +0.j  0.68395579+0.j]]\n",
      "[[ 0.19775874+0.j  0.53158446+0.j  0.39686022+0.j  0.30108646+0.j\n",
      "  -0.09282613+0.j  0.33518707+0.j  0.54649245+0.j  0.10265128+0.j]\n",
      " [-0.20545028+0.j -0.36104906+0.j  0.26519311+0.j  0.59289031+0.j\n",
      "   0.53937293+0.j -0.21353915+0.j  0.08200522+0.j  0.24968075+0.j]\n",
      " [-0.57605533+0.j -0.3970227 +0.j  0.24734231+0.j  0.09878768+0.j\n",
      "  -0.45308401+0.j  0.34910483+0.j  0.12775661+0.j -0.31002411+0.j]\n",
      " [ 0.29065455+0.j -0.32183132+0.j  0.59488572+0.j -0.37962103+0.j\n",
      "  -0.08760516+0.j  0.18547338+0.j -0.23138735+0.j  0.46725608+0.j]\n",
      " [-0.291593  +0.j  0.47612007+0.j  0.17162451+0.j  0.28196325+0.j\n",
      "  -0.06610497+0.j  0.12497351+0.j -0.74242341+0.j  0.09024518+0.j]\n",
      " [ 0.57958348+0.j -0.28434893+0.j -0.16002785+0.j  0.56573768+0.j\n",
      "  -0.43650727+0.j  0.02022161+0.j -0.19979855+0.j -0.08181485+0.j]\n",
      " [ 0.20501657+0.j -0.1176212 +0.j -0.09324806+0.j -0.01673479+0.j\n",
      "   0.53323615+0.j  0.70444943+0.j -0.1565974 +0.j -0.36061844+0.j]\n",
      " [-0.19846049+0.j -0.06693075+0.j -0.54161633+0.j  0.06414397+0.j\n",
      "  -0.09083566+0.j  0.41653308+0.j  0.0955226 +0.j  0.68395579+0.j]]\n"
     ]
    }
   ],
   "source": [
    "print(ibm_qite_unitary_rev)\n",
    "print(ibm_qite_unitary)"
   ]
  },
  {
   "cell_type": "code",
   "execution_count": 34,
   "metadata": {},
   "outputs": [],
   "source": [
    "#Pauli matrices\n",
    "sx = np.array([[0, 1], [1, 0]])\n",
    "sy = np.array([[0, -1j], [1j, 0]])\n",
    "sz = np.array([[1, 0], [0, -1]])\n",
    "Jz = sim_obj.Jz\n",
    "mu_x = sim_obj.h_ext\n",
    "hinit = np.zeros((2**N, 2**N), dtype=np.complex128)\n",
    "#2qubits\n",
    "#hinit += Jz*np.kron(sz,sz)\n",
    "#hinit += mu_x*np.kron(sx,np.eye(2))\n",
    "#hinit += mu_x*np.kron(np.eye(2),sx)\n",
    "#3qubits\n",
    "hinit += Jz*np.kron(np.eye(2),np.kron(sz,sz))\n",
    "hinit += Jz*np.kron(np.kron(sz,sz),np.eye(2))\n",
    "hinit += mu_x*np.kron(sx,np.kron(np.eye(2),np.eye(2)))\n",
    "hinit += mu_x*np.kron(np.eye(2),np.kron(sx,np.eye(2)))\n",
    "hinit += mu_x*np.kron(np.eye(2),np.kron(np.eye(2),sx))"
   ]
  },
  {
   "cell_type": "code",
   "execution_count": 76,
   "metadata": {},
   "outputs": [],
   "source": [
    "psi = [1,0,0,0,0,0,0,0]"
   ]
  },
  {
   "cell_type": "code",
   "execution_count": 77,
   "metadata": {},
   "outputs": [
    {
     "name": "stdout",
     "output_type": "stream",
     "text": [
      "[-0.19568555-0.00295871j  0.30919358+0.00453222j  0.45944949+0.0074412j\n",
      " -0.27460899-0.00425028j  0.31309865+0.00453923j -0.59935802-0.00838722j\n",
      " -0.27854739-0.00428728j  0.21102461+0.00310976j]\n"
     ]
    }
   ],
   "source": [
    "ibm_qite_psi = np.dot(ibm_qite_unitary, psi)\n",
    "print(ibm_qite_psi)"
   ]
  },
  {
   "cell_type": "code",
   "execution_count": 78,
   "metadata": {},
   "outputs": [
    {
     "name": "stdout",
     "output_type": "stream",
     "text": [
      "(-3.4840405816184434+0j)\n"
     ]
    }
   ],
   "source": [
    "obs = np.dot(np.transpose(np.conj(ibm_qite_psi)), np.dot(hinit, ibm_qite_psi))\n",
    "print(obs)"
   ]
  },
  {
   "cell_type": "code",
   "execution_count": 35,
   "metadata": {},
   "outputs": [
    {
     "name": "stdout",
     "output_type": "stream",
     "text": [
      "-3.4157421086398188\n"
     ]
    }
   ],
   "source": [
    "result = qk.execute(ibm_qite_circ, state_vector_sim).result()\n",
    "statevector = result.get_statevector(ibm_qite_circ)\n",
    "eng = np.real(np.dot(np.conj(statevector).transpose(), np.dot(hinit, statevector)))\n",
    "print(eng)"
   ]
  },
  {
   "cell_type": "code",
   "execution_count": 35,
   "metadata": {},
   "outputs": [
    {
     "name": "stdout",
     "output_type": "stream",
     "text": [
      "[1. 0. 0. 0. 0. 0. 0. 0.]\n"
     ]
    }
   ],
   "source": [
    "qite_psi = np.dot(prog_qite_unitary, psi)\n",
    "print(qite_psi)\n",
    "#print(np.linalg.norm(psi))"
   ]
  },
  {
   "cell_type": "code",
   "execution_count": 18,
   "metadata": {},
   "outputs": [
    {
     "name": "stdout",
     "output_type": "stream",
     "text": [
      "(-3.481683829310013+0j)\n"
     ]
    }
   ],
   "source": [
    "obs = np.dot(np.transpose(np.conj(qite_psi)), np.dot(hinit, qite_psi))\n",
    "print(obs)"
   ]
  },
  {
   "cell_type": "code",
   "execution_count": null,
   "metadata": {},
   "outputs": [],
   "source": []
  },
  {
   "cell_type": "code",
   "execution_count": null,
   "metadata": {},
   "outputs": [],
   "source": []
  }
 ],
 "metadata": {
  "kernelspec": {
   "display_name": "Python 3",
   "language": "python",
   "name": "python3"
  },
  "language_info": {
   "codemirror_mode": {
    "name": "ipython",
    "version": 3
   },
   "file_extension": ".py",
   "mimetype": "text/x-python",
   "name": "python",
   "nbconvert_exporter": "python",
   "pygments_lexer": "ipython3",
   "version": "3.8.3"
  }
 },
 "nbformat": 4,
 "nbformat_minor": 4
}
