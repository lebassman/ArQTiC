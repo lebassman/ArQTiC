{
 "cells": [
  {
   "cell_type": "code",
   "execution_count": 1,
   "metadata": {},
   "outputs": [],
   "source": [
    "#import libraries and functions\n",
    "import numpy as np\n",
    "from arqtic.program import Program, random_bitstring\n",
    "from arqtic.hamiltonians import Ising_Hamiltonian\n",
    "from arqtic.arqtic_for_ibm import run_ibm\n",
    "import arqtic.QITE as qite\n",
    "import qiskit as qk\n",
    "from qiskit import Aer, IBMQ, execute\n",
    "import matplotlib.pyplot as plt"
   ]
  },
  {
   "cell_type": "code",
   "execution_count": 2,
   "metadata": {},
   "outputs": [],
   "source": [
    "#interfacing with IBM\n",
    "########################################\n",
    "#The following only needs to be run if this you very first time running this pynb, comment out all subsequent times\n",
    "#qk.IBMQ.save_account('API_token_here')\n",
    "#qk.IBMQ.load_account()\n",
    "########################################\n",
    "\n",
    "#set up simulator\n",
    "simulator = Aer.get_backend('qasm_simulator')\n",
    "#set optimization level for transpiler\n",
    "opt_level = 3"
   ]
  },
  {
   "cell_type": "code",
   "execution_count": 3,
   "metadata": {},
   "outputs": [],
   "source": [
    "#define post-processing functions\n",
    "#get amouot of work from QC results\n",
    "def get_work(results, shots):\n",
    "    work = 0\n",
    "    for result in results:\n",
    "        state_vec = result[0]\n",
    "        count = result[1]\n",
    "        work_comp = 0\n",
    "        for i in range(len(state_vec)):\n",
    "            if (state_vec[i] == 0):\n",
    "                work_comp += 1\n",
    "            else:\n",
    "                work_comp += -1\n",
    "        work_comp *= count\n",
    "        work += work_comp\n",
    "    work = work/shots\n",
    "    return work"
   ]
  },
  {
   "cell_type": "code",
   "execution_count": 33,
   "metadata": {},
   "outputs": [],
   "source": [
    "#define system variables\n",
    "N = 3 #number of qubits\n",
    "Jz = 0.7 #ising interaction strength !!! Not used for 1-qubit\n",
    "mu_x = 0.3 #transverse magnetic field strength\n",
    "param_free_ham = Ising_Hamiltonian(N, Jz, [mu_x, 0, 0]) #parameter-free Hamiltonian\n",
    "ising_ham0 = Ising_Hamiltonian(N, Jz, [mu_x, 0, 0]) #Hamiltonian at beginning of parameter sweep\n",
    "\n",
    "#define simulation variables\n",
    "tau = 10 #total trajectory time to evolve lambda from 0 to 1\n",
    "dtau = 1.0 #time-step for trajectory\n",
    "num_steps = int(tau/dtau)\n",
    "T = 100 #total number of trajectories\n",
    "dt =  dtau #timestep for Trotter approximation: setting equal to dtau means one trotter-step per time-step in evolution\n",
    "lambda_protocol = np.linspace(1.0, 0,num_steps)\n",
    "#print(lambda_protocol)\n",
    "dldt = (lambda_protocol[1]-lambda_protocol[0])/dtau # d(lambda)/d(tau)\n",
    "#print(dldt) \n",
    "shots = 1000\n",
    "\n",
    "#define QITE variables\n",
    "beta = 0.4 #inverse temperature of systems\n",
    "dbeta = 0.05 #step-size in beta for QITE\n",
    "domain = 2 #domain of opertators for QITE"
   ]
  },
  {
   "cell_type": "code",
   "execution_count": 34,
   "metadata": {},
   "outputs": [],
   "source": [
    "#create program to move to x-basis for measurement\n",
    "prog_xBasis = Program(N)\n",
    "prog_xBasis.get_x_basis_prog()\n",
    "\n",
    "#first state should be random\n",
    "measured_metts_state = random_bitstring(N)\n",
    "#subsequent entries are derived from running QMETTS on the previously derived\n",
    "#state and measuring a random observable to get the state for the subsequent run\n",
    "\n",
    "#need to sum work over each trajectory and then average over works\n",
    "work = []\n",
    "#loop over trajectories\n",
    "for i in range(T):\n",
    "    #print(i)\n",
    "    psi0 = qite.get_state_from_string(measured_metts_state)\n",
    "    prog_TS = Program(N)\n",
    "    prog_TS.make_ps_prog(measured_metts_state)\n",
    "    #print(measured_metts_state)\n",
    "    #print(\"PS circuit\")\n",
    "    #prog_TS.print_list()\n",
    "    prog_qite = Program(N)\n",
    "    #note QITE algorithm should evolve state by beta/2 for temperature beta\n",
    "    prog_qite.make_QITE_prog(ising_ham0, beta/2.0, dbeta, domain, np.asarray(psi0), 1.0)\n",
    "    #print(\"QITE circuit\")\n",
    "    #prog_qite.print_list()\n",
    "    prog_TS.append_program(prog_qite)\n",
    "    #print(\"TS circuit\")\n",
    "    #prog_TS.print_list()\n",
    "    #make and run qmetts program\n",
    "    prog_qmetts = Program(N)\n",
    "    prog_qmetts.append_program(prog_TS)\n",
    "    #make random measurement operator\n",
    "    if (i%2 == 0):\n",
    "        prog_qmetts.append_program(prog_xBasis)\n",
    "    #print(\"QMETTS circuit\")\n",
    "    #prog_qmetts.print_list()\n",
    "    results = run_ibm(simulator, prog_qmetts, opt_level)\n",
    "    #update measured metts state for next trajectory\n",
    "    measured_metts_state = results[0][0]\n",
    "    #make and run JE program\n",
    "    prog_JE = Program(N)\n",
    "    prog_JE.append_program(prog_TS)\n",
    "    #loop over time-steps in trajectory i\n",
    "    work_i = 0    \n",
    "    for step in range(num_steps):\n",
    "        #print(step)\n",
    "        #make Hamilton Evolution program for given time-step of given trajectory\n",
    "        prog_hamEvol = Program(N)\n",
    "        prog_hamEvol.make_hamEvol_prog(step, dtau, dt, lambda_protocol, param_free_ham)\n",
    "        #complete JE program: combing IPS preparation, QITE, and Hamiltonian evolution\n",
    "        prog_JE.append_program(prog_hamEvol)\n",
    "        prog_JE.append_program(prog_xBasis)\n",
    "        results = run_ibm(simulator, prog_JE, shots, opt_level)\n",
    "        #print(results)\n",
    "        #print(get_work(results, shots))\n",
    "        work_i += dldt*dtau*(-mu_x)*get_work(results, shots)\n",
    "    work.append(work_i)\n",
    "\n",
    "\n",
    "#print(work)\n",
    "\n",
    "#FE = get_free_energy(work)  !!This function not yet implemented"
   ]
  },
  {
   "cell_type": "code",
   "execution_count": 35,
   "metadata": {},
   "outputs": [],
   "source": [
    "#save data to file\n",
    "fname = 'Jz_{}_mu_x_{}_beta_{}_hist.csv'.format(Jz,mu_x, beta)\n",
    "f = open(fname, 'w')\n",
    "f.write(\"N: \"+ str(N) + '\\n')\n",
    "f.write(\"mu_x: \"+ str(mu_x) + '\\n')\n",
    "f.write(\"Jz: \"+ str(Jz) + '\\n')\n",
    "f.write(\"beta: \"+ str(beta) + '\\n')\n",
    "f.write(\"dbeta: \"+ str(dbeta) + '\\n')\n",
    "f.write(\"T: \"+ str(T) + '\\n')\n",
    "f.write(\"tau: \"+ str(tau) + '\\n')\n",
    "f.write(\"dtau: \"+ str(dtau) + '\\n')\n",
    "\n",
    "np.savetxt(f, work, delimiter=',')"
   ]
  },
  {
   "cell_type": "code",
   "execution_count": 36,
   "metadata": {},
   "outputs": [
    {
     "data": {
      "image/png": "[encoded data removed]",
      "text/plain": [
       "<Figure size 432x288 with 1 Axes>"
      ]
     },
     "metadata": {
      "needs_background": "light"
     },
     "output_type": "display_data"
    }
   ],
   "source": [
    "#plot data and save figure\n",
    "nbins = 100\n",
    "plt.xlabel('Work')\n",
    "plt.ylabel('Count')\n",
    "data_str = f\"N: {N} \"+\"\\n\"+f\"mu_x: {mu_x}\"+\"\\n\"+f\"J_z: {Jz}\"+\"\\n\"+f\"beta: {beta}\"+\"\\n\"+f\"dbeta: {dbeta}\"+\"\\n\"+f\"T: {T}\"+\"\\n\"+f\"tau: {tau}\"+\"\\n\"+f\"dtau: {dtau}\" \n",
    "ax = plt.gca()\n",
    "ax.text(0.95, 0.95, data_str,\n",
    "        horizontalalignment='right',\n",
    "        verticalalignment='top',\n",
    "        transform=ax.transAxes)\n",
    "plt.hist(work, bins = nbins)\n",
    "\n",
    "#May or may not want to limit x-axis\n",
    "#plt.xlim(-0.1,0.1)\n",
    "fname = 'Jz_{}_mu_x_{}_beta_{}_hist.png'.format(Jz, mu_x, beta)\n",
    "plt.savefig(fname)\n",
    "plt.show()"
   ]
  },
  {
   "cell_type": "code",
   "execution_count": null,
   "metadata": {},
   "outputs": [],
   "source": []
  }
 ],
 "metadata": {
  "kernelspec": {
   "display_name": "Python 3",
   "language": "python",
   "name": "python3"
  },
  "language_info": {
   "codemirror_mode": {
    "name": "ipython",
    "version": 3
   },
   "file_extension": ".py",
   "mimetype": "text/x-python",
   "name": "python",
   "nbconvert_exporter": "python",
   "pygments_lexer": "ipython3",
   "version": "3.7.1"
  }
 },
 "nbformat": 4,
 "nbformat_minor": 4
}
