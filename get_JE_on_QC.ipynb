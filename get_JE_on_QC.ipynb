{
 "cells": [
  {
   "cell_type": "code",
   "execution_count": 3,
   "metadata": {},
   "outputs": [],
   "source": [
    "#import libraries and functions\n",
    "import numpy as np\n",
    "from arqtic.program import Program, random_bitstring\n",
    "from arqtic.hamiltonians import Ising_Hamiltonian\n",
    "from arqtic.arqtic_for_ibm import run_ibm\n",
    "import arqtic.QITE as qite\n",
    "import qiskit as qk\n",
    "from qiskit import Aer, IBMQ, execute\n",
    "import matplotlib.pyplot as plt"
   ]
  },
  {
   "cell_type": "code",
   "execution_count": 4,
   "metadata": {},
   "outputs": [],
   "source": [
    "#interfacing with IBM\n",
    "########################################\n",
    "#The following only needs to be run if this you very first time running this pynb, comment out all subsequent times\n",
    "#qk.IBMQ.save_account('API_token_here')\n",
    "#qk.IBMQ.load_account()\n",
    "########################################\n",
    "\n",
    "#set up simulator\n",
    "simulator = Aer.get_backend('qasm_simulator')\n",
    "#set optimization level for transpiler\n",
    "opt_level = 3"
   ]
  },
  {
   "cell_type": "code",
   "execution_count": 5,
   "metadata": {},
   "outputs": [],
   "source": [
    "#define post-processing functions\n",
    "#get amouot of work from QC results\n",
    "def get_work(results, shots):\n",
    "    work = 0\n",
    "    for result in results:\n",
    "        state_vec = result[0]\n",
    "        count = result[1]\n",
    "        work_comp = 0\n",
    "        for i in range(len(state_vec)):\n",
    "            if (state_vec[i] == 0):\n",
    "                work_comp += 1\n",
    "            else:\n",
    "                work_comp += -1\n",
    "        work_comp *= count\n",
    "        work += work_comp\n",
    "    work = work/shots\n",
    "    return work"
   ]
  },
  {
   "cell_type": "code",
   "execution_count": 6,
   "metadata": {},
   "outputs": [],
   "source": [
    "#define system variables\n",
    "N = 2 #number of qubits\n",
    "Jz = 0.1 #ising interaction strength !!! Not used for 1-qubit\n",
    "mu_x = 0.3 #transverse magnetic field strength\n",
    "param_free_ham = Ising_Hamiltonian(N, Jz, [mu_x, 0, 0]) #parameter-free Hamiltonian\n",
    "ising_ham0 = Ising_Hamiltonian(N, Jz, [mu_x, 0, 0]) #Hamiltonian at beginning of parameter sweep\n",
    "\n",
    "#define simulation variables\n",
    "tau = 10 #total trajectory time to evolve lambda from 0 to 1\n",
    "dtau = 1.0 #time-step for trajectory\n",
    "num_steps = int(tau/dtau)\n",
    "T = 100 #total number of trajectories\n",
    "dt =  dtau #timestep for Trotter approximation: setting equal to dtau means one trotter-step per time-step in evolution\n",
    "lambda_protocol = np.linspace(1.0, 0,num_steps)\n",
    "#print(lambda_protocol)\n",
    "dldt = (lambda_protocol[1]-lambda_protocol[0])/dtau # d(lambda)/d(tau)\n",
    "#print(dldt) \n",
    "shots = 1000\n",
    "\n",
    "#define QITE variables\n",
    "beta = 4.0 #inverse temperature of systems\n",
    "dbeta = 0.2 #step-size in beta for QITE\n",
    "domain = 2 #domain of opertators for QITE"
   ]
  },
  {
   "cell_type": "code",
   "execution_count": 7,
   "metadata": {},
   "outputs": [],
   "source": [
    "#create program to move to x-basis for measurement\n",
    "prog_xBasis = Program(N)\n",
    "prog_xBasis.get_x_basis_prog()\n",
    "\n",
    "#first state should be random\n",
    "measured_metts_state = random_bitstring(N)\n",
    "#subsequent entries are derived from running QMETTS on the previously derived\n",
    "#state and measuring a random observable to get the state for the subsequent run\n",
    "\n",
    "#need to sum work over each trajectory and then average over works\n",
    "work = []\n",
    "#loop over trajectories\n",
    "for i in range(T):\n",
    "    #print(i)\n",
    "    psi0 = qite.get_state_from_string(measured_metts_state)\n",
    "    prog_TS = Program(N)\n",
    "    prog_TS.make_ps_prog(measured_metts_state)\n",
    "    #print(measured_metts_state)\n",
    "    #print(\"PS circuit\")\n",
    "    #prog_TS.print_list()\n",
    "    prog_qite = Program(N)\n",
    "    #note QITE algorithm should evolve state by beta/2 for temperature beta\n",
    "    prog_qite.make_QITE_prog(ising_ham0, beta/2.0, dbeta, domain, np.asarray(psi0), 1.0)\n",
    "    #print(\"QITE circuit\")\n",
    "    #prog_qite.print_list()\n",
    "    prog_TS.append_program(prog_qite)\n",
    "    #print(\"TS circuit\")\n",
    "    #prog_TS.print_list()\n",
    "    #make and run qmetts program\n",
    "    prog_qmetts = Program(N)\n",
    "    prog_qmetts.append_program(prog_TS)\n",
    "    #make random measurement operator\n",
    "    if (i%2 == 0):\n",
    "        prog_qmetts.append_program(prog_xBasis)\n",
    "    #print(\"QMETTS circuit\")\n",
    "    #prog_qmetts.print_list()\n",
    "    results = run_ibm(simulator, prog_qmetts, opt_level)\n",
    "    #update measured metts state for next trajectory\n",
    "    measured_metts_state = results[0][0]\n",
    "    #make and run JE program\n",
    "    prog_JE = Program(N)\n",
    "    prog_JE.append_program(prog_TS)\n",
    "    #loop over time-steps in trajectory i\n",
    "    work_i = 0    \n",
    "    for step in range(num_steps):\n",
    "        #print(step)\n",
    "        #make Hamilton Evolution program for given time-step of given trajectory\n",
    "        prog_hamEvol = Program(N)\n",
    "        prog_hamEvol.make_hamEvol_prog(step, dtau, dt, lambda_protocol, param_free_ham)\n",
    "        #complete JE program: combing IPS preparation, QITE, and Hamiltonian evolution\n",
    "        prog_JE.append_program(prog_hamEvol)\n",
    "        prog_JE.append_program(prog_xBasis)\n",
    "        results = run_ibm(simulator, prog_JE, shots, opt_level)\n",
    "        #print(results)\n",
    "        #print(get_work(results, shots))\n",
    "        work_i += dldt*dtau*(-mu_x)*get_work(results, shots)\n",
    "    work.append(work_i)\n",
    "\n",
    "\n",
    "#print(work)\n",
    "\n",
    "#FE = get_free_energy(work)  !!This function not yet implemented"
   ]
  },
  {
   "cell_type": "code",
   "execution_count": 8,
   "metadata": {},
   "outputs": [
    {
     "name": "stdout",
     "output_type": "stream",
     "text": [
      "[0.035, -0.01766666666666667, -0.022733333333333355, -0.01453333333333333, -0.016333333333333342, -0.07306666666666671, -0.07020000000000003, -0.015933333333333338, -0.02300000000000001, -0.01346666666666667, -0.011266666666666671, -0.08166666666666675, -0.025399999999999992, -0.013733333333333347, -0.02426666666666668, -0.015000000000000001, 0.034133333333333335, -0.02233333333333337, -0.025333333333333367, -0.07240000000000003, -0.018000000000000002, -0.022000000000000013, 0.03040000000000001, -0.020999999999999998, -0.02600000000000003, -0.07946666666666669, -0.026666666666666675, -0.01986666666666666, -0.026466666666666666, -0.02306666666666666, -0.019733333333333332, -0.018999999999999982, -0.014933333333333356, -0.07626666666666669, -0.023066666666666683, -0.017666666666666664, 0.03133333333333334, -0.016333333333333318, 0.043333333333333335, -0.017799999999999983, -0.0146, -0.07093333333333338, -0.024133333333333354, -0.016066666666666698, 0.03506666666666667, -0.07133333333333333, -0.018066666666666686, -0.027133333333333315, -0.015933333333333348, 0.03226666666666668, -0.023533333333333344, -0.07333333333333338, -0.0818666666666667, -0.0208666666666667, 0.033466666666666686, -0.07600000000000001, 0.03613333333333335, -0.07593333333333335, -0.016000000000000014, -0.08146666666666669, -0.023000000000000007, -0.024333333333333342, 0.03893333333333336, -0.01826666666666667, -0.022066666666666665, -0.021333333333333343, -0.019866666666666675, -0.07573333333333337, -0.03053333333333335, -0.08533333333333333, -0.01393333333333334, -0.02013333333333335, -0.02373333333333335, -0.08166666666666669, -0.07626666666666668, -0.07520000000000004, -0.07460000000000003, -0.07726666666666669, -0.014866666666666677, -0.021133333333333344, 0.03246666666666667, -0.08146666666666667, -0.07466666666666671, -0.013466666666666682, -0.017066666666666674, -0.07426666666666668, -0.029400000000000016, -0.08080000000000002, -0.08520000000000005, -0.02113333333333333, -0.06473333333333338, -0.07373333333333336, -0.016266666666666665, -0.07693333333333335, -0.0214666666666667, -0.08246666666666673, -0.019533333333333354, -0.07700000000000005, -0.06806666666666669, -0.08013333333333333]\n",
      "-0.03207400000000002\n"
     ]
    }
   ],
   "source": [
    "print(work)\n",
    "print(np.mean(work))"
   ]
  },
  {
   "cell_type": "code",
   "execution_count": 9,
   "metadata": {},
   "outputs": [
    {
     "name": "stdout",
     "output_type": "stream",
     "text": [
      "-0.034511129952559526\n"
     ]
    }
   ],
   "source": [
    "#free energy is \n",
    "work_sum = 0\n",
    "for i in range(T):\n",
    "    work_sum += np.exp(-beta*work[i])\n",
    "work_avg = work_sum/T\n",
    "free_eng = (-1/beta)*np.log(work_avg)\n",
    "print(free_eng)"
   ]
  },
  {
   "cell_type": "code",
   "execution_count": null,
   "metadata": {},
   "outputs": [],
   "source": [
    "#save data to file\n",
    "fname = 'Jz_{}_mu_x_{}_beta_{}_hist.csv'.format(Jz,mu_x, beta)\n",
    "f = open(fname, 'w')\n",
    "f.write(\"N: \"+ str(N) + '\\n')\n",
    "f.write(\"mu_x: \"+ str(mu_x) + '\\n')\n",
    "f.write(\"Jz: \"+ str(Jz) + '\\n')\n",
    "f.write(\"beta: \"+ str(beta) + '\\n')\n",
    "f.write(\"dbeta: \"+ str(dbeta) + '\\n')\n",
    "f.write(\"T: \"+ str(T) + '\\n')\n",
    "f.write(\"tau: \"+ str(tau) + '\\n')\n",
    "f.write(\"dtau: \"+ str(dtau) + '\\n')\n",
    "\n",
    "np.savetxt(f, work, delimiter=',')"
   ]
  },
  {
   "cell_type": "code",
   "execution_count": 6,
   "metadata": {},
   "outputs": [
    {
     "data": {
      "image/png": "[encoded data removed]",
      "text/plain": [
       "<Figure size 432x288 with 1 Axes>"
      ]
     },
     "metadata": {
      "needs_background": "light"
     },
     "output_type": "display_data"
    }
   ],
   "source": [
    "#plot data and save figure\n",
    "nbins = 100\n",
    "plt.xlabel('Work')\n",
    "plt.ylabel('Count')\n",
    "#data_str = f\"N: {N} \"+\"\\n\"+f\"mu_x: {mu_x}\"+\"\\n\"+f\"J_z: {Jz}\"+\"\\n\"+f\"beta: {beta}\"+\"\\n\"+f\"dbeta: {dbeta}\"+\"\\n\"+f\"T: {T}\"+\"\\n\"+f\"tau: {tau}\"+\"\\n\"+f\"dtau: {dtau}\" \n",
    "#ax = plt.gca()\n",
    "#ax.text(0.95, 0.95, data_str,\n",
    "        #horizontalalignment='right',\n",
    "        #verticalalignment='top',\n",
    "        #transform=ax.transAxes)\n",
    "plt.hist(work, bins = nbins)\n",
    "\n",
    "#May or may not want to limit x-axis\n",
    "#plt.xlim(-0.1,0.1)\n",
    "#fname = 'Jz_{}_mu_x_{}_beta_{}_hist.png'.format(Jz, mu_x, beta)\n",
    "#plt.savefig(fname)\n",
    "plt.show()"
   ]
  },
  {
   "cell_type": "code",
   "execution_count": null,
   "metadata": {},
   "outputs": [],
   "source": []
  }
 ],
 "metadata": {
  "kernelspec": {
   "display_name": "Python 3",
   "language": "python",
   "name": "python3"
  },
  "language_info": {
   "codemirror_mode": {
    "name": "ipython",
    "version": 3
   },
   "file_extension": ".py",
   "mimetype": "text/x-python",
   "name": "python",
   "nbconvert_exporter": "python",
   "pygments_lexer": "ipython3",
   "version": "3.7.1"
  }
 },
 "nbformat": 4,
 "nbformat_minor": 4
}
