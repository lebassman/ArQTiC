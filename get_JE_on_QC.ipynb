{
 "cells": [
  {
   "cell_type": "code",
   "execution_count": 47,
   "metadata": {},
   "outputs": [],
   "source": [
    "#import libraries and functions\n",
    "import numpy as np\n",
    "from arqtic.program import Program, random_bitstring\n",
    "from arqtic.hamiltonians import Ising_Hamiltonian\n",
    "from arqtic.arqtic_for_ibm import run_ibm\n",
    "import arqtic.QITE as qite\n",
    "import qiskit as qk\n",
    "from qiskit import Aer, IBMQ, execute"
   ]
  },
  {
   "cell_type": "code",
   "execution_count": 53,
   "metadata": {},
   "outputs": [],
   "source": [
    "#interfacing with IBM\n",
    "########################################\n",
    "#The following only needs to be run if this you very first time running this pynb, comment out all subsequent times\n",
    "#qk.IBMQ.save_account('API_token_here')\n",
    "#qk.IBMQ.load_account()\n",
    "########################################\n",
    "\n",
    "#set up simulator\n",
    "simulator = Aer.get_backend('qasm_simulator')"
   ]
  },
  {
   "cell_type": "code",
   "execution_count": 48,
   "metadata": {},
   "outputs": [],
   "source": [
    "#define post-processing functions\n",
    "#get amouot of work from QC results\n",
    "def get_work(results, shots):\n",
    "    work = 0\n",
    "    for result in results:\n",
    "        state_vec = result[0]\n",
    "        count = result[1]\n",
    "        work_comp = 0\n",
    "        for i in range(len(state_vec)):\n",
    "            if (state_vec[i] == 0):\n",
    "                work_comp += 1\n",
    "            else:\n",
    "                work_comp += -1\n",
    "        work_comp *= count\n",
    "        work += work_comp\n",
    "    work = work/shots\n",
    "    return work"
   ]
  },
  {
   "cell_type": "code",
   "execution_count": 52,
   "metadata": {},
   "outputs": [],
   "source": [
    "#define system variables\n",
    "N = 1 #number of qubits\n",
    "Jz = 0.1 #ising interaction strength !!! Not used for 1-qubit\n",
    "mu_x = 0.35 #transverse magnetic field strength\n",
    "param_free_ham = Ising_Hamiltonian(N, Jz, [mu_x, 0, 0]) #parameter-free Hamiltonian\n",
    "ising_ham0 = Ising_Hamiltonian(N, Jz, [mu_x, 0, 0]) #Hamiltonian at beginning of parameter sweep\n",
    "\n",
    "#define simulation variables\n",
    "tau = 10 #total trajectory time to evolve lambda from 0 to 1\n",
    "dtau = 1.0 #time-step for trajectory\n",
    "num_steps = int(tau/dtau)\n",
    "T = 100 #total number of trajectories\n",
    "dt =  dtau #timestep for Trotter approximation: setting equal to dtau means one trotter-step per time-step in evolution\n",
    "lamba_protocol = np.linspace((dtau/tau),1.0,num_steps)\n",
    "dldt = 0.1 # d(lambda)/d(tau)\n",
    "shots = 1000\n",
    "\n",
    "#define QITE variables\n",
    "beta = 4.0 #inverse temperature of systems\n",
    "dbeta = 0.5 #step-size in beta for QITE\n",
    "domain = 1 #domain of opertators for QITE"
   ]
  },
  {
   "cell_type": "code",
   "execution_count": 54,
   "metadata": {},
   "outputs": [
    {
     "name": "stdout",
     "output_type": "stream",
     "text": [
      "[0.00014749874417865365, -0.0006405521653983574, 0.02908095370004399, 0.002338567013953381, 0.028656395802402947, 0.00025658580128508075, 0.0282037577100959, 0.00044623905656449475, -0.0011555305593725189, 0.0016570151113676577, -0.00016752392494195095, -7.515890796490239e-05, 0.000557159487064005, -0.0001905285439097834, 0.0009743182699777729, 0.000385988779241817, -0.0008550569402216398, 0.00226901620946082, -0.00036458514882534935, 3.409752945841837e-06, 0.0004877935458860366, 0.00023697634708439648, -0.00045543673376755646, 0.027766634216621695, 0.02986682357413248, -0.00021630348903269468, 0.028993168820946914, 0.0016875151372482827, 0.002093115010137812, 0.0005230290387427924, -0.00033928173404535063, 0.0014725132712438494, -0.0005998292456020683, 0.0005946153437697286, 0.002043495339504473, 0.0020902673974370536, 0.0017235625540794343, 0.0019518126247145323, 0.0009583589755799621, 7.759727944623221e-05, 0.00197452606872213, 0.028750048996541388, 0.0016440848723988286, 0.001094865564558829, 0.02919971595520561, 0.0008126658342632833, -1.0259195970349633e-05, 0.000528114342600742, 0.00035496972709966824, 0.002491274353330274, 0.02872545592100817, 0.0011355705679016032, 0.028302862073177754, 0.0008803615591010367, 0.0012653531429806656, 0.0002790606498071897, -0.001767848460221482, 0.0012446726837712892, 0.0005508463725272276, 0.00200937236049539, 0.027953894033671076, 0.0024770905695945134, -0.0014126614456215628, 0.00010093787772263683, 0.0005422935578372275, 0.0010134265004904692, 0.00239585134338963, 0.00010180271159830143, 0.0001460820753646683, 0.0010323446700082018, 0.002535236809753321, -0.0018859686767865216, 0.0006536398413546115, 0.00192774047575676, 0.028573290862047695, 0.0008083802819666614, 0.028387743473410103, -0.0012514978536004489, 0.002201464173057736, -0.0007939159671454076, 0.0005560653266858613, 0.002264965749651721, 0.028882467308134867, 0.00013620304427009854, 0.0003153454696648058, 5.75872207226373e-05, 0.00011943590383087943, 0.0009943707969309581, 0.0014167331851873057, 0.00022495842961990414, 0.029371123078905506, 0.0015730208540872667, 0.0013728602621976766, 0.0005551147652613301, 0.0002245019547095125, 0.000653267359136465, 0.02844159981712725, -0.0021275799292893353, 0.00022012489361392747, 0.02828521250569055]\n"
     ]
    }
   ],
   "source": [
    "#create program to move to x-basis for measurement\n",
    "prog_xBasis = Program(N)\n",
    "prog_xBasis.get_x_basis_prog()\n",
    "\n",
    "#first state should be random\n",
    "measured_metts_state = random_bitstring(N)\n",
    "#subsequent entries are derived from running QMETTS on the previously derived\n",
    "#state and measuring a random observable to get the state for the subsequent run\n",
    "\n",
    "#need to sum work over each trajectory and then average over works\n",
    "work = []\n",
    "#loop over trajectories\n",
    "for i in range(T):\n",
    "    #print(i)\n",
    "    psi0 = qite.get_state_from_string(measured_metts_state)\n",
    "    prog_TS = Program(N)\n",
    "    prog_TS.make_ps_prog(measured_metts_state)\n",
    "    #print(measured_metts_state)\n",
    "    #print(\"PS circuit\")\n",
    "    #prog_TS.print_list()\n",
    "    prog_qite = Program(N)\n",
    "    #note QITE algorithm should evolve state by beta/2 for temperature beta\n",
    "    prog_qite.make_QITE_prog(ising_ham0, beta/2.0, dbeta, domain, np.asarray(psi0), 1.0)\n",
    "    #print(\"QITE circuit\")\n",
    "    #prog_qite.print_list()\n",
    "    prog_TS.append_program(prog_qite)\n",
    "    #print(\"TS circuit\")\n",
    "    #prog_TS.print_list()\n",
    "    #make and run qmetts program\n",
    "    prog_qmetts = Program(N)\n",
    "    prog_qmetts.append_program(prog_TS)\n",
    "    #make random measurement operator\n",
    "    if (i%2 == 0):\n",
    "        prog_qmetts.append_program(prog_xBasis)\n",
    "    #print(\"QMETTS circuit\")\n",
    "    #prog_qmetts.print_list()\n",
    "    results = run_ibm(simulator, prog_qmetts,1)\n",
    "    #update measured metts state for next trajectory\n",
    "    measured_metts_state = results[0][0]\n",
    "    #make and run JE program\n",
    "    prog_JE = Program(N)\n",
    "    prog_JE.append_program(prog_TS)\n",
    "    #loop over time-steps in trajectory i\n",
    "    work_i = 0    \n",
    "    for step in range(num_steps):\n",
    "        #print(step)\n",
    "        #make Hamilton Evolution program for given time-step of given trajectory\n",
    "        prog_hamEvol = Program(N)\n",
    "        prog_hamEvol.make_hamEvol_prog(step, dtau, dt, lamba_protocol, param_free_ham)\n",
    "        #complete JE program: combing IPS preparation, QITE, and Hamiltonian evolution\n",
    "        prog_JE.append_program(prog_hamEvol)\n",
    "        prog_JE.append_program(prog_xBasis)\n",
    "        results = run_ibm(simulator, prog_JE, shots)\n",
    "        #print(results)\n",
    "        #print(get_work(results, shots))\n",
    "        work_i += dldt*dtau*get_work(results, shots)\n",
    "        work_i *= mu_x\n",
    "    work.append(work_i)\n",
    "\n",
    "\n",
    "print(work)\n",
    "\n",
    "#FE = get_free_energy(work)  !!This function not yet implemented"
   ]
  },
  {
   "cell_type": "code",
   "execution_count": null,
   "metadata": {},
   "outputs": [],
   "source": []
  }
 ],
 "metadata": {
  "kernelspec": {
   "display_name": "Python 3",
   "language": "python",
   "name": "python3"
  },
  "language_info": {
   "codemirror_mode": {
    "name": "ipython",
    "version": 3
   },
   "file_extension": ".py",
   "mimetype": "text/x-python",
   "name": "python",
   "nbconvert_exporter": "python",
   "pygments_lexer": "ipython3",
   "version": "3.7.1"
  }
 },
 "nbformat": 4,
 "nbformat_minor": 4
}
