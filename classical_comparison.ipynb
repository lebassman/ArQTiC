{
 "cells": [
  {
   "cell_type": "code",
   "execution_count": 1,
   "metadata": {},
   "outputs": [],
   "source": [
    "#import libraries and functions\n",
    "import numpy as np\n",
    "import scipy.linalg as la"
   ]
  },
  {
   "cell_type": "code",
   "execution_count": 2,
   "metadata": {},
   "outputs": [],
   "source": [
    "#Pauli matrices\n",
    "sx = np.array([[0, 1], [1, 0]])\n",
    "sy = np.array([[0, -1j], [1j, 0]])\n",
    "sz = np.array([[1, 0], [0, -1]])"
   ]
  },
  {
   "cell_type": "code",
   "execution_count": 6,
   "metadata": {},
   "outputs": [],
   "source": [
    "#setup inital hamiltonian\n",
    "msize = 4\n",
    "J=1\n",
    "g=1\n",
    "hinit = np.zeros((msize, msize), dtype=np.complex128)\n",
    "hinit+=-J*np.kron(sz,sz)\n",
    "hinit+=-g*np.kron(sx,np.eye(2))\n",
    "hinit+=-g*np.kron(np.eye(2),sx)"
   ]
  },
  {
   "cell_type": "code",
   "execution_count": 7,
   "metadata": {},
   "outputs": [],
   "source": [
    "#setup final hamiltonian; assuming lambda is in front of the x field\n",
    "hfin = np.zeros((msize, msize), dtype=np.complex128)\n",
    "hfin+=-J*np.kron(sz,sz)"
   ]
  },
  {
   "cell_type": "code",
   "execution_count": 14,
   "metadata": {},
   "outputs": [],
   "source": [
    "tau = 10 #total trajectory time to evolve lambda from 0 to 1\n",
    "dtau = 1.0 #time-step for trajectory\n",
    "num_steps = int(tau/dtau)\n",
    "beta = 4.0 #inverse temperature of systems"
   ]
  },
  {
   "cell_type": "code",
   "execution_count": 15,
   "metadata": {},
   "outputs": [],
   "source": [
    "eigvals_i, eigvecs_i = la.eig(hinit) # eigenvalues of the initial state\n",
    "eigvals_f, eigvecs_f = la.eig(hfin) # eigenvalues of the final"
   ]
  },
  {
   "cell_type": "code",
   "execution_count": 19,
   "metadata": {},
   "outputs": [],
   "source": [
    "#calculate the initial partition function\n",
    "zval_i = 0\n",
    "for ival in eigvals_i:\n",
    "    zval_i = zval_i +np.real(np.exp(-beta*ival))\n",
    "\n",
    "#calculate the final partition function\n",
    "zval_f = 0\n",
    "for ival in eigvals_f:\n",
    "    zval_f = zval_f +np.real(np.exp(-beta*ival))"
   ]
  },
  {
   "cell_type": "code",
   "execution_count": 21,
   "metadata": {},
   "outputs": [
    {
     "name": "stdout",
     "output_type": "stream",
     "text": [
      "7718.483169746547 109.23293134406595 4.25789055617836\n"
     ]
    }
   ],
   "source": [
    "# free energy difference to compare\n",
    "print(zval_i,zval_f,-np.log(zval_f)+np.log(zval_i))"
   ]
  },
  {
   "cell_type": "code",
   "execution_count": 20,
   "metadata": {},
   "outputs": [],
   "source": [
    "#iterate through our protocol--maybe just make this the full loop\n",
    "for i in range(num_steps):\n",
    "    hnew = hinit-i*(-g*np.kron(sx,np.eye(2))+-g*np.kron(np.eye(2),sx))*num_steps\n",
    "    nprop.append(hinit+hnew) # check if this is correct..."
   ]
  },
  {
   "cell_type": "code",
   "execution_count": null,
   "metadata": {},
   "outputs": [],
   "source": []
  }
 ],
 "metadata": {
  "kernelspec": {
   "display_name": "Python 3",
   "language": "python",
   "name": "python3"
  },
  "language_info": {
   "codemirror_mode": {
    "name": "ipython",
    "version": 3
   },
   "file_extension": ".py",
   "mimetype": "text/x-python",
   "name": "python",
   "nbconvert_exporter": "python",
   "pygments_lexer": "ipython3",
   "version": "3.7.6"
  }
 },
 "nbformat": 4,
 "nbformat_minor": 4
}
