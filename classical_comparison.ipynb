{
 "cells": [
  {
   "cell_type": "code",
   "execution_count": 85,
   "metadata": {},
   "outputs": [],
   "source": [
    "#import libraries and functions\n",
    "import numpy as np\n",
    "import scipy.linalg as la\n",
    "import random\n",
    "import matplotlib.pyplot as plt"
   ]
  },
  {
   "cell_type": "code",
   "execution_count": 86,
   "metadata": {},
   "outputs": [],
   "source": [
    "#Pauli matrices\n",
    "sx = np.array([[0, 1], [1, 0]])\n",
    "sy = np.array([[0, -1j], [1j, 0]])\n",
    "sz = np.array([[1, 0], [0, -1]])"
   ]
  },
  {
   "cell_type": "code",
   "execution_count": 87,
   "metadata": {},
   "outputs": [],
   "source": [
    "#setup inital hamiltonian\n",
    "N = 2 #number of qubits\n",
    "msize = 2**N\n",
    "J=1\n",
    "g=1\n",
    "hinit = np.zeros((msize, msize), dtype=np.complex128)\n",
    "hinit+=-J*np.kron(sz,sz)\n",
    "hinit+=-g*np.kron(sx,np.eye(2))\n",
    "hinit+=-g*np.kron(np.eye(2),sx)"
   ]
  },
  {
   "cell_type": "code",
   "execution_count": 88,
   "metadata": {},
   "outputs": [],
   "source": [
    "#setup final hamiltonian; assuming lambda is in front of the x field\n",
    "hfin = np.zeros((msize, msize), dtype=np.complex128)\n",
    "hfin+=-J*np.kron(sz,sz)"
   ]
  },
  {
   "cell_type": "code",
   "execution_count": 89,
   "metadata": {},
   "outputs": [],
   "source": [
    "eigvals_i, eigvecs_i = la.eig(hinit) # eigenvalues of the initial state\n",
    "eigvals_f, eigvecs_f = la.eig(hfin) # eigenvalues of the final"
   ]
  },
  {
   "cell_type": "code",
   "execution_count": 90,
   "metadata": {},
   "outputs": [],
   "source": [
    "#calculate the initial partition function\n",
    "zval_i = 0\n",
    "for ival in eigvals_i:\n",
    "    zval_i = zval_i +np.real(np.exp(-beta*ival))\n",
    "\n",
    "#calculate the final partition function\n",
    "zval_f = 0\n",
    "for ival in eigvals_f:\n",
    "    zval_f = zval_f +np.real(np.exp(-beta*ival))"
   ]
  },
  {
   "cell_type": "code",
   "execution_count": 91,
   "metadata": {},
   "outputs": [
    {
     "name": "stdout",
     "output_type": "stream",
     "text": [
      "7718.483169746547 109.23293134406595 4.25789055617836\n"
     ]
    }
   ],
   "source": [
    "# free energy difference to compare\n",
    "print(zval_i,zval_f,-np.log(zval_f)+np.log(zval_i))"
   ]
  },
  {
   "cell_type": "code",
   "execution_count": 107,
   "metadata": {},
   "outputs": [
    {
     "name": "stdout",
     "output_type": "stream",
     "text": [
      "[1.         0.88888889 0.77777778 0.66666667 0.55555556 0.44444444\n",
      " 0.33333333 0.22222222 0.11111111 0.        ]\n",
      "-0.11111111111111116\n"
     ]
    }
   ],
   "source": [
    "#define simulation variables\n",
    "tau = 10 #total trajectory time to evolve lambda from 0 to 1\n",
    "dtau = 1.0 #time-step for trajectory\n",
    "num_steps = int(tau/dtau)\n",
    "T = 10 #total number of trajectories\n",
    "dt =  dtau #timestep for Trotter approximation: setting equal to dtau means one trotter-step per time-step in evolution\n",
    "lambda_protocol = np.linspace(1.0, 0,num_steps)\n",
    "print(lambda_protocol)\n",
    "dldt = (lambda_protocol[1]-lambda_protocol[0])/dtau # d(lambda)/d(tau)\n",
    "print(dldt) \n",
    "beta = 4.0 #inverse temperature of systems\n",
    "mu_x = 0.3 #transverse magnetic field strength"
   ]
  },
  {
   "cell_type": "code",
   "execution_count": 110,
   "metadata": {},
   "outputs": [],
   "source": [
    "work = [] #append values of work that we get out\n",
    "\n",
    "for i in range(T):\n",
    "    #choose a random number\n",
    "    asv = random.uniform(0, 1)\n",
    "\n",
    "    #pick a state to propogate with the correct probability\n",
    "    select = 0\n",
    "    scum = 0\n",
    "    for ival in range(msize):\n",
    "       scum = scum+np.real(np.exp(-beta*eigvals_i[ival]))/zval_i\n",
    "       if scum > asv: select = ival\n",
    "       if scum > asv: break\n",
    "\n",
    "    curstate =  eigvecs_i[:,select]\n",
    "\n",
    "    #iterate through our protocol\n",
    "    v = curstate\n",
    "    o = np.kron(np.eye(2), sz) + np.kron(sz,np.eye(2))\n",
    "    work_i = 0\n",
    "    for j in range(num_steps):\n",
    "        hnew = hinit-j*(-g*np.kron(sx,np.eye(2))+-g*np.kron(np.eye(2),sx))*num_steps\n",
    "        w = la.expm(-1j*dt*hnew) @ v\n",
    "        v = w\n",
    "        m = v.conjugate().T @ o @ v #measure the magnetization; check with Lindsay\n",
    "        work_i += -*mu_x*m*dldt*dtau #check with Lindsay\n",
    "\n",
    "    work.append(work_i)"
   ]
  },
  {
   "cell_type": "code",
   "execution_count": 111,
   "metadata": {},
   "outputs": [
    {
     "name": "stdout",
     "output_type": "stream",
     "text": [
      "[(-9.80711460233427e-18+0j), (-9.80711460233427e-18+0j), (-9.80711460233427e-18+0j), (-9.80711460233427e-18+0j), (-9.80711460233427e-18+0j), (-9.80711460233427e-18+0j), (-9.80711460233427e-18+0j), (-9.80711460233427e-18+0j), (-9.80711460233427e-18+0j), (-9.80711460233427e-18+0j)]\n"
     ]
    }
   ],
   "source": [
    "print(work)"
   ]
  },
  {
   "cell_type": "code",
   "execution_count": 100,
   "metadata": {},
   "outputs": [],
   "source": [
    "#save data to file\n",
    "fname = 'mu_x_{}_beta_{}_hist.csv'.format(mu_x, beta)\n",
    "f = open(fname, 'w')\n",
    "f.write(\"N: \"+ str(N) + '\\n')\n",
    "f.write(\"mu_x: \"+ str(mu_x) + '\\n')\n",
    "f.write(\"beta: \"+ str(beta) + '\\n')\n",
    "f.write(\"T: \"+ str(T) + '\\n')\n",
    "f.write(\"tau: \"+ str(tau) + '\\n')\n",
    "f.write(\"dtau: \"+ str(dtau) + '\\n')\n",
    "\n",
    "np.savetxt(f, work, delimiter=',')"
   ]
  },
  {
   "cell_type": "code",
   "execution_count": 101,
   "metadata": {},
   "outputs": [
    {
     "data": {
      "image/png": "[encoded data removed]",
      "text/plain": [
       "<Figure size 432x288 with 1 Axes>"
      ]
     },
     "metadata": {
      "needs_background": "light"
     },
     "output_type": "display_data"
    }
   ],
   "source": [
    "#plot data and save figure\n",
    "nbins = 100\n",
    "plt.xlabel('Work')\n",
    "plt.ylabel('Count')\n",
    "data_str = f\"N: {N} \"+\"\\n\"+f\"mu_x: {mu_x}\"+\"\\n\"+f\"beta: {beta}\"+\"\\n\"+f\"T: {T}\"+\"\\n\"+f\"tau: {tau}\"+\"\\n\"+f\"dtau: {dtau}\" \n",
    "ax = plt.gca()\n",
    "ax.text(0.95, 0.95, data_str,\n",
    "        horizontalalignment='right',\n",
    "        verticalalignment='top',\n",
    "        transform=ax.transAxes)\n",
    "plt.hist(work, bins = nbins)\n",
    "\n",
    "#May or may not want to limit x-axis\n",
    "plt.xlim(-0.1,0.1)\n",
    "fname = 'mu_x_{}_beta_{}_hist.png'.format(mu_x, beta)\n",
    "plt.savefig(fname)\n",
    "plt.show()"
   ]
  },
  {
   "cell_type": "code",
   "execution_count": null,
   "metadata": {},
   "outputs": [],
   "source": []
  }
 ],
 "metadata": {
  "kernelspec": {
   "display_name": "Python 3",
   "language": "python",
   "name": "python3"
  },
  "language_info": {
   "codemirror_mode": {
    "name": "ipython",
    "version": 3
   },
   "file_extension": ".py",
   "mimetype": "text/x-python",
   "name": "python",
   "nbconvert_exporter": "python",
   "pygments_lexer": "ipython3",
   "version": "3.7.6"
  }
 },
 "nbformat": 4,
 "nbformat_minor": 4
}
