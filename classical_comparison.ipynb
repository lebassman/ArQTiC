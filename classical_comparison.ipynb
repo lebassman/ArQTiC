{
 "cells": [
  {
   "cell_type": "code",
   "execution_count": 22,
   "metadata": {},
   "outputs": [],
   "source": [
    "#import libraries and functions\n",
    "import numpy as np\n",
    "import scipy.linalg as la\n",
    "import random"
   ]
  },
  {
   "cell_type": "code",
   "execution_count": 23,
   "metadata": {},
   "outputs": [],
   "source": [
    "#Pauli matrices\n",
    "sx = np.array([[0, 1], [1, 0]])\n",
    "sy = np.array([[0, -1j], [1j, 0]])\n",
    "sz = np.array([[1, 0], [0, -1]])"
   ]
  },
  {
   "cell_type": "code",
   "execution_count": 24,
   "metadata": {},
   "outputs": [],
   "source": [
    "#setup inital hamiltonian\n",
    "msize = 4\n",
    "J=1\n",
    "g=1\n",
    "hinit = np.zeros((msize, msize), dtype=np.complex128)\n",
    "hinit+=-J*np.kron(sz,sz)\n",
    "hinit+=-g*np.kron(sx,np.eye(2))\n",
    "hinit+=-g*np.kron(np.eye(2),sx)"
   ]
  },
  {
   "cell_type": "code",
   "execution_count": 25,
   "metadata": {},
   "outputs": [],
   "source": [
    "#setup final hamiltonian; assuming lambda is in front of the x field\n",
    "hfin = np.zeros((msize, msize), dtype=np.complex128)\n",
    "hfin+=-J*np.kron(sz,sz)"
   ]
  },
  {
   "cell_type": "code",
   "execution_count": 26,
   "metadata": {},
   "outputs": [],
   "source": [
    "tau = 10 #total trajectory time to evolve lambda from 0 to 1\n",
    "dtau = 1.0 #time-step for trajectory\n",
    "num_steps = int(tau/dtau)\n",
    "beta = 4.0 #inverse temperature of systems"
   ]
  },
  {
   "cell_type": "code",
   "execution_count": 27,
   "metadata": {},
   "outputs": [],
   "source": [
    "eigvals_i, eigvecs_i = la.eig(hinit) # eigenvalues of the initial state\n",
    "eigvals_f, eigvecs_f = la.eig(hfin) # eigenvalues of the final"
   ]
  },
  {
   "cell_type": "code",
   "execution_count": 28,
   "metadata": {},
   "outputs": [],
   "source": [
    "#calculate the initial partition function\n",
    "zval_i = 0\n",
    "for ival in eigvals_i:\n",
    "    zval_i = zval_i +np.real(np.exp(-beta*ival))\n",
    "\n",
    "#calculate the final partition function\n",
    "zval_f = 0\n",
    "for ival in eigvals_f:\n",
    "    zval_f = zval_f +np.real(np.exp(-beta*ival))"
   ]
  },
  {
   "cell_type": "code",
   "execution_count": 29,
   "metadata": {},
   "outputs": [
    {
     "name": "stdout",
     "output_type": "stream",
     "text": [
      "7718.483169746547 109.23293134406595 4.25789055617836\n"
     ]
    }
   ],
   "source": [
    "# free energy difference to compare\n",
    "print(zval_i,zval_f,-np.log(zval_f)+np.log(zval_i))"
   ]
  },
  {
   "cell_type": "code",
   "execution_count": null,
   "metadata": {},
   "outputs": [],
   "source": [
    "work = []"
   ]
  },
  {
   "cell_type": "code",
   "execution_count": null,
   "metadata": {},
   "outputs": [],
   "source": [
    "#define simulation variables\n",
    "tau = 10 #total trajectory time to evolve lambda from 0 to 1\n",
    "dtau = 1.0 #time-step for trajectory\n",
    "num_steps = int(tau/dtau)\n",
    "T = 1000 #total number of trajectories\n",
    "dt =  dtau #timestep for Trotter approximation: setting equal to dtau means one trotter-step per time-step in evolution\n",
    "lambda_protocol = np.linspace(1.0, 0,num_steps)\n",
    "print(lambda_protocol)\n",
    "dldt = (lambda_protocol[1]-lambda_protocol[0])/dtau # d(lambda)/d(tau)\n",
    "print(dldt) "
   ]
  },
  {
   "cell_type": "code",
   "execution_count": 38,
   "metadata": {},
   "outputs": [],
   "source": [
    "#choose a random number\n",
    "asv = random.uniform(0, 1)\n",
    "\n",
    "#pick a state to propogate with the correct probability\n",
    "select = 0\n",
    "scum = 0\n",
    "for ival in range(msize):\n",
    "   scum = scum+np.real(np.exp(-beta*eigvals_i[ival]))/zval_i\n",
    "   if scum > asv: select = ival\n",
    "   if scum > asv: break\n",
    "\n",
    "curstate =  eigvecs_i[:,select]"
   ]
  },
  {
   "cell_type": "code",
   "execution_count": 43,
   "metadata": {},
   "outputs": [],
   "source": [
    "#iterate through our protocol--maybe just make this the full loop\n",
    "v = curstate\n",
    "o = np.kron(numpy.eye(2), sz) + np.kron(sz,numpy.eye(2))\n",
    "work_i = 0\n",
    "for i in range(num_steps):\n",
    "    hnew = hinit-i*(-g*np.kron(sx,np.eye(2))+-g*np.kron(np.eye(2),sx))*num_steps\n",
    "    w = la.expm(-1j*dtau*hnew) @ v\n",
    "    v = w\n",
    "    m = v.conjugate().T @ o @ v #measure the magnetization\n",
    "    work_i += m*dtau*"
   ]
  },
  {
   "cell_type": "code",
   "execution_count": null,
   "metadata": {},
   "outputs": [],
   "source": [
    "work.append(work_i)"
   ]
  }
 ],
 "metadata": {
  "kernelspec": {
   "display_name": "Python 3",
   "language": "python",
   "name": "python3"
  },
  "language_info": {
   "codemirror_mode": {
    "name": "ipython",
    "version": 3
   },
   "file_extension": ".py",
   "mimetype": "text/x-python",
   "name": "python",
   "nbconvert_exporter": "python",
   "pygments_lexer": "ipython3",
   "version": "3.7.6"
  }
 },
 "nbformat": 4,
 "nbformat_minor": 4
}
